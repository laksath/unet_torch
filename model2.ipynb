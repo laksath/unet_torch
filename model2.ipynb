{
 "cells": [
  {
   "cell_type": "code",
   "execution_count": 1,
   "metadata": {},
   "outputs": [],
   "source": [
    "# import the necessary packages\n",
    "import torch\n",
    "import os\n",
    "from torch.utils.data import Dataset\n",
    "import numpy as np\n",
    "import matplotlib.pyplot as plt\n",
    "import cv2"
   ]
  },
  {
   "cell_type": "code",
   "execution_count": 2,
   "metadata": {},
   "outputs": [],
   "source": [
    "# determine the device to be used for training and evaluation\n",
    "DEVICE = \"cuda\" if torch.cuda.is_available() else \"cpu\"\n",
    "# determine if we will be pinning memory during data loading\n",
    "PIN_MEMORY = True if DEVICE == \"cuda\" else False"
   ]
  },
  {
   "cell_type": "code",
   "execution_count": 3,
   "metadata": {},
   "outputs": [],
   "source": [
    "# define the number of channels in the input, number of classes,\n",
    "# and number of levels in the U-Net model\n",
    "NUM_CHANNELS = 1\n",
    "NUM_CLASSES = 1\n",
    "NUM_LEVELS = 3\n",
    "\n",
    "# initialize learning rate, number of epochs to train for, and the\n",
    "# batch size\n",
    "INIT_LR = 0.001\n",
    "NUM_EPOCHS = 200\n",
    "BATCH_SIZE = 32\n",
    "\n",
    "# define the input image dimensions\n",
    "INPUT_IMAGE_WIDTH = 256\n",
    "INPUT_IMAGE_HEIGHT = 256\n",
    "\n",
    "# define threshold to filter weak predictions\n",
    "THRESHOLD = 0.5\n",
    "\n",
    "# define the path to the base output directory\n",
    "BASE_OUTPUT = \"output\"\n",
    "\n",
    "# define the path to the output serialized model, model training\n",
    "# plot, and testing image paths\n",
    "MODEL_PATH = os.path.join(BASE_OUTPUT, \"unet.pth\")\n",
    "PLOT_PATH = os.path.sep.join([BASE_OUTPUT, \"plot.png\"])\n",
    "TEST_PATHS = os.path.sep.join([BASE_OUTPUT, \"test_paths.txt\"])"
   ]
  },
  {
   "cell_type": "code",
   "execution_count": 4,
   "metadata": {},
   "outputs": [],
   "source": [
    "subdir = [\"benign_image/\", \"benign_mask/\", \"malignant_image/\",\n",
    "          \"malignant_mask/\", \"normal_image/\", \"normal_mask/\"]\n",
    "dataset = ['dataset/','train/', 'test/', 'validation/']\n",
    "\n",
    "train_test_valid = [[[], [], []], [[], [], []], [[], [], []]]\n",
    "\n",
    "for i in range(1, len(dataset)):\n",
    "    for j in range(3):\n",
    "    # for j in range(2):\n",
    "        for k in range(len(os.listdir(dataset[0]+dataset[i]+subdir[j*2]))):\n",
    "            train_test_valid[i-1][0].append(plt.imread(\n",
    "                dataset[0]+dataset[i]+subdir[j*2]+str(k)+\".jpeg\"))\n",
    "            train_test_valid[i-1][1].append(plt.imread(\n",
    "                dataset[0]+dataset[i]+subdir[j*2+1]+str(k)+\".jpeg\"))\n",
    "            train_test_valid[i-1][2].append(j)\n",
    "\n",
    "X_train_npy = np.asarray(train_test_valid[0][0], dtype=np.float32)/255\n",
    "y_train_npy = np.asarray(train_test_valid[0][1], dtype=np.float32)/255\n",
    "\n",
    "X_test_npy = np.asarray(train_test_valid[1][0], dtype=np.float32)/255\n",
    "y_test_npy = np.asarray(train_test_valid[1][1], dtype=np.float32)/255\n",
    "\n",
    "X_valid_npy = np.asarray(train_test_valid[2][0], dtype=np.float32)/255\n",
    "y_valid_npy = np.asarray(train_test_valid[2][1], dtype=np.float32)/255"
   ]
  },
  {
   "cell_type": "code",
   "execution_count": 5,
   "metadata": {},
   "outputs": [],
   "source": [
    "class SegmentationDataset(Dataset):\n",
    "\n",
    "\tdef __init__(self, X, y, transforms):\n",
    "\t\tself.X = X\n",
    "\t\tself.y = y\n",
    "\t\tself.transforms = transforms\n",
    "\n",
    "\tdef __len__(self):\n",
    "\t\treturn len(self.y)\n",
    "\n",
    "\tdef __getitem__(self, idx):\n",
    "\t\t\n",
    "\t\timage = self.X[idx]\n",
    "\t\tmask = self.y[idx]\n",
    "  \n",
    "\t\tif self.transforms is not None:\n",
    "\t\t\timage = self.transforms(image)\n",
    "\t\t\tmask = self.transforms(mask)\n",
    "   \n",
    "\t\t# return a tuple of the image and its mask\n",
    "\t\treturn (image, mask)"
   ]
  },
  {
   "cell_type": "code",
   "execution_count": 6,
   "metadata": {},
   "outputs": [],
   "source": [
    "# import the necessary packages\n",
    "from torch.nn import ConvTranspose2d\n",
    "from torch.nn import Conv2d\n",
    "from torch.nn import MaxPool2d\n",
    "from torch.nn import Module\n",
    "from torch.nn import ModuleList\n",
    "from torch.nn import ReLU\n",
    "from torchvision.transforms import CenterCrop\n",
    "from torch.nn import functional as F\n",
    "import torch.nn as nn"
   ]
  },
  {
   "cell_type": "code",
   "execution_count": 7,
   "metadata": {},
   "outputs": [],
   "source": [
    "class DoubleConv(nn.Module):\n",
    "    \n",
    "    def __init__(self, in_channels, out_channels, mid_channels=None):\n",
    "        super().__init__()\n",
    "        \n",
    "        if not mid_channels:\n",
    "            mid_channels = out_channels\n",
    "            \n",
    "        self.double_conv = nn.Sequential(\n",
    "            nn.Conv2d(in_channels, mid_channels, kernel_size=3, padding=1, bias=False),\n",
    "            nn.BatchNorm2d(mid_channels),\n",
    "            nn.ReLU(inplace=True),\n",
    "            nn.Conv2d(mid_channels, out_channels, kernel_size=3, padding=1, bias=False),\n",
    "            nn.BatchNorm2d(out_channels),\n",
    "            nn.ReLU(inplace=True)\n",
    "        )\n",
    "\n",
    "    def forward(self, x):\n",
    "        return self.double_conv(x)\n",
    "    \n",
    "class Encoder(nn.Module):\n",
    "\n",
    "    def __init__(self, in_channels, out_channels):\n",
    "        super().__init__()\n",
    "        \n",
    "        self.max = nn.MaxPool2d(2)\n",
    "        self.conv_block = DoubleConv(in_channels, out_channels)\n",
    "        # self.dropout = nn.Dropout2d(p=0.3)\n",
    "\n",
    "    def forward(self, x):\n",
    "        \n",
    "        conv = self.conv_block(x)\n",
    "        pool = self.max(conv)\n",
    "        # drop = self.dropout(pool)\n",
    "        \n",
    "        # return conv, drop\n",
    "        return conv, pool"
   ]
  },
  {
   "cell_type": "code",
   "execution_count": 8,
   "metadata": {},
   "outputs": [],
   "source": [
    "class DecoderB1(nn.Module):\n",
    "    \n",
    "    def __init__(self, in_channels, out_channels):\n",
    "        super().__init__()\n",
    "        \n",
    "        self.conv_transpose = nn.ConvTranspose2d(in_channels, out_channels, kernel_size=2, stride=2)\n",
    "        self.conv_block = DoubleConv(in_channels, out_channels)\n",
    "        # self.dropout = nn.Dropout2d(p=0.3)\n",
    "    \n",
    "    def forward(self, x, skip_features):\n",
    "\n",
    "        x = self.conv_transpose(x)\n",
    "        x = torch.cat([x, skip_features],dim=1)\n",
    "        # x = self.dropout(x)\n",
    "        x = self.conv_block(x)\n",
    "\n",
    "        return x\n",
    "\n",
    "class DecoderB2(nn.Module):\n",
    "    \n",
    "    def __init__(self, in_channels, out_channels):\n",
    "        super().__init__()\n",
    "        \n",
    "        self.conv_transpose = nn.ConvTranspose2d(in_channels, out_channels, kernel_size=2, stride=2)\n",
    "        self.conv_block = DoubleConv(in_channels, out_channels)\n",
    "        # self.dropout = nn.Dropout2d(p=0.3)\n",
    "    \n",
    "    def forward(self, x, skip_features):\n",
    "\n",
    "        x = self.conv_transpose(x)\n",
    "        x = torch.cat([x, skip_features],dim=1)\n",
    "        # x = self.dropout(x)\n",
    "        x = self.conv_block(x)\n",
    "\n",
    "        return x"
   ]
  },
  {
   "cell_type": "code",
   "execution_count": 9,
   "metadata": {},
   "outputs": [],
   "source": [
    "class Branch1(nn.Module):\n",
    "    def __init__(self, in_channels, mid_channels, out_channels):\n",
    "        super().__init__()\n",
    "        \n",
    "        self.conv_block = DoubleConv(in_channels, mid_channels)\n",
    "        self.conv_2d = nn.Conv2d(mid_channels, out_channels, kernel_size=1, bias=False)\n",
    "        self.sigmoid = nn.Sigmoid()\n",
    "        \n",
    "    def forward(self, x):\n",
    "        x = self.conv_block(x)\n",
    "        x = self.conv_2d(x)\n",
    "        x = self.sigmoid(x)\n",
    "        \n",
    "        return x\n",
    "\n",
    "class Branch2(nn.Module):\n",
    "    def __init__(self, in_channels, mid_channels, out_channels):\n",
    "        super().__init__()\n",
    "        \n",
    "        self.conv_block = DoubleConv(in_channels, mid_channels)\n",
    "        self.conv_2d = nn.Conv2d(mid_channels, out_channels, kernel_size=1, bias=False)\n",
    "        self.sigmoid = nn.Sigmoid()\n",
    "        \n",
    "    def forward(self, x):\n",
    "        x = self.conv_block(x)\n",
    "        x = self.conv_2d(x)\n",
    "        x = self.sigmoid(x)\n",
    "        \n",
    "        return x"
   ]
  },
  {
   "cell_type": "code",
   "execution_count": 10,
   "metadata": {},
   "outputs": [],
   "source": [
    "# n_input_channels=3\n",
    "# n_features=64\n",
    "# down1 = Encoder(n_input_channels, n_features)\n",
    "# down2 = Encoder(n_features, n_features*2)\n",
    "# down3 = Encoder(n_features*2, n_features*4)\n",
    "# down4 = Encoder(n_features*4, n_features*8)\n",
    "# bridge = DoubleConv(n_features*8, n_features*16)\n",
    "\n",
    "# conv1, pool1 = down1(val1)\n",
    "# conv2, pool2 = down2(pool1)\n",
    "# conv3, pool3 = down3(pool2)\n",
    "# conv4, pool4 = down4(pool3)\n",
    "\n",
    "# bridge = bridge(pool4)\n",
    "\n",
    "# bridge.shape"
   ]
  },
  {
   "cell_type": "code",
   "execution_count": 18,
   "metadata": {},
   "outputs": [],
   "source": [
    "class UNet(nn.Module):\n",
    "    def __init__(self, input_shape=256, n_input_channels=3, n_output_channels_b1=1, n_output_channels_b2=3, n_features=64, latent_dim=128):\n",
    "        super(UNet, self).__init__()\n",
    "        self.input_shape = input_shape\n",
    "        self.n_features = n_features\n",
    "        \n",
    "        self.down1 = Encoder(n_input_channels, n_features)\n",
    "        self.down2 = Encoder(n_features, n_features*2)\n",
    "        self.down3 = Encoder(n_features*2, n_features*4)\n",
    "        self.down4 = Encoder(n_features*4, n_features*8)\n",
    "        \n",
    "        self.bridge = DoubleConv(n_features*8, n_features*16)\n",
    "        #1024,16,16\n",
    "        \n",
    "        self.upb1_1 = DecoderB1(n_features*16, n_features*8)\n",
    "        self.upb1_2 = DecoderB1(n_features*8, n_features*4)\n",
    "        self.upb1_3 = DecoderB1(n_features*4, n_features*2)\n",
    "        self.upb1_4 = DecoderB1(n_features*2, n_features)\n",
    "        \n",
    "        flatten_size = n_features*16 * int(input_shape/16) * int(input_shape/16) # 64x16x16x16\n",
    "        \n",
    "        self.intermediate1 = nn.Sequential(\n",
    "            nn.Linear(flatten_size, latent_dim*2),\n",
    "            nn.BatchNorm1d(latent_dim*2),\n",
    "            nn.ReLU(inplace=True),\n",
    "        )\n",
    "        \n",
    "        \n",
    "        self.fc_mu = nn.Linear(latent_dim*2, latent_dim)\n",
    "        self.fc_var = nn.Linear(latent_dim*2, latent_dim)\n",
    "        \n",
    "        self.decoder_input = nn.Sequential(\n",
    "            nn.Linear(latent_dim, flatten_size),\n",
    "            nn.ReLU(inplace=True),\n",
    "        )\n",
    "        \n",
    "        # self.fc_mu = nn.Linear(flatten_size, latent_dim)\n",
    "        # self.fc_var = nn.Linear(flatten_size, latent_dim)\n",
    "        \n",
    "        # self.decoder_input = nn.Linear(latent_dim, flatten_size)\n",
    "        \n",
    "        self.upb2_1 = DecoderB2(n_features*16, n_features*8)\n",
    "        self.upb2_2 = DecoderB2(n_features*8, n_features*4)\n",
    "        self.upb2_3 = DecoderB2(n_features*4, n_features*2)\n",
    "        self.upb2_4 = DecoderB2(n_features*2, n_features)\n",
    "        \n",
    "        self.outchannel1 = Branch1(n_features, n_features, n_output_channels_b1)\n",
    "        self.outchannel2 = Branch2(n_features, n_features, n_output_channels_b2)\n",
    "    \n",
    "    def reparameterize(self, mu, logvar):\n",
    "        \"\"\"\n",
    "        Reparameterization trick to sample from N(mu, var) from\n",
    "        N(0,1).\n",
    "        :param mu: (Tensor) Mean of the latent Gaussian [B x D]\n",
    "        :param logvar: (Tensor) Standard deviation of the latent Gaussian [B x D]\n",
    "        :return: (Tensor) [B x D]\n",
    "        \"\"\"\n",
    "        std = torch.exp(0.5 * logvar)\n",
    "        \n",
    "        if(torch.isnan(std).any()):\n",
    "            print(f'std : {torch.isnan(std).any()}')\n",
    "        \n",
    "        eps = torch.randn_like(std)\n",
    "        \n",
    "        return eps * std + mu\n",
    "    \n",
    "    def forward(self, x):\n",
    "        \n",
    "        conv1, pool1 = self.down1(x)\n",
    "        conv2, pool2 = self.down2(pool1)\n",
    "        conv3, pool3 = self.down3(pool2)\n",
    "        conv4, pool4 = self.down4(pool3)\n",
    "        \n",
    "        bridge = self.bridge(pool4)\n",
    "        \n",
    "        # 1st branch\n",
    "        decoder_b1_1 = self.upb1_1(bridge, conv4)\n",
    "        decoder_b1_2 = self.upb1_2(decoder_b1_1, conv3)\n",
    "        decoder_b1_3 = self.upb1_3(decoder_b1_2, conv2)\n",
    "        decoder_b1_4 = self.upb1_4(decoder_b1_3, conv1)\n",
    "        \n",
    "        logits1 = self.outchannel1(decoder_b1_4)\n",
    "        \n",
    "        #2nd branch vae\n",
    "        \n",
    "        flattened_bridge = torch.flatten(bridge, start_dim=1)\n",
    "        \n",
    "        intermediate1 = self.intermediate1(flattened_bridge)\n",
    "        \n",
    "        \n",
    "        mu = self.fc_mu(intermediate1)\n",
    "        log_var = self.fc_var(intermediate1)\n",
    "        # log_var = torch.clip(log_var,min=-8,max=80)\n",
    "        \n",
    "        z = self.reparameterize(mu,log_var)\n",
    "        \n",
    "        result = self.decoder_input(z)\n",
    "        reshaped_result = result.view(-1, self.n_features*16, int(self.input_shape/16),int(self.input_shape/16))\n",
    "        \n",
    "        # 2nd branch\n",
    "        decoder_b2_1 = self.upb2_1(reshaped_result, conv4)\n",
    "        decoder_b2_2 = self.upb2_2(decoder_b2_1, conv3)\n",
    "        decoder_b2_3 = self.upb2_3(decoder_b2_2, conv2)\n",
    "        decoder_b2_4 = self.upb2_4(decoder_b2_3, conv1)\n",
    "                \n",
    "        logits2 = self.outchannel2(decoder_b2_4)\n",
    "        \n",
    "        # -------------------------------------------------------------------------------------------    \n",
    "        \n",
    "        # if(torch.isnan(conv1).any()):\n",
    "        #     print(f'conv1: {torch.isnan(conv1).any()}')\n",
    "            \n",
    "        # if(torch.isnan(flattened_bridge).any()):\n",
    "        #     print(f'flattened_bridge: {torch.isnan(flattened_bridge).any()}')\n",
    "            \n",
    "        # if(torch.isnan(mu).any()):\n",
    "        #     print(f'mu: {torch.isnan(flattened_bridge).any()}')\n",
    "            \n",
    "        # if(torch.isnan(log_var).any()):\n",
    "        #     print(f'Log_var: {torch.isnan(log_var).any()}')\n",
    "        \n",
    "        # if(torch.isnan(torch.isnan(z).any())):\n",
    "        #     print(f'z: {torch.isnan(z).any()}')\n",
    "        \n",
    "        # if(torch.isnan(result).any()):\n",
    "        #     # print(\"mu : \")\n",
    "        #     # print(mu)\n",
    "        #     print(\"z : \")\n",
    "        #     print(z)\n",
    "        #     print(\"result : \")\n",
    "        #     print(result)\n",
    "        #     print(f'result: {torch.isnan(result).any()}')\n",
    "            \n",
    "        # -------------------------------------------------------------------------------------------    \n",
    "        \n",
    "        # if(torch.isnan(reshaped_result).any()):\n",
    "        #     print(f'reshaped_result: {torch.isnan(reshaped_result).any()}')\n",
    "        \n",
    "        # if(torch.isnan(decoder_b2_1).any()):\n",
    "        #     print(f'decoder_b2_1: {torch.isnan(decoder_b2_1).any()}')\n",
    "            \n",
    "        # if(torch.isnan(decoder_b2_4).any()):\n",
    "        #     print(f'decoder_b2_4: {torch.isnan(decoder_b2_4).any()}')\n",
    "            \n",
    "        # if(torch.isnan(logits2).any()):\n",
    "        #     print(f'logits2: {torch.isnan(logits2).any()}')\n",
    "        \n",
    "        # if(torch.isnan(logits1).any()):\n",
    "        #     print(f'logits1: {torch.isnan(logits1).any()}')\n",
    "        \n",
    "        # var_x = torch.clip(torch.exp(log_var), min=1e-5)\n",
    "        # kld_loss = torch.mean(-0.5 * torch.sum(1 + log_var - mu ** 2 - var_x, dim = 1), dim = 0)\n",
    "        \n",
    "        # -------------------------------------------------------------------------------------------    \n",
    "        \n",
    "        kld_loss = torch.mean(-0.5 * torch.sum(1 + log_var - mu ** 2 - log_var.exp(), dim = 1), dim = 0)\n",
    "        # print(kld_loss)\n",
    "        \n",
    "        return logits1, logits2, kld_loss\n"
   ]
  },
  {
   "cell_type": "code",
   "execution_count": 12,
   "metadata": {},
   "outputs": [],
   "source": [
    "#custom dice loss\n",
    "class DiceLoss(nn.Module):\n",
    "    def __init__(self, weight=None, size_average=True):\n",
    "        super(DiceLoss, self).__init__()\n",
    "\n",
    "    def forward(self, inputs, targets, smooth=1e-6):\n",
    "        \n",
    "        #flatten label and prediction tensors\n",
    "        inputs = inputs.view(-1)\n",
    "        targets = targets.view(-1)\n",
    "        \n",
    "        intersection = (inputs * targets).sum()                            \n",
    "        dice = (2.*intersection + smooth)/(inputs.sum() + targets.sum() + smooth)  \n",
    "        \n",
    "        return 1 - dice"
   ]
  },
  {
   "cell_type": "code",
   "execution_count": 13,
   "metadata": {},
   "outputs": [
    {
     "data": {
      "text/plain": [
       "tensor(0.8170)"
      ]
     },
     "execution_count": 13,
     "metadata": {},
     "output_type": "execute_result"
    }
   ],
   "source": [
    "loss = DiceLoss()\n",
    "loss(torch.from_numpy(y_train_npy[:32]),torch.from_numpy(y_test_npy[:32]))"
   ]
  },
  {
   "cell_type": "code",
   "execution_count": 14,
   "metadata": {},
   "outputs": [],
   "source": [
    "from torch.optim import Adam\n",
    "from torch.utils.data import DataLoader\n",
    "from torchvision import transforms\n",
    "from tqdm import tqdm\n",
    "import matplotlib.pyplot as plt\n",
    "import time"
   ]
  },
  {
   "cell_type": "code",
   "execution_count": 22,
   "metadata": {},
   "outputs": [
    {
     "name": "stdout",
     "output_type": "stream",
     "text": [
      "[INFO] found 897 examples in the training set...\n",
      "[INFO] found 303 examples in the validation set...\n",
      "[INFO] training the network...\n"
     ]
    },
    {
     "name": "stderr",
     "output_type": "stream",
     "text": [
      "  0%|          | 1/200 [00:40<2:15:07, 40.74s/it]"
     ]
    },
    {
     "name": "stdout",
     "output_type": "stream",
     "text": [
      "[INFO] EPOCH: 1/200\n",
      "Train Dice loss: 0.8376, Vaild Dice loss: 0.8677, Train MSE loss: 0.0238, Vaild MSE loss: 0.0331, Train VAE loss: 2.5020, Vaild VAE loss: 0.1514, Train loss: 3.3634, Vaild loss: 1.0523\n"
     ]
    },
    {
     "name": "stderr",
     "output_type": "stream",
     "text": [
      "  1%|          | 2/200 [01:22<2:16:36, 41.40s/it]"
     ]
    },
    {
     "name": "stdout",
     "output_type": "stream",
     "text": [
      "[INFO] EPOCH: 2/200\n",
      "Train Dice loss: 0.7975, Vaild Dice loss: 0.8119, Train MSE loss: 0.0046, Vaild MSE loss: 0.0044, Train VAE loss: 0.2519, Vaild VAE loss: 0.0378, Train loss: 1.0539, Vaild loss: 0.8541\n"
     ]
    },
    {
     "name": "stderr",
     "output_type": "stream",
     "text": [
      "  2%|▏         | 3/200 [02:04<2:16:29, 41.57s/it]"
     ]
    },
    {
     "name": "stdout",
     "output_type": "stream",
     "text": [
      "[INFO] EPOCH: 3/200\n",
      "Train Dice loss: 0.7603, Vaild Dice loss: 0.7679, Train MSE loss: 0.0015, Vaild MSE loss: 0.0010, Train VAE loss: 0.1075, Vaild VAE loss: 0.0455, Train loss: 0.8693, Vaild loss: 0.8144\n"
     ]
    },
    {
     "name": "stderr",
     "output_type": "stream",
     "text": [
      "  2%|▏         | 4/200 [02:45<2:15:47, 41.57s/it]"
     ]
    },
    {
     "name": "stdout",
     "output_type": "stream",
     "text": [
      "[INFO] EPOCH: 4/200\n",
      "Train Dice loss: 0.7168, Vaild Dice loss: 0.7151, Train MSE loss: 0.0008, Vaild MSE loss: 0.0012, Train VAE loss: 0.0789, Vaild VAE loss: 0.0510, Train loss: 0.7966, Vaild loss: 0.7673\n"
     ]
    },
    {
     "name": "stderr",
     "output_type": "stream",
     "text": [
      "  2%|▎         | 5/200 [03:27<2:15:22, 41.66s/it]"
     ]
    },
    {
     "name": "stdout",
     "output_type": "stream",
     "text": [
      "[INFO] EPOCH: 5/200\n",
      "Train Dice loss: 0.6645, Vaild Dice loss: 0.6475, Train MSE loss: 0.0010, Vaild MSE loss: 0.0010, Train VAE loss: 0.0487, Vaild VAE loss: 0.0245, Train loss: 0.7142, Vaild loss: 0.6730\n"
     ]
    },
    {
     "name": "stderr",
     "output_type": "stream",
     "text": [
      "  3%|▎         | 6/200 [04:09<2:15:10, 41.81s/it]"
     ]
    },
    {
     "name": "stdout",
     "output_type": "stream",
     "text": [
      "[INFO] EPOCH: 6/200\n",
      "Train Dice loss: 0.6086, Vaild Dice loss: 0.6397, Train MSE loss: 0.0008, Vaild MSE loss: 0.0003, Train VAE loss: 0.0288, Vaild VAE loss: 0.0189, Train loss: 0.6382, Vaild loss: 0.6589\n"
     ]
    },
    {
     "name": "stderr",
     "output_type": "stream",
     "text": [
      "  4%|▎         | 7/200 [04:51<2:14:31, 41.82s/it]"
     ]
    },
    {
     "name": "stdout",
     "output_type": "stream",
     "text": [
      "[INFO] EPOCH: 7/200\n",
      "Train Dice loss: 0.6087, Vaild Dice loss: 0.5662, Train MSE loss: 0.0008, Vaild MSE loss: 0.0007, Train VAE loss: 0.0202, Vaild VAE loss: 0.0143, Train loss: 0.6297, Vaild loss: 0.5812\n"
     ]
    },
    {
     "name": "stderr",
     "output_type": "stream",
     "text": [
      "  4%|▍         | 8/200 [05:33<2:13:37, 41.76s/it]"
     ]
    },
    {
     "name": "stdout",
     "output_type": "stream",
     "text": [
      "[INFO] EPOCH: 8/200\n",
      "Train Dice loss: 0.5833, Vaild Dice loss: 0.6012, Train MSE loss: 0.0005, Vaild MSE loss: 0.0004, Train VAE loss: 0.0161, Vaild VAE loss: 0.0117, Train loss: 0.5999, Vaild loss: 0.6134\n"
     ]
    },
    {
     "name": "stderr",
     "output_type": "stream",
     "text": [
      "  4%|▍         | 9/200 [06:15<2:12:57, 41.77s/it]"
     ]
    },
    {
     "name": "stdout",
     "output_type": "stream",
     "text": [
      "[INFO] EPOCH: 9/200\n",
      "Train Dice loss: 0.5332, Vaild Dice loss: 0.5972, Train MSE loss: 0.0005, Vaild MSE loss: 0.0004, Train VAE loss: 0.0150, Vaild VAE loss: 0.0080, Train loss: 0.5487, Vaild loss: 0.6056\n"
     ]
    },
    {
     "name": "stderr",
     "output_type": "stream",
     "text": [
      "  5%|▌         | 10/200 [06:56<2:12:16, 41.77s/it]"
     ]
    },
    {
     "name": "stdout",
     "output_type": "stream",
     "text": [
      "[INFO] EPOCH: 10/200\n",
      "Train Dice loss: 0.5088, Vaild Dice loss: 0.6063, Train MSE loss: 0.0005, Vaild MSE loss: 0.0003, Train VAE loss: 0.0122, Vaild VAE loss: 0.0112, Train loss: 0.5216, Vaild loss: 0.6178\n"
     ]
    },
    {
     "name": "stderr",
     "output_type": "stream",
     "text": [
      "  6%|▌         | 11/200 [07:38<2:11:41, 41.81s/it]"
     ]
    },
    {
     "name": "stdout",
     "output_type": "stream",
     "text": [
      "[INFO] EPOCH: 11/200\n",
      "Train Dice loss: 0.4906, Vaild Dice loss: 0.4774, Train MSE loss: 0.0003, Vaild MSE loss: 0.0005, Train VAE loss: 0.0109, Vaild VAE loss: 0.0122, Train loss: 0.5018, Vaild loss: 0.4901\n"
     ]
    },
    {
     "name": "stderr",
     "output_type": "stream",
     "text": [
      "  6%|▌         | 12/200 [08:20<2:11:00, 41.81s/it]"
     ]
    },
    {
     "name": "stdout",
     "output_type": "stream",
     "text": [
      "[INFO] EPOCH: 12/200\n",
      "Train Dice loss: 0.4714, Vaild Dice loss: 0.4993, Train MSE loss: 0.0005, Vaild MSE loss: 0.0003, Train VAE loss: 0.0109, Vaild VAE loss: 0.0049, Train loss: 0.4828, Vaild loss: 0.5045\n"
     ]
    },
    {
     "name": "stderr",
     "output_type": "stream",
     "text": [
      "  6%|▋         | 13/200 [09:03<2:11:01, 42.04s/it]"
     ]
    },
    {
     "name": "stdout",
     "output_type": "stream",
     "text": [
      "[INFO] EPOCH: 13/200\n",
      "Train Dice loss: 0.4799, Vaild Dice loss: 0.5002, Train MSE loss: 0.0004, Vaild MSE loss: 0.0003, Train VAE loss: 0.0087, Vaild VAE loss: 0.0058, Train loss: 0.4890, Vaild loss: 0.5063\n"
     ]
    },
    {
     "name": "stderr",
     "output_type": "stream",
     "text": [
      "  7%|▋         | 14/200 [09:44<2:10:05, 41.97s/it]"
     ]
    },
    {
     "name": "stdout",
     "output_type": "stream",
     "text": [
      "[INFO] EPOCH: 14/200\n",
      "Train Dice loss: 0.4799, Vaild Dice loss: 0.8001, Train MSE loss: 0.0005, Vaild MSE loss: 0.0003, Train VAE loss: 0.0056, Vaild VAE loss: 0.0078, Train loss: 0.4860, Vaild loss: 0.8081\n"
     ]
    },
    {
     "name": "stderr",
     "output_type": "stream",
     "text": [
      "  8%|▊         | 15/200 [10:26<2:09:02, 41.85s/it]"
     ]
    },
    {
     "name": "stdout",
     "output_type": "stream",
     "text": [
      "[INFO] EPOCH: 15/200\n",
      "Train Dice loss: 0.4641, Vaild Dice loss: 0.4881, Train MSE loss: 0.0005, Vaild MSE loss: 0.0003, Train VAE loss: 0.0065, Vaild VAE loss: 0.0031, Train loss: 0.4711, Vaild loss: 0.4914\n"
     ]
    },
    {
     "name": "stderr",
     "output_type": "stream",
     "text": [
      "  8%|▊         | 16/200 [11:08<2:08:14, 41.82s/it]"
     ]
    },
    {
     "name": "stdout",
     "output_type": "stream",
     "text": [
      "[INFO] EPOCH: 16/200\n",
      "Train Dice loss: 0.4503, Vaild Dice loss: 0.5106, Train MSE loss: 0.0003, Vaild MSE loss: 0.0003, Train VAE loss: 0.0053, Vaild VAE loss: 0.0023, Train loss: 0.4560, Vaild loss: 0.5131\n"
     ]
    },
    {
     "name": "stderr",
     "output_type": "stream",
     "text": [
      "  8%|▊         | 17/200 [11:51<2:08:28, 42.12s/it]"
     ]
    },
    {
     "name": "stdout",
     "output_type": "stream",
     "text": [
      "[INFO] EPOCH: 17/200\n",
      "Train Dice loss: 0.4289, Vaild Dice loss: 0.4694, Train MSE loss: 0.0004, Vaild MSE loss: 0.0002, Train VAE loss: 0.0046, Vaild VAE loss: 0.0041, Train loss: 0.4339, Vaild loss: 0.4737\n"
     ]
    },
    {
     "name": "stderr",
     "output_type": "stream",
     "text": [
      "  9%|▉         | 18/200 [12:32<2:07:17, 41.96s/it]"
     ]
    },
    {
     "name": "stdout",
     "output_type": "stream",
     "text": [
      "[INFO] EPOCH: 18/200\n",
      "Train Dice loss: 0.4180, Vaild Dice loss: 0.5799, Train MSE loss: 0.0004, Vaild MSE loss: 0.0005, Train VAE loss: 0.0041, Vaild VAE loss: 0.0020, Train loss: 0.4225, Vaild loss: 0.5823\n"
     ]
    },
    {
     "name": "stderr",
     "output_type": "stream",
     "text": [
      " 10%|▉         | 19/200 [13:14<2:06:22, 41.89s/it]"
     ]
    },
    {
     "name": "stdout",
     "output_type": "stream",
     "text": [
      "[INFO] EPOCH: 19/200\n",
      "Train Dice loss: 0.4045, Vaild Dice loss: 0.4760, Train MSE loss: 0.0003, Vaild MSE loss: 0.0002, Train VAE loss: 0.0027, Vaild VAE loss: 0.0035, Train loss: 0.4075, Vaild loss: 0.4797\n"
     ]
    },
    {
     "name": "stderr",
     "output_type": "stream",
     "text": [
      " 10%|█         | 20/200 [13:56<2:05:56, 41.98s/it]"
     ]
    },
    {
     "name": "stdout",
     "output_type": "stream",
     "text": [
      "[INFO] EPOCH: 20/200\n",
      "Train Dice loss: 0.3996, Vaild Dice loss: 0.7695, Train MSE loss: 0.0004, Vaild MSE loss: 0.0002, Train VAE loss: 0.0037, Vaild VAE loss: 0.0098, Train loss: 0.4037, Vaild loss: 0.7794\n"
     ]
    },
    {
     "name": "stderr",
     "output_type": "stream",
     "text": [
      " 10%|█         | 21/200 [14:38<2:04:58, 41.89s/it]"
     ]
    },
    {
     "name": "stdout",
     "output_type": "stream",
     "text": [
      "[INFO] EPOCH: 21/200\n",
      "Train Dice loss: 0.4022, Vaild Dice loss: 0.4103, Train MSE loss: 0.0005, Vaild MSE loss: 0.0002, Train VAE loss: 0.0060, Vaild VAE loss: 0.0038, Train loss: 0.4087, Vaild loss: 0.4142\n"
     ]
    },
    {
     "name": "stderr",
     "output_type": "stream",
     "text": [
      " 11%|█         | 22/200 [15:20<2:04:52, 42.09s/it]"
     ]
    },
    {
     "name": "stdout",
     "output_type": "stream",
     "text": [
      "[INFO] EPOCH: 22/200\n",
      "Train Dice loss: 0.3708, Vaild Dice loss: 0.5169, Train MSE loss: 0.0004, Vaild MSE loss: 0.0001, Train VAE loss: 0.0036, Vaild VAE loss: 0.0043, Train loss: 0.3748, Vaild loss: 0.5213\n"
     ]
    },
    {
     "name": "stderr",
     "output_type": "stream",
     "text": [
      " 12%|█▏        | 23/200 [16:02<2:03:47, 41.96s/it]"
     ]
    },
    {
     "name": "stdout",
     "output_type": "stream",
     "text": [
      "[INFO] EPOCH: 23/200\n",
      "Train Dice loss: 0.3973, Vaild Dice loss: 0.4785, Train MSE loss: 0.0003, Vaild MSE loss: 0.0002, Train VAE loss: 0.0046, Vaild VAE loss: 0.0050, Train loss: 0.4022, Vaild loss: 0.4837\n"
     ]
    },
    {
     "name": "stderr",
     "output_type": "stream",
     "text": [
      " 12%|█▏        | 24/200 [16:44<2:03:03, 41.95s/it]"
     ]
    },
    {
     "name": "stdout",
     "output_type": "stream",
     "text": [
      "[INFO] EPOCH: 24/200\n",
      "Train Dice loss: 0.3867, Vaild Dice loss: 0.6007, Train MSE loss: 0.0003, Vaild MSE loss: 0.0008, Train VAE loss: 0.0053, Vaild VAE loss: 0.0047, Train loss: 0.3923, Vaild loss: 0.6062\n"
     ]
    },
    {
     "name": "stderr",
     "output_type": "stream",
     "text": [
      " 12%|█▎        | 25/200 [17:27<2:03:17, 42.27s/it]"
     ]
    },
    {
     "name": "stdout",
     "output_type": "stream",
     "text": [
      "[INFO] EPOCH: 25/200\n",
      "Train Dice loss: 0.3738, Vaild Dice loss: 0.4128, Train MSE loss: 0.0005, Vaild MSE loss: 0.0018, Train VAE loss: 0.0045, Vaild VAE loss: 0.0040, Train loss: 0.3788, Vaild loss: 0.4186\n"
     ]
    },
    {
     "name": "stderr",
     "output_type": "stream",
     "text": [
      " 13%|█▎        | 26/200 [18:09<2:01:58, 42.06s/it]"
     ]
    },
    {
     "name": "stdout",
     "output_type": "stream",
     "text": [
      "[INFO] EPOCH: 26/200\n",
      "Train Dice loss: 0.3739, Vaild Dice loss: 0.3678, Train MSE loss: 0.0004, Vaild MSE loss: 0.0003, Train VAE loss: 0.0034, Vaild VAE loss: 0.0030, Train loss: 0.3777, Vaild loss: 0.3711\n"
     ]
    },
    {
     "name": "stderr",
     "output_type": "stream",
     "text": [
      " 14%|█▎        | 27/200 [18:51<2:01:18, 42.07s/it]"
     ]
    },
    {
     "name": "stdout",
     "output_type": "stream",
     "text": [
      "[INFO] EPOCH: 27/200\n",
      "Train Dice loss: 0.3774, Vaild Dice loss: 0.3928, Train MSE loss: 0.0003, Vaild MSE loss: 0.0006, Train VAE loss: 0.0031, Vaild VAE loss: 0.0031, Train loss: 0.3808, Vaild loss: 0.3965\n"
     ]
    },
    {
     "name": "stderr",
     "output_type": "stream",
     "text": [
      " 14%|█▍        | 28/200 [19:32<2:00:15, 41.95s/it]"
     ]
    },
    {
     "name": "stdout",
     "output_type": "stream",
     "text": [
      "[INFO] EPOCH: 28/200\n",
      "Train Dice loss: 0.3631, Vaild Dice loss: 0.3509, Train MSE loss: 0.0005, Vaild MSE loss: 0.0004, Train VAE loss: 0.0051, Vaild VAE loss: 0.0043, Train loss: 0.3687, Vaild loss: 0.3556\n"
     ]
    },
    {
     "name": "stderr",
     "output_type": "stream",
     "text": [
      " 14%|█▍        | 29/200 [20:14<1:59:27, 41.91s/it]"
     ]
    },
    {
     "name": "stdout",
     "output_type": "stream",
     "text": [
      "[INFO] EPOCH: 29/200\n",
      "Train Dice loss: 0.3570, Vaild Dice loss: 0.3577, Train MSE loss: 0.0005, Vaild MSE loss: 0.0003, Train VAE loss: 0.0058, Vaild VAE loss: 0.0062, Train loss: 0.3633, Vaild loss: 0.3642\n"
     ]
    },
    {
     "name": "stderr",
     "output_type": "stream",
     "text": [
      " 15%|█▌        | 30/200 [20:56<1:58:50, 41.95s/it]"
     ]
    },
    {
     "name": "stdout",
     "output_type": "stream",
     "text": [
      "[INFO] EPOCH: 30/200\n",
      "Train Dice loss: 0.3320, Vaild Dice loss: 0.3646, Train MSE loss: 0.0004, Vaild MSE loss: 0.0001, Train VAE loss: 0.0052, Vaild VAE loss: 0.0027, Train loss: 0.3376, Vaild loss: 0.3674\n"
     ]
    },
    {
     "name": "stderr",
     "output_type": "stream",
     "text": [
      " 16%|█▌        | 31/200 [21:38<1:57:52, 41.85s/it]"
     ]
    },
    {
     "name": "stdout",
     "output_type": "stream",
     "text": [
      "[INFO] EPOCH: 31/200\n",
      "Train Dice loss: 0.3219, Vaild Dice loss: 0.3423, Train MSE loss: 0.0005, Vaild MSE loss: 0.0008, Train VAE loss: 0.0026, Vaild VAE loss: 0.0021, Train loss: 0.3250, Vaild loss: 0.3452\n"
     ]
    },
    {
     "name": "stderr",
     "output_type": "stream",
     "text": [
      " 16%|█▌        | 32/200 [22:19<1:57:01, 41.80s/it]"
     ]
    },
    {
     "name": "stdout",
     "output_type": "stream",
     "text": [
      "[INFO] EPOCH: 32/200\n",
      "Train Dice loss: 0.3243, Vaild Dice loss: 0.3647, Train MSE loss: 0.0003, Vaild MSE loss: 0.0007, Train VAE loss: 0.0022, Vaild VAE loss: 0.0012, Train loss: 0.3268, Vaild loss: 0.3666\n"
     ]
    },
    {
     "name": "stderr",
     "output_type": "stream",
     "text": [
      " 16%|█▋        | 33/200 [23:01<1:56:19, 41.79s/it]"
     ]
    },
    {
     "name": "stdout",
     "output_type": "stream",
     "text": [
      "[INFO] EPOCH: 33/200\n",
      "Train Dice loss: 0.3453, Vaild Dice loss: 0.4477, Train MSE loss: 0.0004, Vaild MSE loss: 0.0004, Train VAE loss: 0.0018, Vaild VAE loss: 0.0023, Train loss: 0.3474, Vaild loss: 0.4504\n"
     ]
    },
    {
     "name": "stderr",
     "output_type": "stream",
     "text": [
      " 17%|█▋        | 34/200 [23:43<1:55:46, 41.84s/it]"
     ]
    },
    {
     "name": "stdout",
     "output_type": "stream",
     "text": [
      "[INFO] EPOCH: 34/200\n",
      "Train Dice loss: 0.3156, Vaild Dice loss: 0.6474, Train MSE loss: 0.0004, Vaild MSE loss: 0.0003, Train VAE loss: 0.0024, Vaild VAE loss: 0.0023, Train loss: 0.3183, Vaild loss: 0.6500\n"
     ]
    },
    {
     "name": "stderr",
     "output_type": "stream",
     "text": [
      " 18%|█▊        | 35/200 [24:25<1:54:47, 41.75s/it]"
     ]
    },
    {
     "name": "stdout",
     "output_type": "stream",
     "text": [
      "[INFO] EPOCH: 35/200\n",
      "Train Dice loss: 0.3262, Vaild Dice loss: 0.3748, Train MSE loss: 0.0003, Vaild MSE loss: 0.0002, Train VAE loss: 0.0020, Vaild VAE loss: 0.0022, Train loss: 0.3285, Vaild loss: 0.3772\n"
     ]
    },
    {
     "name": "stderr",
     "output_type": "stream",
     "text": [
      " 18%|█▊        | 36/200 [25:07<1:54:31, 41.90s/it]"
     ]
    },
    {
     "name": "stdout",
     "output_type": "stream",
     "text": [
      "[INFO] EPOCH: 36/200\n",
      "Train Dice loss: 0.3068, Vaild Dice loss: 0.3417, Train MSE loss: 0.0004, Vaild MSE loss: 0.0004, Train VAE loss: 0.0018, Vaild VAE loss: 0.0023, Train loss: 0.3089, Vaild loss: 0.3443\n"
     ]
    },
    {
     "name": "stderr",
     "output_type": "stream",
     "text": [
      " 18%|█▊        | 37/200 [25:50<1:54:26, 42.12s/it]"
     ]
    },
    {
     "name": "stdout",
     "output_type": "stream",
     "text": [
      "[INFO] EPOCH: 37/200\n",
      "Train Dice loss: 0.3089, Vaild Dice loss: 0.4891, Train MSE loss: 0.0004, Vaild MSE loss: 0.0004, Train VAE loss: 0.0022, Vaild VAE loss: 0.0023, Train loss: 0.3114, Vaild loss: 0.4918\n"
     ]
    },
    {
     "name": "stderr",
     "output_type": "stream",
     "text": [
      " 19%|█▉        | 38/200 [26:31<1:53:18, 41.97s/it]"
     ]
    },
    {
     "name": "stdout",
     "output_type": "stream",
     "text": [
      "[INFO] EPOCH: 38/200\n",
      "Train Dice loss: 0.2988, Vaild Dice loss: 0.3239, Train MSE loss: 0.0004, Vaild MSE loss: 0.0001, Train VAE loss: 0.0056, Vaild VAE loss: 0.0023, Train loss: 0.3048, Vaild loss: 0.3263\n"
     ]
    },
    {
     "name": "stderr",
     "output_type": "stream",
     "text": [
      " 20%|█▉        | 39/200 [27:13<1:52:28, 41.91s/it]"
     ]
    },
    {
     "name": "stdout",
     "output_type": "stream",
     "text": [
      "[INFO] EPOCH: 39/200\n",
      "Train Dice loss: 0.3101, Vaild Dice loss: 0.4322, Train MSE loss: 0.0004, Vaild MSE loss: 0.0003, Train VAE loss: 0.0059, Vaild VAE loss: 0.0060, Train loss: 0.3164, Vaild loss: 0.4384\n"
     ]
    },
    {
     "name": "stderr",
     "output_type": "stream",
     "text": [
      " 20%|██        | 40/200 [27:55<1:51:40, 41.88s/it]"
     ]
    },
    {
     "name": "stdout",
     "output_type": "stream",
     "text": [
      "[INFO] EPOCH: 40/200\n",
      "Train Dice loss: 0.3134, Vaild Dice loss: 0.3926, Train MSE loss: 0.0003, Vaild MSE loss: 0.0004, Train VAE loss: 0.0094, Vaild VAE loss: 0.0063, Train loss: 0.3231, Vaild loss: 0.3994\n"
     ]
    },
    {
     "name": "stderr",
     "output_type": "stream",
     "text": [
      " 20%|██        | 41/200 [28:37<1:50:55, 41.86s/it]"
     ]
    },
    {
     "name": "stdout",
     "output_type": "stream",
     "text": [
      "[INFO] EPOCH: 41/200\n",
      "Train Dice loss: 0.3020, Vaild Dice loss: 0.4290, Train MSE loss: 0.0003, Vaild MSE loss: 0.0004, Train VAE loss: 0.0041, Vaild VAE loss: 0.0026, Train loss: 0.3064, Vaild loss: 0.4320\n"
     ]
    },
    {
     "name": "stderr",
     "output_type": "stream",
     "text": [
      " 21%|██        | 42/200 [29:19<1:50:28, 41.95s/it]"
     ]
    },
    {
     "name": "stdout",
     "output_type": "stream",
     "text": [
      "[INFO] EPOCH: 42/200\n",
      "Train Dice loss: 0.2654, Vaild Dice loss: 0.3641, Train MSE loss: 0.0004, Vaild MSE loss: 0.0009, Train VAE loss: 0.0033, Vaild VAE loss: 0.0033, Train loss: 0.2691, Vaild loss: 0.3683\n"
     ]
    },
    {
     "name": "stderr",
     "output_type": "stream",
     "text": [
      " 22%|██▏       | 43/200 [30:00<1:49:28, 41.84s/it]"
     ]
    },
    {
     "name": "stdout",
     "output_type": "stream",
     "text": [
      "[INFO] EPOCH: 43/200\n",
      "Train Dice loss: 0.2728, Vaild Dice loss: 0.3858, Train MSE loss: 0.0004, Vaild MSE loss: 0.0005, Train VAE loss: 0.0045, Vaild VAE loss: 0.0025, Train loss: 0.2777, Vaild loss: 0.3888\n"
     ]
    },
    {
     "name": "stderr",
     "output_type": "stream",
     "text": [
      " 22%|██▏       | 44/200 [30:42<1:48:39, 41.79s/it]"
     ]
    },
    {
     "name": "stdout",
     "output_type": "stream",
     "text": [
      "[INFO] EPOCH: 44/200\n",
      "Train Dice loss: 0.2760, Vaild Dice loss: 0.3081, Train MSE loss: 0.0004, Vaild MSE loss: 0.0002, Train VAE loss: 0.0033, Vaild VAE loss: 0.0016, Train loss: 0.2797, Vaild loss: 0.3099\n"
     ]
    },
    {
     "name": "stderr",
     "output_type": "stream",
     "text": [
      " 22%|██▎       | 45/200 [31:24<1:47:56, 41.79s/it]"
     ]
    },
    {
     "name": "stdout",
     "output_type": "stream",
     "text": [
      "[INFO] EPOCH: 45/200\n",
      "Train Dice loss: 0.2661, Vaild Dice loss: 0.3418, Train MSE loss: 0.0005, Vaild MSE loss: 0.0002, Train VAE loss: 0.0052, Vaild VAE loss: 0.0069, Train loss: 0.2717, Vaild loss: 0.3489\n"
     ]
    },
    {
     "name": "stderr",
     "output_type": "stream",
     "text": [
      " 23%|██▎       | 46/200 [32:06<1:47:32, 41.90s/it]"
     ]
    },
    {
     "name": "stdout",
     "output_type": "stream",
     "text": [
      "[INFO] EPOCH: 46/200\n",
      "Train Dice loss: 0.2704, Vaild Dice loss: 0.3632, Train MSE loss: 0.0004, Vaild MSE loss: 0.0002, Train VAE loss: 0.0105, Vaild VAE loss: 0.0030, Train loss: 0.2812, Vaild loss: 0.3665\n"
     ]
    },
    {
     "name": "stderr",
     "output_type": "stream",
     "text": [
      " 24%|██▎       | 47/200 [32:48<1:46:41, 41.84s/it]"
     ]
    },
    {
     "name": "stdout",
     "output_type": "stream",
     "text": [
      "[INFO] EPOCH: 47/200\n",
      "Train Dice loss: 0.2878, Vaild Dice loss: 0.3188, Train MSE loss: 0.0003, Vaild MSE loss: 0.0003, Train VAE loss: 0.0134, Vaild VAE loss: 0.0057, Train loss: 0.3015, Vaild loss: 0.3248\n"
     ]
    },
    {
     "name": "stderr",
     "output_type": "stream",
     "text": [
      " 24%|██▍       | 48/200 [33:29<1:45:52, 41.80s/it]"
     ]
    },
    {
     "name": "stdout",
     "output_type": "stream",
     "text": [
      "[INFO] EPOCH: 48/200\n",
      "Train Dice loss: 0.2532, Vaild Dice loss: 0.2900, Train MSE loss: 0.0004, Vaild MSE loss: 0.0004, Train VAE loss: 0.0089, Vaild VAE loss: 0.0028, Train loss: 0.2625, Vaild loss: 0.2932\n"
     ]
    },
    {
     "name": "stderr",
     "output_type": "stream",
     "text": [
      " 24%|██▍       | 49/200 [34:11<1:45:00, 41.73s/it]"
     ]
    },
    {
     "name": "stdout",
     "output_type": "stream",
     "text": [
      "[INFO] EPOCH: 49/200\n",
      "Train Dice loss: 0.2568, Vaild Dice loss: 0.2619, Train MSE loss: 0.0004, Vaild MSE loss: 0.0001, Train VAE loss: 0.0044, Vaild VAE loss: 0.0062, Train loss: 0.2616, Vaild loss: 0.2683\n"
     ]
    },
    {
     "name": "stderr",
     "output_type": "stream",
     "text": [
      " 25%|██▌       | 50/200 [34:53<1:44:17, 41.72s/it]"
     ]
    },
    {
     "name": "stdout",
     "output_type": "stream",
     "text": [
      "[INFO] EPOCH: 50/200\n",
      "Train Dice loss: 0.2708, Vaild Dice loss: 0.4164, Train MSE loss: 0.0004, Vaild MSE loss: 0.0005, Train VAE loss: 0.0082, Vaild VAE loss: 0.0063, Train loss: 0.2794, Vaild loss: 0.4232\n"
     ]
    },
    {
     "name": "stderr",
     "output_type": "stream",
     "text": [
      " 26%|██▌       | 51/200 [35:34<1:43:38, 41.73s/it]"
     ]
    },
    {
     "name": "stdout",
     "output_type": "stream",
     "text": [
      "[INFO] EPOCH: 51/200\n",
      "Train Dice loss: 0.2515, Vaild Dice loss: 0.2888, Train MSE loss: 0.0004, Vaild MSE loss: 0.0006, Train VAE loss: 0.0023, Vaild VAE loss: 0.0008, Train loss: 0.2542, Vaild loss: 0.2902\n"
     ]
    },
    {
     "name": "stderr",
     "output_type": "stream",
     "text": [
      " 26%|██▌       | 52/200 [36:16<1:43:08, 41.81s/it]"
     ]
    },
    {
     "name": "stdout",
     "output_type": "stream",
     "text": [
      "[INFO] EPOCH: 52/200\n",
      "Train Dice loss: 0.2400, Vaild Dice loss: 0.2616, Train MSE loss: 0.0004, Vaild MSE loss: 0.0004, Train VAE loss: 0.0021, Vaild VAE loss: 0.0011, Train loss: 0.2426, Vaild loss: 0.2631\n"
     ]
    },
    {
     "name": "stderr",
     "output_type": "stream",
     "text": [
      " 26%|██▋       | 53/200 [36:58<1:42:16, 41.74s/it]"
     ]
    },
    {
     "name": "stdout",
     "output_type": "stream",
     "text": [
      "[INFO] EPOCH: 53/200\n",
      "Train Dice loss: 0.2354, Vaild Dice loss: 0.3857, Train MSE loss: 0.0002, Vaild MSE loss: 0.0002, Train VAE loss: 0.0009, Vaild VAE loss: 0.0008, Train loss: 0.2365, Vaild loss: 0.3867\n"
     ]
    },
    {
     "name": "stderr",
     "output_type": "stream",
     "text": [
      " 27%|██▋       | 54/200 [37:40<1:41:26, 41.69s/it]"
     ]
    },
    {
     "name": "stdout",
     "output_type": "stream",
     "text": [
      "[INFO] EPOCH: 54/200\n",
      "Train Dice loss: 0.2454, Vaild Dice loss: 0.2769, Train MSE loss: 0.0003, Vaild MSE loss: 0.0001, Train VAE loss: 0.0011, Vaild VAE loss: 0.0007, Train loss: 0.2468, Vaild loss: 0.2777\n"
     ]
    },
    {
     "name": "stderr",
     "output_type": "stream",
     "text": [
      " 28%|██▊       | 55/200 [38:21<1:40:53, 41.75s/it]"
     ]
    },
    {
     "name": "stdout",
     "output_type": "stream",
     "text": [
      "[INFO] EPOCH: 55/200\n",
      "Train Dice loss: 0.2237, Vaild Dice loss: 0.4382, Train MSE loss: 0.0003, Vaild MSE loss: 0.0004, Train VAE loss: 0.0012, Vaild VAE loss: 0.0009, Train loss: 0.2252, Vaild loss: 0.4395\n"
     ]
    },
    {
     "name": "stderr",
     "output_type": "stream",
     "text": [
      " 28%|██▊       | 56/200 [39:04<1:40:28, 41.87s/it]"
     ]
    },
    {
     "name": "stdout",
     "output_type": "stream",
     "text": [
      "[INFO] EPOCH: 56/200\n",
      "Train Dice loss: 0.2495, Vaild Dice loss: 0.2889, Train MSE loss: 0.0004, Vaild MSE loss: 0.0001, Train VAE loss: 0.0012, Vaild VAE loss: 0.0012, Train loss: 0.2511, Vaild loss: 0.2902\n"
     ]
    },
    {
     "name": "stderr",
     "output_type": "stream",
     "text": [
      " 28%|██▊       | 57/200 [39:45<1:39:44, 41.85s/it]"
     ]
    },
    {
     "name": "stdout",
     "output_type": "stream",
     "text": [
      "[INFO] EPOCH: 57/200\n",
      "Train Dice loss: 0.2380, Vaild Dice loss: 0.3379, Train MSE loss: 0.0003, Vaild MSE loss: 0.0005, Train VAE loss: 0.0026, Vaild VAE loss: 0.0064, Train loss: 0.2409, Vaild loss: 0.3448\n"
     ]
    },
    {
     "name": "stderr",
     "output_type": "stream",
     "text": [
      " 29%|██▉       | 58/200 [40:27<1:38:58, 41.82s/it]"
     ]
    },
    {
     "name": "stdout",
     "output_type": "stream",
     "text": [
      "[INFO] EPOCH: 58/200\n",
      "Train Dice loss: 0.2278, Vaild Dice loss: 0.2651, Train MSE loss: 0.0004, Vaild MSE loss: 0.0003, Train VAE loss: 0.0037, Vaild VAE loss: 0.0049, Train loss: 0.2318, Vaild loss: 0.2703\n"
     ]
    },
    {
     "name": "stderr",
     "output_type": "stream",
     "text": [
      " 30%|██▉       | 59/200 [41:09<1:38:15, 41.81s/it]"
     ]
    },
    {
     "name": "stdout",
     "output_type": "stream",
     "text": [
      "[INFO] EPOCH: 59/200\n",
      "Train Dice loss: 0.2242, Vaild Dice loss: 0.2752, Train MSE loss: 0.0004, Vaild MSE loss: 0.0001, Train VAE loss: 0.0049, Vaild VAE loss: 0.0031, Train loss: 0.2296, Vaild loss: 0.2785\n"
     ]
    },
    {
     "name": "stderr",
     "output_type": "stream",
     "text": [
      " 30%|███       | 60/200 [41:51<1:37:27, 41.77s/it]"
     ]
    },
    {
     "name": "stdout",
     "output_type": "stream",
     "text": [
      "[INFO] EPOCH: 60/200\n",
      "Train Dice loss: 0.2222, Vaild Dice loss: 0.3065, Train MSE loss: 0.0003, Vaild MSE loss: 0.0007, Train VAE loss: 0.0029, Vaild VAE loss: 0.0025, Train loss: 0.2254, Vaild loss: 0.3096\n"
     ]
    },
    {
     "name": "stderr",
     "output_type": "stream",
     "text": [
      " 30%|███       | 61/200 [42:32<1:36:47, 41.78s/it]"
     ]
    },
    {
     "name": "stdout",
     "output_type": "stream",
     "text": [
      "[INFO] EPOCH: 61/200\n",
      "Train Dice loss: 0.2044, Vaild Dice loss: 0.2708, Train MSE loss: 0.0004, Vaild MSE loss: 0.0005, Train VAE loss: 0.0021, Vaild VAE loss: 0.0014, Train loss: 0.2069, Vaild loss: 0.2728\n"
     ]
    },
    {
     "name": "stderr",
     "output_type": "stream",
     "text": [
      " 31%|███       | 62/200 [43:14<1:36:05, 41.78s/it]"
     ]
    },
    {
     "name": "stdout",
     "output_type": "stream",
     "text": [
      "[INFO] EPOCH: 62/200\n",
      "Train Dice loss: 0.2148, Vaild Dice loss: 0.2910, Train MSE loss: 0.0003, Vaild MSE loss: 0.0002, Train VAE loss: 0.0012, Vaild VAE loss: 0.0012, Train loss: 0.2162, Vaild loss: 0.2924\n"
     ]
    },
    {
     "name": "stderr",
     "output_type": "stream",
     "text": [
      " 32%|███▏      | 63/200 [43:56<1:35:17, 41.74s/it]"
     ]
    },
    {
     "name": "stdout",
     "output_type": "stream",
     "text": [
      "[INFO] EPOCH: 63/200\n",
      "Train Dice loss: 0.1977, Vaild Dice loss: 0.2454, Train MSE loss: 0.0004, Vaild MSE loss: 0.0008, Train VAE loss: 0.0011, Vaild VAE loss: 0.0014, Train loss: 0.1992, Vaild loss: 0.2476\n"
     ]
    },
    {
     "name": "stderr",
     "output_type": "stream",
     "text": [
      " 32%|███▏      | 64/200 [44:37<1:34:30, 41.70s/it]"
     ]
    },
    {
     "name": "stdout",
     "output_type": "stream",
     "text": [
      "[INFO] EPOCH: 64/200\n",
      "Train Dice loss: 0.2222, Vaild Dice loss: 0.3122, Train MSE loss: 0.0005, Vaild MSE loss: 0.0004, Train VAE loss: 0.0023, Vaild VAE loss: 0.0014, Train loss: 0.2250, Vaild loss: 0.3140\n"
     ]
    },
    {
     "name": "stderr",
     "output_type": "stream",
     "text": [
      " 32%|███▎      | 65/200 [45:19<1:33:49, 41.70s/it]"
     ]
    },
    {
     "name": "stdout",
     "output_type": "stream",
     "text": [
      "[INFO] EPOCH: 65/200\n",
      "Train Dice loss: 0.2224, Vaild Dice loss: 0.2660, Train MSE loss: 0.0004, Vaild MSE loss: 0.0013, Train VAE loss: 0.0015, Vaild VAE loss: 0.0009, Train loss: 0.2243, Vaild loss: 0.2681\n"
     ]
    },
    {
     "name": "stderr",
     "output_type": "stream",
     "text": [
      " 33%|███▎      | 66/200 [46:01<1:33:04, 41.68s/it]"
     ]
    },
    {
     "name": "stdout",
     "output_type": "stream",
     "text": [
      "[INFO] EPOCH: 66/200\n",
      "Train Dice loss: 0.1993, Vaild Dice loss: 0.3349, Train MSE loss: 0.0004, Vaild MSE loss: 0.0008, Train VAE loss: 0.0023, Vaild VAE loss: 0.0011, Train loss: 0.2021, Vaild loss: 0.3368\n"
     ]
    },
    {
     "name": "stderr",
     "output_type": "stream",
     "text": [
      " 34%|███▎      | 67/200 [46:42<1:32:21, 41.66s/it]"
     ]
    },
    {
     "name": "stdout",
     "output_type": "stream",
     "text": [
      "[INFO] EPOCH: 67/200\n",
      "Train Dice loss: 0.1989, Vaild Dice loss: 0.3160, Train MSE loss: 0.0005, Vaild MSE loss: 0.0007, Train VAE loss: 0.0061, Vaild VAE loss: 0.0068, Train loss: 0.2055, Vaild loss: 0.3235\n"
     ]
    },
    {
     "name": "stderr",
     "output_type": "stream",
     "text": [
      " 34%|███▍      | 68/200 [47:24<1:31:40, 41.67s/it]"
     ]
    },
    {
     "name": "stdout",
     "output_type": "stream",
     "text": [
      "[INFO] EPOCH: 68/200\n",
      "Train Dice loss: 0.1965, Vaild Dice loss: 0.3004, Train MSE loss: 0.0005, Vaild MSE loss: 0.0003, Train VAE loss: 0.0049, Vaild VAE loss: 0.0040, Train loss: 0.2018, Vaild loss: 0.3048\n"
     ]
    },
    {
     "name": "stderr",
     "output_type": "stream",
     "text": [
      " 34%|███▍      | 69/200 [48:06<1:31:00, 41.68s/it]"
     ]
    },
    {
     "name": "stdout",
     "output_type": "stream",
     "text": [
      "[INFO] EPOCH: 69/200\n",
      "Train Dice loss: 0.1905, Vaild Dice loss: 0.2658, Train MSE loss: 0.0004, Vaild MSE loss: 0.0007, Train VAE loss: 0.0056, Vaild VAE loss: 0.0049, Train loss: 0.1965, Vaild loss: 0.2714\n"
     ]
    },
    {
     "name": "stderr",
     "output_type": "stream",
     "text": [
      " 35%|███▌      | 70/200 [48:47<1:30:18, 41.68s/it]"
     ]
    },
    {
     "name": "stdout",
     "output_type": "stream",
     "text": [
      "[INFO] EPOCH: 70/200\n",
      "Train Dice loss: 0.1907, Vaild Dice loss: 0.4836, Train MSE loss: 0.0003, Vaild MSE loss: 0.0006, Train VAE loss: 0.0044, Vaild VAE loss: 0.0031, Train loss: 0.1954, Vaild loss: 0.4873\n"
     ]
    },
    {
     "name": "stderr",
     "output_type": "stream",
     "text": [
      " 36%|███▌      | 71/200 [49:29<1:29:44, 41.74s/it]"
     ]
    },
    {
     "name": "stdout",
     "output_type": "stream",
     "text": [
      "[INFO] EPOCH: 71/200\n",
      "Train Dice loss: 0.1776, Vaild Dice loss: 0.2316, Train MSE loss: 0.0003, Vaild MSE loss: 0.0010, Train VAE loss: 0.0077, Vaild VAE loss: 0.0197, Train loss: 0.1856, Vaild loss: 0.2523\n"
     ]
    },
    {
     "name": "stderr",
     "output_type": "stream",
     "text": [
      " 36%|███▌      | 72/200 [50:11<1:29:02, 41.74s/it]"
     ]
    },
    {
     "name": "stdout",
     "output_type": "stream",
     "text": [
      "[INFO] EPOCH: 72/200\n",
      "Train Dice loss: 0.1843, Vaild Dice loss: 0.2515, Train MSE loss: 0.0004, Vaild MSE loss: 0.0002, Train VAE loss: 0.0194, Vaild VAE loss: 0.0103, Train loss: 0.2041, Vaild loss: 0.2620\n"
     ]
    },
    {
     "name": "stderr",
     "output_type": "stream",
     "text": [
      " 36%|███▋      | 73/200 [50:53<1:28:25, 41.77s/it]"
     ]
    },
    {
     "name": "stdout",
     "output_type": "stream",
     "text": [
      "[INFO] EPOCH: 73/200\n",
      "Train Dice loss: 0.2011, Vaild Dice loss: 0.2577, Train MSE loss: 0.0004, Vaild MSE loss: 0.0027, Train VAE loss: 0.0081, Vaild VAE loss: 0.0029, Train loss: 0.2097, Vaild loss: 0.2633\n"
     ]
    },
    {
     "name": "stderr",
     "output_type": "stream",
     "text": [
      " 37%|███▋      | 74/200 [51:35<1:27:46, 41.80s/it]"
     ]
    },
    {
     "name": "stdout",
     "output_type": "stream",
     "text": [
      "[INFO] EPOCH: 74/200\n",
      "Train Dice loss: 0.1861, Vaild Dice loss: 0.3601, Train MSE loss: 0.0005, Vaild MSE loss: 0.0001, Train VAE loss: 0.0082, Vaild VAE loss: 0.0024, Train loss: 0.1948, Vaild loss: 0.3626\n"
     ]
    },
    {
     "name": "stderr",
     "output_type": "stream",
     "text": [
      " 38%|███▊      | 75/200 [52:16<1:26:55, 41.73s/it]"
     ]
    },
    {
     "name": "stdout",
     "output_type": "stream",
     "text": [
      "[INFO] EPOCH: 75/200\n",
      "Train Dice loss: 0.1888, Vaild Dice loss: 0.2576, Train MSE loss: 0.0003, Vaild MSE loss: 0.0007, Train VAE loss: 0.0058, Vaild VAE loss: 0.0065, Train loss: 0.1950, Vaild loss: 0.2649\n"
     ]
    },
    {
     "name": "stderr",
     "output_type": "stream",
     "text": [
      " 38%|███▊      | 76/200 [52:58<1:26:12, 41.71s/it]"
     ]
    },
    {
     "name": "stdout",
     "output_type": "stream",
     "text": [
      "[INFO] EPOCH: 76/200\n",
      "Train Dice loss: 0.1848, Vaild Dice loss: 0.2417, Train MSE loss: 0.0004, Vaild MSE loss: 0.0005, Train VAE loss: 0.0080, Vaild VAE loss: 0.0044, Train loss: 0.1933, Vaild loss: 0.2466\n"
     ]
    },
    {
     "name": "stderr",
     "output_type": "stream",
     "text": [
      " 38%|███▊      | 77/200 [53:40<1:25:29, 41.70s/it]"
     ]
    },
    {
     "name": "stdout",
     "output_type": "stream",
     "text": [
      "[INFO] EPOCH: 77/200\n",
      "Train Dice loss: 0.1761, Vaild Dice loss: 0.3383, Train MSE loss: 0.0004, Vaild MSE loss: 0.0004, Train VAE loss: 0.0095, Vaild VAE loss: 0.0029, Train loss: 0.1859, Vaild loss: 0.3416\n"
     ]
    },
    {
     "name": "stderr",
     "output_type": "stream",
     "text": [
      " 39%|███▉      | 78/200 [54:22<1:25:07, 41.86s/it]"
     ]
    },
    {
     "name": "stdout",
     "output_type": "stream",
     "text": [
      "[INFO] EPOCH: 78/200\n",
      "Train Dice loss: 0.1691, Vaild Dice loss: 0.2821, Train MSE loss: 0.0002, Vaild MSE loss: 0.0003, Train VAE loss: 0.0039, Vaild VAE loss: 0.0025, Train loss: 0.1732, Vaild loss: 0.2849\n"
     ]
    },
    {
     "name": "stderr",
     "output_type": "stream",
     "text": [
      " 40%|███▉      | 79/200 [55:04<1:24:24, 41.86s/it]"
     ]
    },
    {
     "name": "stdout",
     "output_type": "stream",
     "text": [
      "[INFO] EPOCH: 79/200\n",
      "Train Dice loss: 0.1728, Vaild Dice loss: 0.3033, Train MSE loss: 0.0003, Vaild MSE loss: 0.0002, Train VAE loss: 0.0022, Vaild VAE loss: 0.0010, Train loss: 0.1753, Vaild loss: 0.3046\n"
     ]
    },
    {
     "name": "stderr",
     "output_type": "stream",
     "text": [
      " 40%|████      | 80/200 [55:45<1:23:34, 41.78s/it]"
     ]
    },
    {
     "name": "stdout",
     "output_type": "stream",
     "text": [
      "[INFO] EPOCH: 80/200\n",
      "Train Dice loss: 0.1893, Vaild Dice loss: 0.3520, Train MSE loss: 0.0004, Vaild MSE loss: 0.0005, Train VAE loss: 0.0026, Vaild VAE loss: 0.0007, Train loss: 0.1924, Vaild loss: 0.3532\n"
     ]
    },
    {
     "name": "stderr",
     "output_type": "stream",
     "text": [
      " 40%|████      | 81/200 [56:27<1:22:44, 41.72s/it]"
     ]
    },
    {
     "name": "stdout",
     "output_type": "stream",
     "text": [
      "[INFO] EPOCH: 81/200\n",
      "Train Dice loss: 0.1803, Vaild Dice loss: 0.2633, Train MSE loss: 0.0003, Vaild MSE loss: 0.0002, Train VAE loss: 0.0017, Vaild VAE loss: 0.0015, Train loss: 0.1822, Vaild loss: 0.2650\n"
     ]
    },
    {
     "name": "stderr",
     "output_type": "stream",
     "text": [
      " 41%|████      | 82/200 [57:09<1:21:57, 41.68s/it]"
     ]
    },
    {
     "name": "stdout",
     "output_type": "stream",
     "text": [
      "[INFO] EPOCH: 82/200\n",
      "Train Dice loss: 0.1888, Vaild Dice loss: 0.2648, Train MSE loss: 0.0005, Vaild MSE loss: 0.0005, Train VAE loss: 0.0055, Vaild VAE loss: 0.0045, Train loss: 0.1947, Vaild loss: 0.2698\n"
     ]
    },
    {
     "name": "stderr",
     "output_type": "stream",
     "text": [
      " 42%|████▏     | 83/200 [57:50<1:21:23, 41.74s/it]"
     ]
    },
    {
     "name": "stdout",
     "output_type": "stream",
     "text": [
      "[INFO] EPOCH: 83/200\n",
      "Train Dice loss: 0.1946, Vaild Dice loss: 0.2689, Train MSE loss: 0.0003, Vaild MSE loss: 0.0005, Train VAE loss: 0.0036, Vaild VAE loss: 0.0013, Train loss: 0.1985, Vaild loss: 0.2707\n"
     ]
    },
    {
     "name": "stderr",
     "output_type": "stream",
     "text": [
      " 42%|████▏     | 84/200 [58:32<1:20:49, 41.81s/it]"
     ]
    },
    {
     "name": "stdout",
     "output_type": "stream",
     "text": [
      "[INFO] EPOCH: 84/200\n",
      "Train Dice loss: 0.1688, Vaild Dice loss: 0.3005, Train MSE loss: 0.0005, Vaild MSE loss: 0.0002, Train VAE loss: 0.0016, Vaild VAE loss: 0.0008, Train loss: 0.1709, Vaild loss: 0.3015\n"
     ]
    },
    {
     "name": "stderr",
     "output_type": "stream",
     "text": [
      " 42%|████▎     | 85/200 [59:15<1:20:21, 41.92s/it]"
     ]
    },
    {
     "name": "stdout",
     "output_type": "stream",
     "text": [
      "[INFO] EPOCH: 85/200\n",
      "Train Dice loss: 0.1575, Vaild Dice loss: 0.2780, Train MSE loss: 0.0003, Vaild MSE loss: 0.0002, Train VAE loss: 0.0020, Vaild VAE loss: 0.0024, Train loss: 0.1598, Vaild loss: 0.2806\n"
     ]
    },
    {
     "name": "stderr",
     "output_type": "stream",
     "text": [
      " 43%|████▎     | 86/200 [59:56<1:19:29, 41.84s/it]"
     ]
    },
    {
     "name": "stdout",
     "output_type": "stream",
     "text": [
      "[INFO] EPOCH: 86/200\n",
      "Train Dice loss: 0.1742, Vaild Dice loss: 0.3651, Train MSE loss: 0.0003, Vaild MSE loss: 0.0003, Train VAE loss: 0.0023, Vaild VAE loss: 0.0030, Train loss: 0.1768, Vaild loss: 0.3684\n"
     ]
    },
    {
     "name": "stderr",
     "output_type": "stream",
     "text": [
      " 44%|████▎     | 87/200 [1:00:39<1:19:32, 42.23s/it]"
     ]
    },
    {
     "name": "stdout",
     "output_type": "stream",
     "text": [
      "[INFO] EPOCH: 87/200\n",
      "Train Dice loss: 0.1547, Vaild Dice loss: 0.2441, Train MSE loss: 0.0003, Vaild MSE loss: 0.0002, Train VAE loss: 0.0027, Vaild VAE loss: 0.0032, Train loss: 0.1577, Vaild loss: 0.2474\n"
     ]
    },
    {
     "name": "stderr",
     "output_type": "stream",
     "text": [
      " 44%|████▍     | 88/200 [1:01:21<1:18:34, 42.09s/it]"
     ]
    },
    {
     "name": "stdout",
     "output_type": "stream",
     "text": [
      "[INFO] EPOCH: 88/200\n",
      "Train Dice loss: 0.1484, Vaild Dice loss: 0.2708, Train MSE loss: 0.0002, Vaild MSE loss: 0.0002, Train VAE loss: 0.0060, Vaild VAE loss: 0.0019, Train loss: 0.1546, Vaild loss: 0.2729\n"
     ]
    },
    {
     "name": "stderr",
     "output_type": "stream",
     "text": [
      " 44%|████▍     | 89/200 [1:02:03<1:17:38, 41.97s/it]"
     ]
    },
    {
     "name": "stdout",
     "output_type": "stream",
     "text": [
      "[INFO] EPOCH: 89/200\n",
      "Train Dice loss: 0.1435, Vaild Dice loss: 0.2723, Train MSE loss: 0.0002, Vaild MSE loss: 0.0003, Train VAE loss: 0.0059, Vaild VAE loss: 0.0488, Train loss: 0.1497, Vaild loss: 0.3214\n"
     ]
    },
    {
     "name": "stderr",
     "output_type": "stream",
     "text": [
      " 45%|████▌     | 90/200 [1:02:45<1:16:58, 41.99s/it]"
     ]
    },
    {
     "name": "stdout",
     "output_type": "stream",
     "text": [
      "[INFO] EPOCH: 90/200\n",
      "Train Dice loss: 0.1493, Vaild Dice loss: 0.3112, Train MSE loss: 0.0003, Vaild MSE loss: 0.0005, Train VAE loss: 0.0191, Vaild VAE loss: 0.0083, Train loss: 0.1688, Vaild loss: 0.3200\n"
     ]
    },
    {
     "name": "stderr",
     "output_type": "stream",
     "text": [
      " 46%|████▌     | 91/200 [1:03:27<1:16:23, 42.05s/it]"
     ]
    },
    {
     "name": "stdout",
     "output_type": "stream",
     "text": [
      "[INFO] EPOCH: 91/200\n",
      "Train Dice loss: 0.1530, Vaild Dice loss: 0.2621, Train MSE loss: 0.0004, Vaild MSE loss: 0.0003, Train VAE loss: 0.0059, Vaild VAE loss: 0.0049, Train loss: 0.1593, Vaild loss: 0.2673\n"
     ]
    },
    {
     "name": "stderr",
     "output_type": "stream",
     "text": [
      " 46%|████▌     | 92/200 [1:04:09<1:15:26, 41.91s/it]"
     ]
    },
    {
     "name": "stdout",
     "output_type": "stream",
     "text": [
      "[INFO] EPOCH: 92/200\n",
      "Train Dice loss: 0.1414, Vaild Dice loss: 0.2451, Train MSE loss: 0.0003, Vaild MSE loss: 0.0005, Train VAE loss: 0.0030, Vaild VAE loss: 0.0010, Train loss: 0.1447, Vaild loss: 0.2466\n"
     ]
    },
    {
     "name": "stderr",
     "output_type": "stream",
     "text": [
      " 46%|████▋     | 93/200 [1:04:50<1:14:38, 41.85s/it]"
     ]
    },
    {
     "name": "stdout",
     "output_type": "stream",
     "text": [
      "[INFO] EPOCH: 93/200\n",
      "Train Dice loss: 0.1450, Vaild Dice loss: 0.2720, Train MSE loss: 0.0003, Vaild MSE loss: 0.0004, Train VAE loss: 0.0032, Vaild VAE loss: 0.0019, Train loss: 0.1486, Vaild loss: 0.2743\n"
     ]
    },
    {
     "name": "stderr",
     "output_type": "stream",
     "text": [
      " 47%|████▋     | 94/200 [1:05:32<1:13:47, 41.77s/it]"
     ]
    },
    {
     "name": "stdout",
     "output_type": "stream",
     "text": [
      "[INFO] EPOCH: 94/200\n",
      "Train Dice loss: 0.1518, Vaild Dice loss: 0.2788, Train MSE loss: 0.0004, Vaild MSE loss: 0.0005, Train VAE loss: 0.0015, Vaild VAE loss: 0.0021, Train loss: 0.1537, Vaild loss: 0.2814\n"
     ]
    },
    {
     "name": "stderr",
     "output_type": "stream",
     "text": [
      " 48%|████▊     | 95/200 [1:06:14<1:13:05, 41.76s/it]"
     ]
    },
    {
     "name": "stdout",
     "output_type": "stream",
     "text": [
      "[INFO] EPOCH: 95/200\n",
      "Train Dice loss: 0.1451, Vaild Dice loss: 0.2682, Train MSE loss: 0.0003, Vaild MSE loss: 0.0003, Train VAE loss: 0.0016, Vaild VAE loss: 0.0029, Train loss: 0.1470, Vaild loss: 0.2714\n"
     ]
    },
    {
     "name": "stderr",
     "output_type": "stream",
     "text": [
      " 48%|████▊     | 96/200 [1:06:55<1:12:21, 41.75s/it]"
     ]
    },
    {
     "name": "stdout",
     "output_type": "stream",
     "text": [
      "[INFO] EPOCH: 96/200\n",
      "Train Dice loss: 0.1329, Vaild Dice loss: 0.2442, Train MSE loss: 0.0004, Vaild MSE loss: 0.0006, Train VAE loss: 0.0027, Vaild VAE loss: 0.0017, Train loss: 0.1360, Vaild loss: 0.2465\n"
     ]
    },
    {
     "name": "stderr",
     "output_type": "stream",
     "text": [
      " 48%|████▊     | 97/200 [1:07:37<1:11:31, 41.67s/it]"
     ]
    },
    {
     "name": "stdout",
     "output_type": "stream",
     "text": [
      "[INFO] EPOCH: 97/200\n",
      "Train Dice loss: 0.1408, Vaild Dice loss: 0.2264, Train MSE loss: 0.0003, Vaild MSE loss: 0.0010, Train VAE loss: 0.0035, Vaild VAE loss: 0.0033, Train loss: 0.1445, Vaild loss: 0.2307\n"
     ]
    },
    {
     "name": "stderr",
     "output_type": "stream",
     "text": [
      " 49%|████▉     | 98/200 [1:08:19<1:11:06, 41.83s/it]"
     ]
    },
    {
     "name": "stdout",
     "output_type": "stream",
     "text": [
      "[INFO] EPOCH: 98/200\n",
      "Train Dice loss: 0.1304, Vaild Dice loss: 0.2296, Train MSE loss: 0.0003, Vaild MSE loss: 0.0018, Train VAE loss: 0.0027, Vaild VAE loss: 0.0020, Train loss: 0.1333, Vaild loss: 0.2334\n"
     ]
    },
    {
     "name": "stderr",
     "output_type": "stream",
     "text": [
      " 50%|████▉     | 99/200 [1:09:01<1:10:17, 41.76s/it]"
     ]
    },
    {
     "name": "stdout",
     "output_type": "stream",
     "text": [
      "[INFO] EPOCH: 99/200\n",
      "Train Dice loss: 0.1236, Vaild Dice loss: 0.2289, Train MSE loss: 0.0003, Vaild MSE loss: 0.0008, Train VAE loss: 0.0015, Vaild VAE loss: 0.0011, Train loss: 0.1254, Vaild loss: 0.2308\n"
     ]
    },
    {
     "name": "stderr",
     "output_type": "stream",
     "text": [
      " 50%|█████     | 100/200 [1:09:42<1:09:34, 41.74s/it]"
     ]
    },
    {
     "name": "stdout",
     "output_type": "stream",
     "text": [
      "[INFO] EPOCH: 100/200\n",
      "Train Dice loss: 0.1191, Vaild Dice loss: 0.2335, Train MSE loss: 0.0003, Vaild MSE loss: 0.0006, Train VAE loss: 0.0011, Vaild VAE loss: 0.0010, Train loss: 0.1205, Vaild loss: 0.2351\n"
     ]
    },
    {
     "name": "stderr",
     "output_type": "stream",
     "text": [
      " 50%|█████     | 101/200 [1:10:24<1:08:45, 41.67s/it]"
     ]
    },
    {
     "name": "stdout",
     "output_type": "stream",
     "text": [
      "[INFO] EPOCH: 101/200\n",
      "Train Dice loss: 0.1165, Vaild Dice loss: 0.2443, Train MSE loss: 0.0004, Vaild MSE loss: 0.0001, Train VAE loss: 0.0021, Vaild VAE loss: 0.0009, Train loss: 0.1189, Vaild loss: 0.2453\n"
     ]
    },
    {
     "name": "stderr",
     "output_type": "stream",
     "text": [
      " 51%|█████     | 102/200 [1:11:06<1:08:03, 41.67s/it]"
     ]
    },
    {
     "name": "stdout",
     "output_type": "stream",
     "text": [
      "[INFO] EPOCH: 102/200\n",
      "Train Dice loss: 0.1288, Vaild Dice loss: 0.2228, Train MSE loss: 0.0002, Vaild MSE loss: 0.0001, Train VAE loss: 0.0016, Vaild VAE loss: 0.0015, Train loss: 0.1306, Vaild loss: 0.2244\n"
     ]
    },
    {
     "name": "stderr",
     "output_type": "stream",
     "text": [
      " 52%|█████▏    | 103/200 [1:11:48<1:07:30, 41.75s/it]"
     ]
    },
    {
     "name": "stdout",
     "output_type": "stream",
     "text": [
      "[INFO] EPOCH: 103/200\n",
      "Train Dice loss: 0.1400, Vaild Dice loss: 0.3182, Train MSE loss: 0.0003, Vaild MSE loss: 0.0008, Train VAE loss: 0.0028, Vaild VAE loss: 0.0023, Train loss: 0.1431, Vaild loss: 0.3213\n"
     ]
    },
    {
     "name": "stderr",
     "output_type": "stream",
     "text": [
      " 52%|█████▏    | 104/200 [1:12:29<1:06:41, 41.68s/it]"
     ]
    },
    {
     "name": "stdout",
     "output_type": "stream",
     "text": [
      "[INFO] EPOCH: 104/200\n",
      "Train Dice loss: 0.1558, Vaild Dice loss: 0.3045, Train MSE loss: 0.0003, Vaild MSE loss: 0.0003, Train VAE loss: 0.0018, Vaild VAE loss: 0.0011, Train loss: 0.1580, Vaild loss: 0.3059\n"
     ]
    },
    {
     "name": "stderr",
     "output_type": "stream",
     "text": [
      " 52%|█████▎    | 105/200 [1:13:11<1:05:58, 41.67s/it]"
     ]
    },
    {
     "name": "stdout",
     "output_type": "stream",
     "text": [
      "[INFO] EPOCH: 105/200\n",
      "Train Dice loss: 0.1264, Vaild Dice loss: 0.2219, Train MSE loss: 0.0003, Vaild MSE loss: 0.0002, Train VAE loss: 0.0055, Vaild VAE loss: 0.0119, Train loss: 0.1321, Vaild loss: 0.2340\n"
     ]
    },
    {
     "name": "stderr",
     "output_type": "stream",
     "text": [
      " 53%|█████▎    | 106/200 [1:13:52<1:05:11, 41.61s/it]"
     ]
    },
    {
     "name": "stdout",
     "output_type": "stream",
     "text": [
      "[INFO] EPOCH: 106/200\n",
      "Train Dice loss: 0.1351, Vaild Dice loss: 0.2369, Train MSE loss: 0.0004, Vaild MSE loss: 0.0030, Train VAE loss: 0.0034, Vaild VAE loss: 0.0007, Train loss: 0.1389, Vaild loss: 0.2406\n"
     ]
    },
    {
     "name": "stderr",
     "output_type": "stream",
     "text": [
      " 54%|█████▎    | 107/200 [1:14:34<1:04:30, 41.61s/it]"
     ]
    },
    {
     "name": "stdout",
     "output_type": "stream",
     "text": [
      "[INFO] EPOCH: 107/200\n",
      "Train Dice loss: 0.1402, Vaild Dice loss: 0.3001, Train MSE loss: 0.0004, Vaild MSE loss: 0.0008, Train VAE loss: 0.0021, Vaild VAE loss: 0.0006, Train loss: 0.1427, Vaild loss: 0.3015\n"
     ]
    },
    {
     "name": "stderr",
     "output_type": "stream",
     "text": [
      " 54%|█████▍    | 108/200 [1:15:15<1:03:45, 41.58s/it]"
     ]
    },
    {
     "name": "stdout",
     "output_type": "stream",
     "text": [
      "[INFO] EPOCH: 108/200\n",
      "Train Dice loss: 0.1251, Vaild Dice loss: 0.2811, Train MSE loss: 0.0004, Vaild MSE loss: 0.0003, Train VAE loss: 0.0007, Vaild VAE loss: 0.0006, Train loss: 0.1261, Vaild loss: 0.2821\n"
     ]
    },
    {
     "name": "stderr",
     "output_type": "stream",
     "text": [
      " 55%|█████▍    | 109/200 [1:15:57<1:03:00, 41.55s/it]"
     ]
    },
    {
     "name": "stdout",
     "output_type": "stream",
     "text": [
      "[INFO] EPOCH: 109/200\n",
      "Train Dice loss: 0.1190, Vaild Dice loss: 0.2526, Train MSE loss: 0.0003, Vaild MSE loss: 0.0006, Train VAE loss: 0.0006, Vaild VAE loss: 0.0006, Train loss: 0.1199, Vaild loss: 0.2537\n"
     ]
    },
    {
     "name": "stderr",
     "output_type": "stream",
     "text": [
      " 55%|█████▌    | 110/200 [1:16:38<1:02:19, 41.55s/it]"
     ]
    },
    {
     "name": "stdout",
     "output_type": "stream",
     "text": [
      "[INFO] EPOCH: 110/200\n",
      "Train Dice loss: 0.1245, Vaild Dice loss: 0.2322, Train MSE loss: 0.0003, Vaild MSE loss: 0.0002, Train VAE loss: 0.0016, Vaild VAE loss: 0.0020, Train loss: 0.1264, Vaild loss: 0.2345\n"
     ]
    },
    {
     "name": "stderr",
     "output_type": "stream",
     "text": [
      " 56%|█████▌    | 111/200 [1:17:20<1:01:39, 41.57s/it]"
     ]
    },
    {
     "name": "stdout",
     "output_type": "stream",
     "text": [
      "[INFO] EPOCH: 111/200\n",
      "Train Dice loss: 0.1170, Vaild Dice loss: 0.2343, Train MSE loss: 0.0003, Vaild MSE loss: 0.0005, Train VAE loss: 0.0010, Vaild VAE loss: 0.0008, Train loss: 0.1183, Vaild loss: 0.2356\n"
     ]
    },
    {
     "name": "stderr",
     "output_type": "stream",
     "text": [
      " 56%|█████▌    | 112/200 [1:18:01<1:00:54, 41.53s/it]"
     ]
    },
    {
     "name": "stdout",
     "output_type": "stream",
     "text": [
      "[INFO] EPOCH: 112/200\n",
      "Train Dice loss: 0.1026, Vaild Dice loss: 0.2255, Train MSE loss: 0.0002, Vaild MSE loss: 0.0005, Train VAE loss: 0.0008, Vaild VAE loss: 0.0031, Train loss: 0.1036, Vaild loss: 0.2291\n"
     ]
    },
    {
     "name": "stderr",
     "output_type": "stream",
     "text": [
      " 56%|█████▋    | 113/200 [1:18:43<1:00:17, 41.58s/it]"
     ]
    },
    {
     "name": "stdout",
     "output_type": "stream",
     "text": [
      "[INFO] EPOCH: 113/200\n",
      "Train Dice loss: 0.0946, Vaild Dice loss: 0.2070, Train MSE loss: 0.0003, Vaild MSE loss: 0.0002, Train VAE loss: 0.0013, Vaild VAE loss: 0.0013, Train loss: 0.0962, Vaild loss: 0.2085\n"
     ]
    },
    {
     "name": "stderr",
     "output_type": "stream",
     "text": [
      " 57%|█████▋    | 114/200 [1:19:25<59:43, 41.67s/it]  "
     ]
    },
    {
     "name": "stdout",
     "output_type": "stream",
     "text": [
      "[INFO] EPOCH: 114/200\n",
      "Train Dice loss: 0.0982, Vaild Dice loss: 0.2135, Train MSE loss: 0.0002, Vaild MSE loss: 0.0006, Train VAE loss: 0.0013, Vaild VAE loss: 0.0008, Train loss: 0.0997, Vaild loss: 0.2149\n"
     ]
    },
    {
     "name": "stderr",
     "output_type": "stream",
     "text": [
      " 57%|█████▊    | 115/200 [1:20:07<59:04, 41.69s/it]"
     ]
    },
    {
     "name": "stdout",
     "output_type": "stream",
     "text": [
      "[INFO] EPOCH: 115/200\n",
      "Train Dice loss: 0.0956, Vaild Dice loss: 0.1936, Train MSE loss: 0.0002, Vaild MSE loss: 0.0002, Train VAE loss: 0.0010, Vaild VAE loss: 0.0027, Train loss: 0.0968, Vaild loss: 0.1966\n"
     ]
    },
    {
     "name": "stderr",
     "output_type": "stream",
     "text": [
      " 58%|█████▊    | 116/200 [1:20:49<58:27, 41.75s/it]"
     ]
    },
    {
     "name": "stdout",
     "output_type": "stream",
     "text": [
      "[INFO] EPOCH: 116/200\n",
      "Train Dice loss: 0.0939, Vaild Dice loss: 0.2161, Train MSE loss: 0.0003, Vaild MSE loss: 0.0001, Train VAE loss: 0.0028, Vaild VAE loss: 0.0100, Train loss: 0.0971, Vaild loss: 0.2262\n"
     ]
    },
    {
     "name": "stderr",
     "output_type": "stream",
     "text": [
      " 58%|█████▊    | 117/200 [1:21:30<57:39, 41.69s/it]"
     ]
    },
    {
     "name": "stdout",
     "output_type": "stream",
     "text": [
      "[INFO] EPOCH: 117/200\n",
      "Train Dice loss: 0.0945, Vaild Dice loss: 0.2173, Train MSE loss: 0.0002, Vaild MSE loss: 0.0001, Train VAE loss: 0.0030, Vaild VAE loss: 0.0048, Train loss: 0.0977, Vaild loss: 0.2222\n"
     ]
    },
    {
     "name": "stderr",
     "output_type": "stream",
     "text": [
      " 59%|█████▉    | 118/200 [1:22:12<56:55, 41.65s/it]"
     ]
    },
    {
     "name": "stdout",
     "output_type": "stream",
     "text": [
      "[INFO] EPOCH: 118/200\n",
      "Train Dice loss: 0.0933, Vaild Dice loss: 0.2442, Train MSE loss: 0.0002, Vaild MSE loss: 0.0005, Train VAE loss: 0.0011, Vaild VAE loss: 0.0009, Train loss: 0.0946, Vaild loss: 0.2456\n"
     ]
    },
    {
     "name": "stderr",
     "output_type": "stream",
     "text": [
      " 60%|█████▉    | 119/200 [1:22:53<56:09, 41.60s/it]"
     ]
    },
    {
     "name": "stdout",
     "output_type": "stream",
     "text": [
      "[INFO] EPOCH: 119/200\n",
      "Train Dice loss: 0.0924, Vaild Dice loss: 0.2400, Train MSE loss: 0.0002, Vaild MSE loss: 0.0002, Train VAE loss: 0.0014, Vaild VAE loss: 0.0013, Train loss: 0.0941, Vaild loss: 0.2414\n"
     ]
    },
    {
     "name": "stderr",
     "output_type": "stream",
     "text": [
      " 60%|██████    | 120/200 [1:23:35<55:35, 41.70s/it]"
     ]
    },
    {
     "name": "stdout",
     "output_type": "stream",
     "text": [
      "[INFO] EPOCH: 120/200\n",
      "Train Dice loss: 0.1284, Vaild Dice loss: 0.3241, Train MSE loss: 0.0003, Vaild MSE loss: 0.0007, Train VAE loss: 0.0015, Vaild VAE loss: 0.0008, Train loss: 0.1302, Vaild loss: 0.3256\n"
     ]
    },
    {
     "name": "stderr",
     "output_type": "stream",
     "text": [
      " 60%|██████    | 120/200 [1:23:46<55:50, 41.88s/it]\n"
     ]
    },
    {
     "ename": "KeyboardInterrupt",
     "evalue": "",
     "output_type": "error",
     "traceback": [
      "\u001b[0;31m---------------------------------------------------------------------------\u001b[0m",
      "\u001b[0;31mKeyboardInterrupt\u001b[0m                         Traceback (most recent call last)",
      "\u001b[0;32m/tmp/ipykernel_1716046/465566053.py\u001b[0m in \u001b[0;36m<module>\u001b[0;34m\u001b[0m\n\u001b[1;32m     78\u001b[0m                 \u001b[0mopt\u001b[0m\u001b[0;34m.\u001b[0m\u001b[0mzero_grad\u001b[0m\u001b[0;34m(\u001b[0m\u001b[0;34m)\u001b[0m\u001b[0;34m\u001b[0m\u001b[0;34m\u001b[0m\u001b[0m\n\u001b[1;32m     79\u001b[0m                 \u001b[0mloss\u001b[0m\u001b[0;34m.\u001b[0m\u001b[0mbackward\u001b[0m\u001b[0;34m(\u001b[0m\u001b[0;34m)\u001b[0m\u001b[0;34m\u001b[0m\u001b[0;34m\u001b[0m\u001b[0m\n\u001b[0;32m---> 80\u001b[0;31m                 \u001b[0mopt\u001b[0m\u001b[0;34m.\u001b[0m\u001b[0mstep\u001b[0m\u001b[0;34m(\u001b[0m\u001b[0;34m)\u001b[0m\u001b[0;34m\u001b[0m\u001b[0;34m\u001b[0m\u001b[0m\n\u001b[0m\u001b[1;32m     81\u001b[0m \u001b[0;34m\u001b[0m\u001b[0m\n\u001b[1;32m     82\u001b[0m                 \u001b[0;31m# add the loss to the total training loss so far\u001b[0m\u001b[0;34m\u001b[0m\u001b[0;34m\u001b[0m\u001b[0;34m\u001b[0m\u001b[0m\n",
      "\u001b[0;32m~/anaconda3/envs/torch/lib/python3.7/site-packages/torch/autograd/grad_mode.py\u001b[0m in \u001b[0;36mdecorate_context\u001b[0;34m(*args, **kwargs)\u001b[0m\n\u001b[1;32m     24\u001b[0m         \u001b[0;32mdef\u001b[0m \u001b[0mdecorate_context\u001b[0m\u001b[0;34m(\u001b[0m\u001b[0;34m*\u001b[0m\u001b[0margs\u001b[0m\u001b[0;34m,\u001b[0m \u001b[0;34m**\u001b[0m\u001b[0mkwargs\u001b[0m\u001b[0;34m)\u001b[0m\u001b[0;34m:\u001b[0m\u001b[0;34m\u001b[0m\u001b[0;34m\u001b[0m\u001b[0m\n\u001b[1;32m     25\u001b[0m             \u001b[0;32mwith\u001b[0m \u001b[0mself\u001b[0m\u001b[0;34m.\u001b[0m\u001b[0m__class__\u001b[0m\u001b[0;34m(\u001b[0m\u001b[0;34m)\u001b[0m\u001b[0;34m:\u001b[0m\u001b[0;34m\u001b[0m\u001b[0;34m\u001b[0m\u001b[0m\n\u001b[0;32m---> 26\u001b[0;31m                 \u001b[0;32mreturn\u001b[0m \u001b[0mfunc\u001b[0m\u001b[0;34m(\u001b[0m\u001b[0;34m*\u001b[0m\u001b[0margs\u001b[0m\u001b[0;34m,\u001b[0m \u001b[0;34m**\u001b[0m\u001b[0mkwargs\u001b[0m\u001b[0;34m)\u001b[0m\u001b[0;34m\u001b[0m\u001b[0;34m\u001b[0m\u001b[0m\n\u001b[0m\u001b[1;32m     27\u001b[0m         \u001b[0;32mreturn\u001b[0m \u001b[0mcast\u001b[0m\u001b[0;34m(\u001b[0m\u001b[0mF\u001b[0m\u001b[0;34m,\u001b[0m \u001b[0mdecorate_context\u001b[0m\u001b[0;34m)\u001b[0m\u001b[0;34m\u001b[0m\u001b[0;34m\u001b[0m\u001b[0m\n\u001b[1;32m     28\u001b[0m \u001b[0;34m\u001b[0m\u001b[0m\n",
      "\u001b[0;32m~/anaconda3/envs/torch/lib/python3.7/site-packages/torch/optim/adam.py\u001b[0m in \u001b[0;36mstep\u001b[0;34m(self, closure)\u001b[0m\n\u001b[1;32m    117\u001b[0m                    \u001b[0mgroup\u001b[0m\u001b[0;34m[\u001b[0m\u001b[0;34m'lr'\u001b[0m\u001b[0;34m]\u001b[0m\u001b[0;34m,\u001b[0m\u001b[0;34m\u001b[0m\u001b[0;34m\u001b[0m\u001b[0m\n\u001b[1;32m    118\u001b[0m                    \u001b[0mgroup\u001b[0m\u001b[0;34m[\u001b[0m\u001b[0;34m'weight_decay'\u001b[0m\u001b[0;34m]\u001b[0m\u001b[0;34m,\u001b[0m\u001b[0;34m\u001b[0m\u001b[0;34m\u001b[0m\u001b[0m\n\u001b[0;32m--> 119\u001b[0;31m                    \u001b[0mgroup\u001b[0m\u001b[0;34m[\u001b[0m\u001b[0;34m'eps'\u001b[0m\u001b[0;34m]\u001b[0m\u001b[0;34m\u001b[0m\u001b[0;34m\u001b[0m\u001b[0m\n\u001b[0m\u001b[1;32m    120\u001b[0m                    )\n\u001b[1;32m    121\u001b[0m         \u001b[0;32mreturn\u001b[0m \u001b[0mloss\u001b[0m\u001b[0;34m\u001b[0m\u001b[0;34m\u001b[0m\u001b[0m\n",
      "\u001b[0;32m~/anaconda3/envs/torch/lib/python3.7/site-packages/torch/optim/functional.py\u001b[0m in \u001b[0;36madam\u001b[0;34m(params, grads, exp_avgs, exp_avg_sqs, max_exp_avg_sqs, state_steps, amsgrad, beta1, beta2, lr, weight_decay, eps)\u001b[0m\n\u001b[1;32m     92\u001b[0m             \u001b[0mdenom\u001b[0m \u001b[0;34m=\u001b[0m \u001b[0;34m(\u001b[0m\u001b[0mmax_exp_avg_sq\u001b[0m\u001b[0;34m.\u001b[0m\u001b[0msqrt\u001b[0m\u001b[0;34m(\u001b[0m\u001b[0;34m)\u001b[0m \u001b[0;34m/\u001b[0m \u001b[0mmath\u001b[0m\u001b[0;34m.\u001b[0m\u001b[0msqrt\u001b[0m\u001b[0;34m(\u001b[0m\u001b[0mbias_correction2\u001b[0m\u001b[0;34m)\u001b[0m\u001b[0;34m)\u001b[0m\u001b[0;34m.\u001b[0m\u001b[0madd_\u001b[0m\u001b[0;34m(\u001b[0m\u001b[0meps\u001b[0m\u001b[0;34m)\u001b[0m\u001b[0;34m\u001b[0m\u001b[0;34m\u001b[0m\u001b[0m\n\u001b[1;32m     93\u001b[0m         \u001b[0;32melse\u001b[0m\u001b[0;34m:\u001b[0m\u001b[0;34m\u001b[0m\u001b[0;34m\u001b[0m\u001b[0m\n\u001b[0;32m---> 94\u001b[0;31m             \u001b[0mdenom\u001b[0m \u001b[0;34m=\u001b[0m \u001b[0;34m(\u001b[0m\u001b[0mexp_avg_sq\u001b[0m\u001b[0;34m.\u001b[0m\u001b[0msqrt\u001b[0m\u001b[0;34m(\u001b[0m\u001b[0;34m)\u001b[0m \u001b[0;34m/\u001b[0m \u001b[0mmath\u001b[0m\u001b[0;34m.\u001b[0m\u001b[0msqrt\u001b[0m\u001b[0;34m(\u001b[0m\u001b[0mbias_correction2\u001b[0m\u001b[0;34m)\u001b[0m\u001b[0;34m)\u001b[0m\u001b[0;34m.\u001b[0m\u001b[0madd_\u001b[0m\u001b[0;34m(\u001b[0m\u001b[0meps\u001b[0m\u001b[0;34m)\u001b[0m\u001b[0;34m\u001b[0m\u001b[0;34m\u001b[0m\u001b[0m\n\u001b[0m\u001b[1;32m     95\u001b[0m \u001b[0;34m\u001b[0m\u001b[0m\n\u001b[1;32m     96\u001b[0m         \u001b[0mstep_size\u001b[0m \u001b[0;34m=\u001b[0m \u001b[0mlr\u001b[0m \u001b[0;34m/\u001b[0m \u001b[0mbias_correction1\u001b[0m\u001b[0;34m\u001b[0m\u001b[0;34m\u001b[0m\u001b[0m\n",
      "\u001b[0;31mKeyboardInterrupt\u001b[0m: "
     ]
    }
   ],
   "source": [
    "# define transformations\n",
    "transforms_ = transforms.Compose([transforms.ToTensor()])\n",
    "\n",
    "# create the train and test datasets\n",
    "trainDS = SegmentationDataset(X=X_train_npy, y=y_train_npy, transforms=transforms_)\n",
    "validDS = SegmentationDataset(X=X_valid_npy, y=y_valid_npy, transforms=transforms_)\n",
    "\n",
    "print(f\"[INFO] found {len(trainDS)} examples in the training set...\")\n",
    "print(f\"[INFO] found {len(validDS)} examples in the validation set...\")\n",
    "\n",
    "# create the training and test data loaders\n",
    "trainLoader = DataLoader(trainDS, batch_size=BATCH_SIZE, pin_memory=PIN_MEMORY,num_workers=os.cpu_count(),shuffle=True,drop_last=True)\n",
    "validLoader = DataLoader(validDS, batch_size=BATCH_SIZE, pin_memory=PIN_MEMORY,num_workers=os.cpu_count(),shuffle=True,drop_last=True)\n",
    "\n",
    "# initialize our UNet model\n",
    "n_features = 64\n",
    "input_shape= 256\n",
    "\n",
    "unet = UNet(input_shape=input_shape, n_input_channels=3, n_output_channels_b1=1,\n",
    "            n_output_channels_b2=3, n_features= n_features, latent_dim=128).to(DEVICE)\n",
    "\n",
    "# initialize loss function and optimizer\n",
    "opt = Adam(unet.parameters(), lr=INIT_LR, weight_decay=1e-5)\n",
    "\n",
    "dice = DiceLoss()\n",
    "mse = nn.MSELoss()\n",
    "\n",
    "# calculate steps per epoch for training and valid set\n",
    "trainSteps = len(trainDS) // BATCH_SIZE\n",
    "validSteps = len(validDS) // BATCH_SIZE\n",
    "\n",
    "# initialize a dictionary to store training history\n",
    "H = {\n",
    "    \"train_loss\": [], \"valid_loss\": [],\n",
    "\t\"train_dice_loss\": [], \"valid_dice_loss\": [],\n",
    "\t\"train_mse_loss\": [], \"valid_mse_loss\": [],\n",
    "\t\"train_vae_loss\":[],\"valid_vae_loss\":[]\n",
    "}\n",
    "\n",
    "# loop over epochs\n",
    "print(\"[INFO] training the network...\")\n",
    "startTime = time.time()\n",
    "\n",
    "for e in tqdm(range(NUM_EPOCHS)):\n",
    "\t# set the model in training mode\n",
    "\tunet.train()\n",
    "\n",
    "\t# initialize the total training and validation loss\n",
    "\ttotalTrainLoss = 0\n",
    "\ttotalValidLoss = 0\n",
    " \n",
    "\ttotalTrainKLLoss = 0\n",
    "\ttotalValidKLLoss = 0\n",
    " \n",
    "\ttotalTrainDiceLoss = 0\n",
    "\ttotalValidDiceLoss = 0\n",
    " \n",
    "\ttotalTrainMSELoss = 0\n",
    "\ttotalValidMSELoss = 0\n",
    " \n",
    "\t# loop over the training set\n",
    "\tfor (i, (x, y)) in enumerate(trainLoader):\n",
    "\t\t# print(i)\n",
    "\t\t# send the input to the device\n",
    "\t\t(x, y) = (x.to(DEVICE), y.to(DEVICE))\n",
    "  \n",
    "\t\t# perform a forward pass and calculate the training loss\n",
    "\t\tpred_b1, pred_b2, kl_loss = unet(x)\n",
    "\n",
    "\t\tloss1 = dice(pred_b1, y)\n",
    "\t\tloss2 = mse(pred_b2.view(-1), x.view(-1))\n",
    "  \n",
    "  \n",
    "\t\tloss = loss1 + loss2 + kl_loss\n",
    "\n",
    "\t\t# first, zero out any previously accumulated gradients, then\n",
    "\t\t# perform backpropagation, and then update model parameters\n",
    "\t\topt.zero_grad()\n",
    "\t\tloss.backward()\n",
    "\t\topt.step()\n",
    "\t\t\n",
    "\t\t# add the loss to the total training loss so far\n",
    "\t\ttotalTrainDiceLoss += loss1\n",
    "\t\ttotalTrainMSELoss += loss2\n",
    "\t\ttotalTrainKLLoss += kl_loss\n",
    "  \n",
    "\t\ttotalTrainLoss += loss\n",
    "\t\n",
    " \n",
    "\t# switch off autograd\n",
    "\twith torch.no_grad():\n",
    "\t\t# set the model in evaluation mode\n",
    "\t\tunet.eval()\n",
    "  \n",
    "\t\t# loop over the validation set\n",
    "\t\tfor (x, y) in validLoader:\n",
    "      \n",
    "\t\t\t# send the input to the device\n",
    "\t\t\t(x, y) = (x.to(DEVICE), y.to(DEVICE))\n",
    "\n",
    "\t\t\t# make the predictions and calculate the validation loss\n",
    "\t\t\tpred_b1, pred_b2, valid_kl_loss = unet(x)\n",
    "\n",
    "\t\t\tvalidloss1 = dice(pred_b1, y)\n",
    "\t\t\tvalidloss2 = mse(pred_b2.view(-1), x.view(-1))\n",
    "\t\t\tvalidloss = validloss1 + validloss2 + valid_kl_loss\n",
    "   \n",
    "\t\t\t# add the loss to the total validation loss so far\n",
    "\t\t\ttotalValidDiceLoss += validloss1\n",
    "\t\t\ttotalValidMSELoss += validloss2\n",
    "\t\t\ttotalValidKLLoss += valid_kl_loss\n",
    "   \n",
    "\t\t\ttotalValidLoss += validloss\n",
    "   \n",
    "\t# calculate the average training and validation loss\n",
    "\tavgTrainDiceLoss = totalTrainDiceLoss / trainSteps\n",
    "\tavgValidDiceLoss = totalValidDiceLoss / validSteps\n",
    " \n",
    " \t# calculate the average training and validation loss\n",
    "\tavgTrainMSELoss = totalTrainMSELoss / trainSteps\n",
    "\tavgValidMSELoss = totalValidMSELoss / validSteps\n",
    " \n",
    "  \t# calculate the average training and validation loss\n",
    "\tavgTrainKLLoss = totalTrainKLLoss / trainSteps\n",
    "\tavgValidKLLoss = totalValidKLLoss / validSteps\n",
    "\n",
    " \t# calculate the average training and validation loss\n",
    "\tavgTrainLoss = totalTrainLoss / trainSteps\n",
    "\tavgValidLoss = totalValidLoss / validSteps\n",
    " \n",
    "\t# avgTrainKLLoss = totalTrainKLLoss / trainSteps\n",
    " \n",
    "\t# update our training history\n",
    "\tH[\"train_loss\"].append(avgTrainLoss.cpu().detach().numpy())\n",
    "\tH[\"valid_loss\"].append(avgValidLoss.cpu().detach().numpy())\n",
    " \n",
    "\tH[\"train_dice_loss\"].append(avgTrainDiceLoss.cpu().detach().numpy())\n",
    "\tH[\"valid_dice_loss\"].append(avgValidDiceLoss.cpu().detach().numpy())\n",
    " \n",
    "\tH[\"train_vae_loss\"].append(avgTrainMSELoss.cpu().detach().numpy())\n",
    "\tH[\"valid_vae_loss\"].append(avgValidMSELoss.cpu().detach().numpy())\n",
    "\n",
    "\tH[\"train_mse_loss\"].append(avgTrainMSELoss.cpu().detach().numpy())\n",
    "\tH[\"valid_mse_loss\"].append(avgValidMSELoss.cpu().detach().numpy())\n",
    " \n",
    "\t# print the model training and validation information\n",
    "\tprint(\"[INFO] EPOCH: {}/{}\".format(e + 1, NUM_EPOCHS))\n",
    "\tprint(\"Train Dice loss: {:.4f}, Vaild Dice loss: {:.4f}, Train MSE loss: {:.4f}, Vaild MSE loss: {:.4f},\"\n",
    "       \" Train VAE loss: {:.4f}, Vaild VAE loss: {:.4f}, Train loss: {:.4f}, Vaild loss: {:.4f}\"\n",
    "       .format(avgTrainDiceLoss, avgValidDiceLoss, avgTrainMSELoss, avgValidMSELoss,\n",
    "               avgTrainKLLoss, avgValidKLLoss, avgTrainLoss, avgValidLoss))\n",
    "\n",
    "# display the total time needed to perform the training\n",
    "endTime = time.time()\n",
    "print(\"[INFO] total time taken to train the model: {:.2f}s\".format(endTime - startTime))"
   ]
  },
  {
   "cell_type": "code",
   "execution_count": null,
   "metadata": {},
   "outputs": [],
   "source": [
    "import random\n",
    "random.random()"
   ]
  },
  {
   "cell_type": "code",
   "execution_count": null,
   "metadata": {},
   "outputs": [],
   "source": [
    "q = torch.from_numpy(np.asarray([[[[random.random() for i in range(32)] for i in range(32)] for i in range(3)] for i in range(12)],\n",
    "                                dtype=np.float32))\n",
    "q.shape"
   ]
  },
  {
   "cell_type": "code",
   "execution_count": null,
   "metadata": {},
   "outputs": [],
   "source": [
    "max1 = nn.MaxPool2d(2)\n",
    "conv1 = nn.Conv2d(3, 64, kernel_size= 3,padding=1)\n",
    "max2 = nn.MaxPool2d(2)\n",
    "conv2 = nn.Conv2d(64, 128, kernel_size= 3,padding=1)\n",
    "max3 = nn.MaxPool2d(2)\n",
    "conv3 = nn.Conv2d(128, 256, kernel_size= 3,padding=1)\n",
    "max4 = nn.MaxPool2d(2)\n",
    "conv4 = nn.Conv2d(256, 512, kernel_size= 3,padding=1)\n",
    "\n",
    "conv5 = nn.Conv2d(512,1024, kernel_size=3, padding=1)\n",
    "\n",
    "linear1 = nn.Linear(1024*16*16, 512)\n",
    "# conv1(val1).shape\n",
    "op = conv5(max4(conv4(max3(conv3(max2(conv2(max1(conv1(val1)))))))))\n",
    "\n",
    "_conv1 = nn.Conv2d(3, 8, 3, stride=2, padding=1)\n",
    "_conv2 = nn.Conv2d(8, 16, 3, stride=2, padding=1)\n",
    "_batch2 = nn.BatchNorm2d(16)\n",
    "_conv3 = nn.Conv2d(16, 32, 3, stride=2, padding=0)  \n",
    "_linear1 = nn.Linear(3*3*32, 128)\n"
   ]
  },
  {
   "cell_type": "code",
   "execution_count": null,
   "metadata": {},
   "outputs": [],
   "source": [
    "_conv3(_conv2(_conv1(q))).shape"
   ]
  },
  {
   "cell_type": "code",
   "execution_count": null,
   "metadata": {},
   "outputs": [],
   "source": [
    "op.shape"
   ]
  },
  {
   "cell_type": "code",
   "execution_count": null,
   "metadata": {},
   "outputs": [],
   "source": [
    "torch.flatten(op, start_dim=1).shape"
   ]
  },
  {
   "cell_type": "code",
   "execution_count": null,
   "metadata": {},
   "outputs": [],
   "source": [
    "y = linear1(torch.flatten(op, start_dim=1))\n",
    "y.shape"
   ]
  },
  {
   "cell_type": "code",
   "execution_count": null,
   "metadata": {},
   "outputs": [],
   "source": [
    "z = nn.Linear(128, 31 * 31 * 32)(y)\n",
    "z.shape"
   ]
  },
  {
   "cell_type": "code",
   "execution_count": null,
   "metadata": {},
   "outputs": [],
   "source": [
    "plt.style.use(\"ggplot\")\n",
    "plt.figure()\n",
    "plt.plot(H[\"train_loss\"], label=\"train_loss\")\n",
    "plt.plot(H[\"valid_loss\"], label=\"valid_loss\")\n",
    "plt.title(\"Training Loss on Dataset\")\n",
    "plt.xlabel(\"Epoch #\")\n",
    "plt.ylabel(\"Loss\")\n",
    "plt.legend(loc=\"lower left\")\n",
    "\n",
    "plt.savefig(PLOT_PATH)\n",
    "# serialize the model to disk\n",
    "torch.save(unet, MODEL_PATH)"
   ]
  },
  {
   "cell_type": "code",
   "execution_count": null,
   "metadata": {},
   "outputs": [],
   "source": [
    "import matplotlib.pyplot as plt\n",
    "import numpy as np\n",
    "import torch\n",
    "import cv2\n",
    "import os\n",
    "def prepare_plot(origImage, origMask, predMask):\n",
    "\t# initialize our figure\n",
    "\tfigure, ax = plt.subplots(nrows=1, ncols=3, figsize=(10, 10))\n",
    "\t# plot the original image, its mask, and the predicted mask\n",
    "\tax[0].imshow(origImage)\n",
    "\tax[1].imshow(origMask)\n",
    "\tax[2].imshow(predMask)\n",
    "\t# set the titles of the subplots\n",
    "\tax[0].set_title(\"Image\")\n",
    "\tax[1].set_title(\"Original Mask\")\n",
    "\tax[2].set_title(\"Predicted Mask\")\n",
    "\t# set the layout of the figure and display it\n",
    "\tfigure.tight_layout()\n",
    "\tfigure.show()"
   ]
  },
  {
   "cell_type": "code",
   "execution_count": null,
   "metadata": {},
   "outputs": [],
   "source": [
    "def make_predictions(model, X, y):\n",
    "\t# set model to evaluation mode\n",
    "\tmodel.eval()\n",
    "\t# turn off gradient tracking\n",
    "\twith torch.no_grad():\n",
    "\t\t# load the image from disk, swap its color channels, cast it\n",
    "\t\t# to float data type, and scale its pixel values\n",
    "\t\torig = X.copy()\n",
    "\t\t# find the filename and generate the path to ground truth\n",
    "  \n",
    "\t\t# load the ground-truth segmentation mask in grayscale mode\n",
    "\t\t# and resize it\n",
    "\t\tgtMask = y.copy()\n",
    "  \n",
    "  \n",
    "  \t\t# make the channel axis to be the leading one, add a batch\n",
    "\t\t# dimension, create a PyTorch tensor, and flash it to the\n",
    "\t\t# current device\n",
    "\t\timage = np.transpose(X, (2, 0, 1))\n",
    "\t\timage = np.expand_dims(image, 0)\n",
    "\t\timage = torch.from_numpy(image).to(DEVICE)\n",
    "  \n",
    "\t\t# make the prediction, pass the results through the sigmoid\n",
    "\t\t# function, and convert the result to a NumPy array\n",
    "\t\tpredMask = model(image)[0].squeeze()\n",
    "\t\tpredMask = predMask.cpu().numpy()\n",
    "  \n",
    "\t\t# filter out the weak predictions and convert them to integers\n",
    "\t\t# predMask = (predMask > THRESHOLD) * 255\n",
    "\t\tpredMask = predMask.astype(np.uint8)\n",
    "\n",
    "\t\t# prepare a plot for visualization\n",
    "\t\tprepare_plot(orig, gtMask, predMask)"
   ]
  },
  {
   "cell_type": "code",
   "execution_count": null,
   "metadata": {},
   "outputs": [],
   "source": [
    "# load our model from disk and flash it to the current device\n",
    "print(\"[INFO] load up model...\")\n",
    "unet = torch.load(MODEL_PATH).to(DEVICE)\n",
    "\n",
    "# iterate over the randomly selected test image paths\n",
    "for i in range(10):\n",
    "\t# make predictions and visualize the results\n",
    "\tmake_predictions(unet, X_train_npy[i], y_train_npy[i])"
   ]
  },
  {
   "cell_type": "code",
   "execution_count": null,
   "metadata": {},
   "outputs": [],
   "source": [
    "val1 = next(iter(trainLoader))[0]\n",
    "val1.shape"
   ]
  },
  {
   "cell_type": "code",
   "execution_count": null,
   "metadata": {},
   "outputs": [],
   "source": [
    "hidden_dims = [32, 64, 128, 256, 512]\n",
    "in_channels = 3\n",
    "modules = []\n",
    "for h_dim in hidden_dims:\n",
    "    modules.append(\n",
    "        nn.Sequential(\n",
    "            nn.Conv2d(in_channels, out_channels=h_dim, kernel_size= 3, stride= 2, padding  = 1),\n",
    "            nn.BatchNorm2d(h_dim),\n",
    "            nn.LeakyReLU())\n",
    "    )\n",
    "    in_channels = h_dim\n",
    "\n",
    "encoder = nn.Sequential(*modules)"
   ]
  },
  {
   "cell_type": "code",
   "execution_count": null,
   "metadata": {},
   "outputs": [],
   "source": [
    "q = torch.from_numpy(np.asarray([[[[random.random() for i in range(64)] for i in range(64)] for i in range(3)] for i in range(12)],\n",
    "                                dtype=np.float32))\n",
    "q.shape"
   ]
  },
  {
   "cell_type": "code",
   "execution_count": null,
   "metadata": {},
   "outputs": [],
   "source": [
    "result = encoder(q)\n",
    "result.shape"
   ]
  },
  {
   "cell_type": "code",
   "execution_count": null,
   "metadata": {},
   "outputs": [],
   "source": [
    "x1 = torch.flatten(result, start_dim=1)\n",
    "x1.shape"
   ]
  },
  {
   "cell_type": "code",
   "execution_count": null,
   "metadata": {},
   "outputs": [],
   "source": [
    "512*5"
   ]
  },
  {
   "cell_type": "code",
   "execution_count": null,
   "metadata": {},
   "outputs": [],
   "source": [
    "fc_mu = nn.Linear(hidden_dims[-1]*4, 128)"
   ]
  },
  {
   "cell_type": "code",
   "execution_count": null,
   "metadata": {},
   "outputs": [],
   "source": [
    "fc_mu(x1)"
   ]
  }
 ],
 "metadata": {
  "kernelspec": {
   "display_name": "torch",
   "language": "python",
   "name": "python3"
  },
  "language_info": {
   "codemirror_mode": {
    "name": "ipython",
    "version": 3
   },
   "file_extension": ".py",
   "mimetype": "text/x-python",
   "name": "python",
   "nbconvert_exporter": "python",
   "pygments_lexer": "ipython3",
   "version": "3.7.13"
  },
  "vscode": {
   "interpreter": {
    "hash": "eb74040e7540b07eacd930ce15e6b854a92adeabedfa59448a5e0c36812bf126"
   }
  }
 },
 "nbformat": 4,
 "nbformat_minor": 2
}
