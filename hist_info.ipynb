{
 "cells": [
  {
   "cell_type": "code",
   "execution_count": 15,
   "id": "fe6d1f58",
   "metadata": {},
   "outputs": [],
   "source": [
    "import torch\n",
    "import os\n",
    "from torch.utils.data import Dataset\n",
    "import numpy as np\n",
    "import matplotlib.pyplot as plt\n",
    "import cv2\n",
    "from torch.optim import Adam\n",
    "from torch.utils.data import DataLoader\n",
    "from torchvision import transforms\n",
    "from tqdm import tqdm\n",
    "import matplotlib.pyplot as plt\n",
    "import time\n",
    "\n",
    "from torch.nn import ConvTranspose2d\n",
    "from torch.nn import Conv2d\n",
    "from torch.nn import MaxPool2d\n",
    "from torch.nn import Module\n",
    "from torch.nn import ModuleList\n",
    "from torch.nn import ReLU\n",
    "from torchvision.transforms import CenterCrop\n",
    "from torch.nn import functional as F\n",
    "import torch.nn as nn\n",
    "\n",
    "import pprint\n",
    "\n",
    "\n"
   ]
  },
  {
   "cell_type": "code",
   "execution_count": 16,
   "id": "e349b331",
   "metadata": {},
   "outputs": [],
   "source": [
    "# determine the device to be used for training and evaluation\n",
    "DEVICE = \"cuda\" if torch.cuda.is_available() else \"cpu\"\n",
    "\n",
    "subdir = [\"benign_image/\", \"benign_mask/\", \"malignant_image/\",\"malignant_mask/\", \"normal_image/\", \"normal_mask/\"]\n",
    "dataset = ['dataset/','train/', 'test/', 'validation/']\n",
    "\n",
    "train_test_valid = [[[], [], []], [[], [], []], [[], [], []]]\n",
    "\n",
    "for i in range(1, len(dataset)):\n",
    "\tfor j in range(3):\n",
    "\t# for j in range(2):\n",
    "\t\tfor k in range(len(os.listdir(dataset[0]+dataset[i]+subdir[j*2]))):\n",
    "\t\t\ttrain_test_valid[i-1][0].append(plt.imread(\n",
    "\t\t\t\tdataset[0]+dataset[i]+subdir[j*2]+str(k)+\".jpeg\"))\n",
    "\t\t\ttrain_test_valid[i-1][1].append(plt.imread(\n",
    "\t\t\t\tdataset[0]+dataset[i]+subdir[j*2+1]+str(k)+\".jpeg\"))\n",
    "\t\t\ttrain_test_valid[i-1][2].append(j)\n",
    "\n",
    "X_train_npy = np.asarray(train_test_valid[0][0], dtype=np.float32)/255\n",
    "y_train_npy = np.asarray(train_test_valid[0][1], dtype=np.float32)/255\n",
    "\n",
    "X_test_npy = np.asarray(train_test_valid[1][0], dtype=np.float32)/255\n",
    "y_test_npy = np.asarray(train_test_valid[1][1], dtype=np.float32)/255\n",
    "\n",
    "X_valid_npy = np.asarray(train_test_valid[2][0], dtype=np.float32)/255\n",
    "y_valid_npy = np.asarray(train_test_valid[2][1], dtype=np.float32)/255\n",
    "\n",
    "class SegmentationDataset(Dataset):\n",
    "\n",
    "\tdef __init__(self, X, y, transforms):\n",
    "\t\tself.X = X\n",
    "\t\tself.y = y\n",
    "\t\tself.transforms = transforms\n",
    "\n",
    "\tdef __len__(self):\n",
    "\t\treturn len(self.y)\n",
    "\n",
    "\tdef __getitem__(self, idx):\n",
    "\t\t\n",
    "\t\timage = self.X[idx]\n",
    "\t\tmask = self.y[idx]\n",
    "  \n",
    "\t\tif self.transforms is not None:\n",
    "\t\t\timage = self.transforms(image)\n",
    "\t\t\tmask = self.transforms(mask)\n",
    "   \n",
    "\t\t# return a tuple of the image and its mask\n",
    "\t\treturn (image, mask)"
   ]
  },
  {
   "cell_type": "code",
   "execution_count": 17,
   "id": "1870861c",
   "metadata": {},
   "outputs": [],
   "source": [
    "def SegregateData(dataset, subdir):\n",
    "\n",
    "    l = [\n",
    "            [\n",
    "                [[], [], []],\n",
    "                [[], [], []],\n",
    "                [[], [], []],\n",
    "            ], \n",
    "            [\n",
    "                [[], [], []],\n",
    "                [[], [], []],\n",
    "                [[], [], []],\n",
    "            ],\n",
    "            [\n",
    "                [[], [], []],\n",
    "                [[], [], []],\n",
    "                [[], [], []],\n",
    "            ],\n",
    "        ]\n",
    "\n",
    "    for i in range(1, 4):\n",
    "        for k in range(3):\n",
    "            dir_l = os.listdir(dataset[0]+dataset[i]+subdir[k*2])\n",
    "            dir_l2 = os.listdir(dataset[0]+dataset[i]+subdir[k*2+1])\n",
    "\n",
    "            l1 = []\n",
    "            for j in range(len(dir_l)):\n",
    "                l1.append(plt.imread(dataset[0]+dataset[i]+subdir[k*2]+dir_l[j]))\n",
    "            \n",
    "            l2 = []\n",
    "            for j in range(len(dir_l2)):\n",
    "                l2.append(plt.imread(dataset[0]+dataset[i]+subdir[k*2+1]+dir_l2[j]))\n",
    "\n",
    "            l3=[]\n",
    "            for j in range(len(dir_l2)):\n",
    "                q=[0,0,0]\n",
    "                q[k]=1\n",
    "                l3.append(q)\n",
    "\n",
    "            l[i-1][k][0] = np.asarray(l1, dtype=np.float32)/255\n",
    "            l[i-1][k][1] = np.asarray(l2, dtype=np.float32)/255\n",
    "            l[i-1][k][2] = l3\n",
    "\n",
    "    return l\n",
    "\n",
    "l = SegregateData(dataset, subdir)"
   ]
  },
  {
   "cell_type": "code",
   "execution_count": 18,
   "id": "167c2d8c",
   "metadata": {},
   "outputs": [],
   "source": [
    "import seaborn as sns"
   ]
  },
  {
   "cell_type": "code",
   "execution_count": 19,
   "id": "b4d362df",
   "metadata": {},
   "outputs": [],
   "source": [
    "import pandas as pd"
   ]
  },
  {
   "cell_type": "code",
   "execution_count": 20,
   "id": "ec2cbbea",
   "metadata": {},
   "outputs": [
    {
     "data": {
      "text/plain": [
       "<AxesSubplot:ylabel='Count'>"
      ]
     },
     "execution_count": 20,
     "metadata": {},
     "output_type": "execute_result"
    },
    {
     "data": {
      "image/png": "[encoded data removed]",
      "text/plain": [
       "<Figure size 432x288 with 1 Axes>"
      ]
     },
     "metadata": {
      "needs_background": "light"
     },
     "output_type": "display_data"
    }
   ],
   "source": [
    "sns.histplot(l[0][0][1].flatten(),binrange=[0,1],binwidth=0.05)"
   ]
  },
  {
   "cell_type": "code",
   "execution_count": 21,
   "id": "bbd09876",
   "metadata": {},
   "outputs": [
    {
     "data": {
      "text/plain": [
       "<AxesSubplot:ylabel='Count'>"
      ]
     },
     "execution_count": 21,
     "metadata": {},
     "output_type": "execute_result"
    },
    {
     "data": {
      "image/png": "[encoded data removed]",
      "text/plain": [
       "<Figure size 432x288 with 1 Axes>"
      ]
     },
     "metadata": {
      "needs_background": "light"
     },
     "output_type": "display_data"
    }
   ],
   "source": [
    "sns.histplot(l[0][1][1].flatten(),binrange=[0,1],binwidth=0.05)"
   ]
  },
  {
   "cell_type": "code",
   "execution_count": 22,
   "id": "837a0230",
   "metadata": {},
   "outputs": [
    {
     "data": {
      "text/plain": [
       "<AxesSubplot:ylabel='Count'>"
      ]
     },
     "execution_count": 22,
     "metadata": {},
     "output_type": "execute_result"
    },
    {
     "data": {
      "image/png": "[encoded data removed]",
      "text/plain": [
       "<Figure size 432x288 with 1 Axes>"
      ]
     },
     "metadata": {
      "needs_background": "light"
     },
     "output_type": "display_data"
    }
   ],
   "source": [
    "sns.histplot(l[0][2][1].flatten(),binrange=[0,1],binwidth=0.05)"
   ]
  },
  {
   "cell_type": "code",
   "execution_count": 23,
   "id": "e8718723",
   "metadata": {},
   "outputs": [
    {
     "data": {
      "text/plain": [
       "<AxesSubplot:ylabel='Count'>"
      ]
     },
     "execution_count": 23,
     "metadata": {},
     "output_type": "execute_result"
    },
    {
     "data": {
      "image/png": "[encoded data removed]",
      "text/plain": [
       "<Figure size 432x288 with 1 Axes>"
      ]
     },
     "metadata": {
      "needs_background": "light"
     },
     "output_type": "display_data"
    }
   ],
   "source": [
    "sns.histplot(l[1][0][1].flatten(),binrange=[0,1],binwidth=0.05)"
   ]
  },
  {
   "cell_type": "code",
   "execution_count": 24,
   "id": "5f7ef4b2",
   "metadata": {},
   "outputs": [
    {
     "data": {
      "text/plain": [
       "<AxesSubplot:ylabel='Count'>"
      ]
     },
     "execution_count": 24,
     "metadata": {},
     "output_type": "execute_result"
    },
    {
     "data": {
      "image/png": "[encoded data removed]",
      "text/plain": [
       "<Figure size 432x288 with 1 Axes>"
      ]
     },
     "metadata": {
      "needs_background": "light"
     },
     "output_type": "display_data"
    }
   ],
   "source": [
    "sns.histplot(l[1][1][1].flatten(),binrange=[0,1],binwidth=0.05)"
   ]
  },
  {
   "cell_type": "code",
   "execution_count": 25,
   "id": "9698ac9f",
   "metadata": {},
   "outputs": [
    {
     "data": {
      "text/plain": [
       "<AxesSubplot:ylabel='Count'>"
      ]
     },
     "execution_count": 25,
     "metadata": {},
     "output_type": "execute_result"
    },
    {
     "data": {
      "image/png": "[encoded data removed]",
      "text/plain": [
       "<Figure size 432x288 with 1 Axes>"
      ]
     },
     "metadata": {
      "needs_background": "light"
     },
     "output_type": "display_data"
    }
   ],
   "source": [
    "sns.histplot(l[1][2][1].flatten(),binrange=[0,1],binwidth=0.05)"
   ]
  },
  {
   "cell_type": "code",
   "execution_count": 26,
   "id": "e33fd752",
   "metadata": {},
   "outputs": [
    {
     "data": {
      "text/plain": [
       "<AxesSubplot:ylabel='Count'>"
      ]
     },
     "execution_count": 26,
     "metadata": {},
     "output_type": "execute_result"
    },
    {
     "data": {
      "image/png": "[encoded data removed]",
      "text/plain": [
       "<Figure size 432x288 with 1 Axes>"
      ]
     },
     "metadata": {
      "needs_background": "light"
     },
     "output_type": "display_data"
    }
   ],
   "source": [
    "sns.histplot(l[2][0][1].flatten(),binrange=[0,1],binwidth=0.05)"
   ]
  },
  {
   "cell_type": "code",
   "execution_count": 27,
   "id": "a2b6740c",
   "metadata": {},
   "outputs": [
    {
     "data": {
      "text/plain": [
       "<AxesSubplot:ylabel='Count'>"
      ]
     },
     "execution_count": 27,
     "metadata": {},
     "output_type": "execute_result"
    },
    {
     "data": {
      "image/png": "[encoded data removed]",
      "text/plain": [
       "<Figure size 432x288 with 1 Axes>"
      ]
     },
     "metadata": {
      "needs_background": "light"
     },
     "output_type": "display_data"
    }
   ],
   "source": [
    "sns.histplot(l[2][1][1].flatten(),binrange=[0,1],binwidth=0.05)"
   ]
  },
  {
   "cell_type": "code",
   "execution_count": 28,
   "id": "5d25695b",
   "metadata": {},
   "outputs": [
    {
     "data": {
      "text/plain": [
       "<AxesSubplot:ylabel='Count'>"
      ]
     },
     "execution_count": 28,
     "metadata": {},
     "output_type": "execute_result"
    },
    {
     "data": {
      "image/png": "[encoded data removed]",
      "text/plain": [
       "<Figure size 432x288 with 1 Axes>"
      ]
     },
     "metadata": {
      "needs_background": "light"
     },
     "output_type": "display_data"
    }
   ],
   "source": [
    "sns.histplot(l[2][2][1].flatten(),binrange=[0,1],binwidth=0.05)"
   ]
  },
  {
   "cell_type": "code",
   "execution_count": null,
   "id": "fdcd1738",
   "metadata": {},
   "outputs": [],
   "source": []
  }
 ],
 "metadata": {
  "kernelspec": {
   "display_name": "Python 3 (ipykernel)",
   "language": "python",
   "name": "python3"
  },
  "language_info": {
   "codemirror_mode": {
    "name": "ipython",
    "version": 3
   },
   "file_extension": ".py",
   "mimetype": "text/x-python",
   "name": "python",
   "nbconvert_exporter": "python",
   "pygments_lexer": "ipython3",
   "version": "3.8.13"
  }
 },
 "nbformat": 4,
 "nbformat_minor": 5
}
