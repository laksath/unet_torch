{
 "cells": [
  {
   "cell_type": "code",
   "execution_count": 1,
   "metadata": {},
   "outputs": [],
   "source": [
    "# import the necessary packages\n",
    "import torch\n",
    "import os\n",
    "from torch.utils.data import Dataset\n",
    "import numpy as np\n",
    "import matplotlib.pyplot as plt\n",
    "import cv2\n",
    "from torch.optim import Adam\n",
    "from torch.utils.data import DataLoader\n",
    "from torchvision import transforms\n",
    "from tqdm import tqdm\n",
    "import matplotlib.pyplot as plt\n",
    "import time\n",
    "\n",
    "from torch.nn import ConvTranspose2d\n",
    "from torch.nn import Conv2d\n",
    "from torch.nn import MaxPool2d\n",
    "from torch.nn import Module\n",
    "from torch.nn import ModuleList\n",
    "from torch.nn import ReLU\n",
    "from torchvision.transforms import CenterCrop\n",
    "from torch.nn import functional as F\n",
    "import torch.nn as nn\n",
    "\n",
    "import pprint"
   ]
  },
  {
   "cell_type": "code",
   "execution_count": 2,
   "metadata": {},
   "outputs": [],
   "source": [
    "random_seed = 1 # or any of your favorite number \n",
    "torch.manual_seed(random_seed)\n",
    "torch.cuda.manual_seed(random_seed)\n",
    "torch.backends.cudnn.deterministic = True\n",
    "torch.backends.cudnn.benchmark = False\n",
    "np.random.seed(random_seed)"
   ]
  },
  {
   "cell_type": "code",
   "execution_count": 3,
   "metadata": {},
   "outputs": [],
   "source": [
    "# determine the device to be used for training and evaluation\n",
    "DEVICE = \"cuda\" if torch.cuda.is_available() else \"cpu\"\n",
    "\n",
    "# determine if we will be pinning memory during data loading\n",
    "PIN_MEMORY = True if DEVICE == \"cuda\" else False"
   ]
  },
  {
   "cell_type": "code",
   "execution_count": 15,
   "metadata": {},
   "outputs": [],
   "source": [
    "# initialize learning rate, number of epochs to train for, and the batch size\n",
    "INIT_LR = 0.001\n",
    "NUM_EPOCHS = 20\n",
    "BATCH_SIZE = 32\n",
    "\n",
    "# define threshold to filter weak predictions\n",
    "THRESHOLD = 0.5\n",
    "\n",
    "# define the path to the base output directory\n",
    "BASE_OUTPUT = \"output\"\n",
    "\n",
    "# define the path to the output serialized model, model training\n",
    "# plot, and testing image paths\n",
    "MODEL_PATH = os.path.join(BASE_OUTPUT, \"unet.pth\")\n",
    "PLOT_PATH = os.path.sep.join([BASE_OUTPUT, \"plot.png\"])"
   ]
  },
  {
   "cell_type": "code",
   "execution_count": 16,
   "metadata": {},
   "outputs": [],
   "source": [
    "subdir = [\"benign_image/\", \"benign_mask/\", \"malignant_image/\",\"malignant_mask/\", \"normal_image/\", \"normal_mask/\"]\n",
    "dataset = ['dataset/','train/', 'test/', 'validation/']\n",
    "\n",
    "train_test_valid = [[[], [], []], [[], [], []], [[], [], []]]\n",
    "\n",
    "for i in range(1, len(dataset)):\n",
    "    for j in range(3):\n",
    "    # for j in range(2):\n",
    "        for k in range(len(os.listdir(dataset[0]+dataset[i]+subdir[j*2]))):\n",
    "            train_test_valid[i-1][0].append(plt.imread(\n",
    "                dataset[0]+dataset[i]+subdir[j*2]+str(k)+\".jpeg\"))\n",
    "            train_test_valid[i-1][1].append(plt.imread(\n",
    "                dataset[0]+dataset[i]+subdir[j*2+1]+str(k)+\".jpeg\"))\n",
    "            train_test_valid[i-1][2].append(j)\n",
    "\n",
    "X_train_npy = np.asarray(train_test_valid[0][0], dtype=np.float32)/255\n",
    "y_train_npy = np.asarray(train_test_valid[0][1], dtype=np.float32)/255\n",
    "\n",
    "X_test_npy = np.asarray(train_test_valid[1][0], dtype=np.float32)/255\n",
    "y_test_npy = np.asarray(train_test_valid[1][1], dtype=np.float32)/255\n",
    "\n",
    "X_valid_npy = np.asarray(train_test_valid[2][0], dtype=np.float32)/255\n",
    "y_valid_npy = np.asarray(train_test_valid[2][1], dtype=np.float32)/255"
   ]
  },
  {
   "cell_type": "code",
   "execution_count": 17,
   "metadata": {},
   "outputs": [],
   "source": [
    "def SegregateData(dataset, subdir):\n",
    "\n",
    "    l = [\n",
    "            [\n",
    "                [[], [], []],\n",
    "                [[], [], []],\n",
    "                [[], [], []],\n",
    "            ], \n",
    "            [\n",
    "                [[], [], []],\n",
    "                [[], [], []],\n",
    "                [[], [], []],\n",
    "            ],\n",
    "            [\n",
    "                [[], [], []],\n",
    "                [[], [], []],\n",
    "                [[], [], []],\n",
    "            ],\n",
    "        ]\n",
    "\n",
    "    for i in range(1, 4):\n",
    "        for k in range(3):\n",
    "            dir_l = os.listdir(dataset[0]+dataset[i]+subdir[k*2])\n",
    "            dir_l2 = os.listdir(dataset[0]+dataset[i]+subdir[k*2+1])\n",
    "\n",
    "            l1 = []\n",
    "            for j in range(len(dir_l)):\n",
    "                l1.append(plt.imread(dataset[0]+dataset[i]+subdir[k*2]+dir_l[j]))\n",
    "            \n",
    "            l2 = []\n",
    "            for j in range(len(dir_l2)):\n",
    "                l2.append(plt.imread(dataset[0]+dataset[i]+subdir[k*2+1]+dir_l2[j]))\n",
    "\n",
    "            l3=[]\n",
    "            for j in range(len(dir_l2)):\n",
    "                q=[0,0,0]\n",
    "                q[k]=1\n",
    "                l3.append(q)\n",
    "\n",
    "            l[i-1][k][0] = np.asarray(l1, dtype=np.float32)/255\n",
    "            l[i-1][k][1] = np.asarray(l2, dtype=np.float32)/255\n",
    "            l[i-1][k][2] = l3\n",
    "\n",
    "    return l\n",
    "\n",
    "l = SegregateData(dataset, subdir)\n",
    "\n",
    "# X_train_benign   --> l[0][0][0]  # X_test_benign   --> l[1][0][0]  # X_validation_benign   --> l[2][0][0]\n",
    "# y_train_benign   --> l[0][0][1]  # y_test_benign   --> l[1][0][1]  # y_validation_benign   --> l[2][0][1]\n",
    "# X_train_malgiant --> l[0][1][0]  # X_test_malgiant --> l[1][1][0]  # X_validation_malgiant --> l[2][1][0]\n",
    "# y_train_malgiant --> l[0][1][1]  # y_test_malgiant --> l[1][1][1]  # y_validation_malgiant --> l[2][1][1]\n",
    "# X_train_normal   --> l[0][2][0]  # X_test_normal   --> l[1][2][0]  # X_validation_normal   --> l[2][2][0]\n",
    "# y_train_normal   --> l[0][2][1]  # y_test_normal   --> l[1][2][1]  # y_validation_normal   --> l[2][2][1]"
   ]
  },
  {
   "cell_type": "code",
   "execution_count": 18,
   "metadata": {},
   "outputs": [],
   "source": [
    "class SegmentationDataset(Dataset):\n",
    "\n",
    "\tdef __init__(self, X, y, transforms):\n",
    "\t\tself.X = X\n",
    "\t\tself.y = y\n",
    "\t\tself.transforms = transforms\n",
    "\n",
    "\tdef __len__(self):\n",
    "\t\treturn len(self.y)\n",
    "\n",
    "\tdef __getitem__(self, idx):\n",
    "\t\t\n",
    "\t\timage = self.X[idx]\n",
    "\t\tmask = self.y[idx]\n",
    "  \n",
    "\t\tif self.transforms is not None:\n",
    "\t\t\timage = self.transforms(image)\n",
    "\t\t\tmask = self.transforms(mask)\n",
    "   \n",
    "\t\t# return a tuple of the image and its mask\n",
    "\t\treturn (image, mask)"
   ]
  },
  {
   "cell_type": "code",
   "execution_count": 19,
   "metadata": {},
   "outputs": [],
   "source": [
    "class DoubleConv(nn.Module):\n",
    "    \n",
    "    def __init__(self, in_channels, out_channels, mid_channels=None):\n",
    "        super().__init__()\n",
    "        \n",
    "        if not mid_channels:\n",
    "            mid_channels = out_channels\n",
    "            \n",
    "        self.double_conv = nn.Sequential(\n",
    "            nn.Conv2d(in_channels, mid_channels, kernel_size=3, padding=1, bias=False),\n",
    "            nn.BatchNorm2d(mid_channels),\n",
    "            nn.ReLU(inplace=True),\n",
    "            nn.Conv2d(mid_channels, out_channels, kernel_size=3, padding=1, bias=False),\n",
    "            nn.BatchNorm2d(out_channels),\n",
    "            nn.ReLU(inplace=True)\n",
    "        )\n",
    "\n",
    "    def forward(self, x):\n",
    "        return self.double_conv(x)\n",
    "    \n",
    "class Encoder(nn.Module):\n",
    "\n",
    "    def __init__(self, in_channels, out_channels):\n",
    "        super().__init__()\n",
    "        \n",
    "        self.max = nn.MaxPool2d(2)\n",
    "        self.conv_block = DoubleConv(in_channels, out_channels)\n",
    "        # self.dropout = nn.Dropout2d(p=0.3)\n",
    "\n",
    "    def forward(self, x):\n",
    "        \n",
    "        conv = self.conv_block(x)\n",
    "        pool = self.max(conv)\n",
    "        # drop = self.dropout(pool)\n",
    "        \n",
    "        # return conv, drop\n",
    "        return conv, pool"
   ]
  },
  {
   "cell_type": "code",
   "execution_count": 20,
   "metadata": {},
   "outputs": [],
   "source": [
    "class DecoderB1(nn.Module):\n",
    "    \n",
    "    def __init__(self, in_channels, mid_channels, out_channels):\n",
    "        super().__init__()\n",
    "        \n",
    "        self.conv_transpose = nn.ConvTranspose2d(in_channels, out_channels, kernel_size=2, stride=2)\n",
    "        self.conv_block = DoubleConv(mid_channels, out_channels)\n",
    "        # self.dropout = nn.Dropout2d(p=0.3)\n",
    "    \n",
    "    def forward(self, x, skip_features, skip_features_b2):\n",
    "\n",
    "        x = self.conv_transpose(x)\n",
    "        x = torch.cat([x, skip_features, skip_features_b2],dim=1)\n",
    "        # x = self.dropout(x)\n",
    "        x = self.conv_block(x)\n",
    "\n",
    "        return x\n",
    "\n",
    "class DecoderB2(nn.Module):\n",
    "    \n",
    "    def __init__(self, in_channels, out_channels):\n",
    "        super().__init__()\n",
    "        \n",
    "        self.conv_transpose = nn.ConvTranspose2d(in_channels, out_channels, kernel_size=2, stride=2)\n",
    "        self.conv_block = DoubleConv(in_channels, out_channels)\n",
    "        # self.dropout = nn.Dropout2d(p=0.3)\n",
    "    \n",
    "    def forward(self, x, skip_features):\n",
    "\n",
    "        conv_transpose = self.conv_transpose(x)\n",
    "        x = torch.cat([conv_transpose, skip_features],dim=1)\n",
    "        # x = self.dropout(x)\n",
    "        x = self.conv_block(x)\n",
    "\n",
    "        return x, conv_transpose"
   ]
  },
  {
   "cell_type": "code",
   "execution_count": 21,
   "metadata": {},
   "outputs": [],
   "source": [
    "class Branch1(nn.Module):\n",
    "    def __init__(self, in_channels, mid_channels, out_channels):\n",
    "        super().__init__()\n",
    "        \n",
    "        self.conv_block = DoubleConv(in_channels, mid_channels)\n",
    "        self.conv_2d = nn.Conv2d(mid_channels, out_channels, kernel_size=1, bias=False)\n",
    "        self.sigmoid = nn.Sigmoid()\n",
    "        \n",
    "    def forward(self, x):\n",
    "        x = self.conv_block(x)\n",
    "        x = self.conv_2d(x)\n",
    "        x = self.sigmoid(x)\n",
    "        \n",
    "        return x\n",
    "\n",
    "class Branch2(nn.Module):\n",
    "    def __init__(self, in_channels, mid_channels, out_channels):\n",
    "        super().__init__()\n",
    "        \n",
    "        self.conv_block = DoubleConv(in_channels, mid_channels)\n",
    "        self.conv_2d = nn.Conv2d(mid_channels, out_channels, kernel_size=1, bias=False)\n",
    "        self.sigmoid = nn.Sigmoid()\n",
    "        \n",
    "    def forward(self, x):\n",
    "        x = self.conv_block(x)\n",
    "        x = self.conv_2d(x)\n",
    "        x = self.sigmoid(x)\n",
    "        \n",
    "        return x"
   ]
  },
  {
   "cell_type": "code",
   "execution_count": 22,
   "metadata": {},
   "outputs": [],
   "source": [
    "class UNet(nn.Module):\n",
    "    def __init__(self, input_shape=256, n_input_channels=3, n_output_channels_b1=1, n_output_channels_b2=3, n_features=64, latent_dim=128):\n",
    "        super(UNet, self).__init__()\n",
    "        self.input_shape = input_shape\n",
    "        self.n_features = n_features\n",
    "        \n",
    "        self.down1 = Encoder(n_input_channels, n_features)\n",
    "        self.down2 = Encoder(n_features, n_features*2)\n",
    "        self.down3 = Encoder(n_features*2, n_features*4)\n",
    "        self.down4 = Encoder(n_features*4, n_features*8)\n",
    "        \n",
    "        self.bridge = DoubleConv(n_features*8, n_features*16)\n",
    "        \n",
    "        self.upb1_1 = DecoderB1(n_features*16,n_features*24, n_features*8)\n",
    "        self.upb1_2 = DecoderB1(n_features*8,n_features*12, n_features*4)\n",
    "        self.upb1_3 = DecoderB1(n_features*4,n_features*6, n_features*2)\n",
    "        self.upb1_4 = DecoderB1(n_features*2,n_features*3, n_features)\n",
    "        \n",
    "        flatten_size = n_features*16 * int(input_shape/16) * int(input_shape/16)\n",
    "        \n",
    "        self.intermediate1 = nn.Sequential(\n",
    "            nn.Linear(flatten_size, latent_dim*2),\n",
    "            nn.BatchNorm1d(latent_dim*2),\n",
    "            nn.ReLU(inplace=True),\n",
    "        )\n",
    "        \n",
    "        self.fc_mu = nn.Linear(latent_dim*2, latent_dim)\n",
    "        self.fc_var = nn.Linear(latent_dim*2, latent_dim)\n",
    "        \n",
    "        self.decoder_input = nn.Sequential(\n",
    "            nn.Linear(latent_dim, flatten_size),\n",
    "            nn.ReLU(inplace=True),\n",
    "        )\n",
    "        \n",
    "        self.upb2_1 = DecoderB2(n_features*16, n_features*8)\n",
    "        self.upb2_2 = DecoderB2(n_features*8, n_features*4)\n",
    "        self.upb2_3 = DecoderB2(n_features*4, n_features*2)\n",
    "        self.upb2_4 = DecoderB2(n_features*2, n_features)\n",
    "        \n",
    "        self.outchannel_b1_grayscale = Branch1(n_features, n_features, n_output_channels_b1)\n",
    "        self.outchannel_b1_rgb = Branch2(n_features, n_features, n_output_channels_b2)\n",
    "        self.outchannel_b2_grayscale = Branch2(n_features, n_features, n_output_channels_b2)\n",
    "    \n",
    "    def reparameterize(self, mu, logvar):\n",
    "        \"\"\"\n",
    "        Reparameterization trick to sample from N(mu, var) from\n",
    "        N(0,1).\n",
    "        :param mu: (Tensor) Mean of the latent Gaussian [B x D]\n",
    "        :param logvar: (Tensor) Standard deviation of the latent Gaussian [B x D]\n",
    "        :return: (Tensor) [B x D]\n",
    "        \"\"\"\n",
    "        std = torch.exp(0.5 * logvar)\n",
    "        eps = torch.randn_like(std)\n",
    "        \n",
    "        return eps * std + mu\n",
    "    \n",
    "    def forward(self, x):\n",
    "        \n",
    "        conv1, pool1 = self.down1(x)\n",
    "        conv2, pool2 = self.down2(pool1)\n",
    "        conv3, pool3 = self.down3(pool2)\n",
    "        conv4, pool4 = self.down4(pool3)\n",
    "        \n",
    "        bridge = self.bridge(pool4)\n",
    "        \n",
    "        #2nd branch vae\n",
    "        \n",
    "        flattened_bridge = torch.flatten(bridge, start_dim=1)\n",
    "        intermediate1 = self.intermediate1(flattened_bridge)\n",
    "        \n",
    "        mu = self.fc_mu(intermediate1)\n",
    "        log_var = self.fc_var(intermediate1)\n",
    "        \n",
    "        z = self.reparameterize(mu,log_var)\n",
    "        \n",
    "        result = self.decoder_input(z)\n",
    "        reshaped_result = result.view(-1, self.n_features*16, int(self.input_shape/16),int(self.input_shape/16))\n",
    "        \n",
    "        # 2nd branch\n",
    "        decoder_b2_1,decoder_b2_conv_transpose_1 = self.upb2_1(reshaped_result, conv4)\n",
    "        decoder_b2_2,decoder_b2_conv_transpose_2 = self.upb2_2(decoder_b2_1, conv3)\n",
    "        decoder_b2_3,decoder_b2_conv_transpose_3 = self.upb2_3(decoder_b2_2, conv2)\n",
    "        decoder_b2_4,decoder_b2_conv_transpose_4 = self.upb2_4(decoder_b2_3, conv1)\n",
    "                \n",
    "        b2_rgb = self.outchannel_b2_grayscale(decoder_b2_4)\n",
    "        \n",
    "        # 1st branch\n",
    "        decoder_b1_1 = self.upb1_1(bridge, decoder_b2_conv_transpose_1, conv4)\n",
    "        decoder_b1_2 = self.upb1_2(decoder_b1_1, decoder_b2_conv_transpose_2, conv3)\n",
    "        decoder_b1_3 = self.upb1_3(decoder_b1_2, decoder_b2_conv_transpose_3, conv2)\n",
    "        decoder_b1_4 = self.upb1_4(decoder_b1_3, decoder_b2_conv_transpose_4, conv1)\n",
    "                \n",
    "        b1_gry = self.outchannel_b1_grayscale(decoder_b1_4)\n",
    "        b1_rgb = self.outchannel_b1_rgb(decoder_b1_4)\n",
    "        \n",
    "        kld_loss = torch.mean(-0.5 * torch.sum(1 + log_var - mu ** 2 - log_var.exp(), dim = 1), dim = 0)\n",
    "        \n",
    "        return b1_gry, b1_rgb, b2_rgb, kld_loss"
   ]
  },
  {
   "cell_type": "code",
   "execution_count": 23,
   "metadata": {},
   "outputs": [],
   "source": [
    "#custom dice loss\n",
    "class DiceLoss(nn.Module):\n",
    "    def __init__(self, weight=None, size_average=True):\n",
    "        super(DiceLoss, self).__init__()\n",
    "\n",
    "    def forward(self, inputs, targets, smooth=1e-6):\n",
    "        \n",
    "        #flatten label and prediction tensors\n",
    "        inputs = inputs.view(-1)\n",
    "        targets = targets.view(-1)\n",
    "        \n",
    "        intersection = (inputs * targets).sum()                            \n",
    "        dice = (2.*intersection + smooth)/(inputs.sum() + targets.sum() + smooth)  \n",
    "        \n",
    "        return 1 - dice"
   ]
  },
  {
   "cell_type": "code",
   "execution_count": 24,
   "metadata": {},
   "outputs": [],
   "source": [
    "class SaveBestModel:\n",
    "    \"\"\"\n",
    "    Class to save the best model while training. If the current epoch's \n",
    "    validation loss is less than the previous least less, then save the\n",
    "    model state.\n",
    "    \"\"\"\n",
    "    def __init__(self, best_valid_loss=float('inf')):\n",
    "        self.best_valid_loss = best_valid_loss\n",
    "        \n",
    "    def __call__(self, current_valid_loss, epoch, model, optimizer):\n",
    "        if current_valid_loss < self.best_valid_loss:\n",
    "            self.best_valid_loss = current_valid_loss\n",
    "            print(\"Best validation dice loss: {:.4f}\".format(self.best_valid_loss)+f\" , Saving best model for epoch: {epoch+1}.\")\n",
    "            torch.save({\n",
    "                'epoch': epoch,\n",
    "                'model_state_dict': model.state_dict(),\n",
    "                'optimizer_state_dict': optimizer.state_dict(),\n",
    "                }, MODEL_PATH)\n",
    "\n",
    "def load_ckp(checkpoint_fpath, model, optimizer):\n",
    "    checkpoint = torch.load(checkpoint_fpath)\n",
    "    model.load_state_dict(checkpoint['model_state_dict'])\n",
    "    optimizer.load_state_dict(checkpoint['optimizer_state_dict'])\n",
    "    return model, optimizer, checkpoint['epoch']"
   ]
  },
  {
   "cell_type": "code",
   "execution_count": 25,
   "metadata": {},
   "outputs": [
    {
     "name": "stdout",
     "output_type": "stream",
     "text": [
      "[INFO] found 897 examples in the training set...\n",
      "[INFO] found 303 examples in the validation set...\n"
     ]
    }
   ],
   "source": [
    "# define transformations\n",
    "transforms_ = transforms.Compose([transforms.ToTensor()])\n",
    "\n",
    "# create the train and test datasets\n",
    "trainDS = SegmentationDataset(X=X_train_npy, y=y_train_npy, transforms=transforms_)\n",
    "validDS = SegmentationDataset(X=X_valid_npy, y=y_valid_npy, transforms=transforms_)\n",
    "\n",
    "print(f\"[INFO] found {len(trainDS)} examples in the training set...\")\n",
    "print(f\"[INFO] found {len(validDS)} examples in the validation set...\")\n",
    "\n",
    "# create the training and test data loaders\n",
    "trainLoader = DataLoader(trainDS, batch_size=BATCH_SIZE, pin_memory=PIN_MEMORY,num_workers=os.cpu_count(),shuffle=True,drop_last=True)\n",
    "# validLoader = DataLoader(validDS, batch_size=BATCH_SIZE, pin_memory=PIN_MEMORY,num_workers=os.cpu_count(),shuffle=True,drop_last=True)\n",
    "validLoader = DataLoader(validDS, batch_size=1, pin_memory=PIN_MEMORY,num_workers=os.cpu_count(),shuffle=True)\n",
    "\n",
    "# initialize our UNet model\n",
    "n_features = 64\n",
    "input_shape= 256\n",
    "\n",
    "unet = UNet(input_shape=input_shape, n_input_channels=3, n_output_channels_b1=1,\n",
    "            n_output_channels_b2=3, n_features= n_features, latent_dim=128).to(DEVICE)\n",
    "\n",
    "save_best_model = SaveBestModel()\n",
    "\n",
    "# initialize loss function and optimizer\n",
    "optimizer = Adam(unet.parameters(), lr=INIT_LR, weight_decay=1e-5)\n",
    "\n",
    "dice = DiceLoss()\n",
    "mse = nn.MSELoss()\n",
    "\n",
    "# calculate steps per epoch for training and valid set\n",
    "trainSteps = len(trainDS) // BATCH_SIZE\n",
    "# validSteps = len(validDS) // BATCH_SIZE\n",
    "validSteps = len(validDS) // 1"
   ]
  },
  {
   "cell_type": "code",
   "execution_count": 26,
   "metadata": {},
   "outputs": [
    {
     "name": "stdout",
     "output_type": "stream",
     "text": [
      "[INFO] training the network...\n"
     ]
    },
    {
     "name": "stderr",
     "output_type": "stream",
     "text": [
      "  0%|          | 0/20 [00:00<?, ?it/s]"
     ]
    },
    {
     "name": "stdout",
     "output_type": "stream",
     "text": [
      "------------------------------------------------------------------------------------------------------------------------------------------------------\n",
      "[INFO] EPOCH: 1/20\n",
      "Train Loss : 3.4224, Train Dice Loss : 0.8449, Train MSE B1 ip : 0.0225, Train MSE B2 ip : 0.0159, Train MSE B1 B2 : 0.0027, Train KLD Loss  : 2.5365\n",
      "Valid Loss : 1.0622, Valid Dice Loss : 0.8720, Valid MSE B1 ip : 0.0606, Valid MSE B2 ip : 0.0187, Valid MSE B1 B2 : 0.0342, Valid KLD Loss  : 0.0767\n",
      "Best validation dice loss: 0.8720 , Saving best model for epoch: 1.\n"
     ]
    },
    {
     "name": "stderr",
     "output_type": "stream",
     "text": [
      "  5%|▌         | 1/20 [01:13<23:07, 73.01s/it]"
     ]
    },
    {
     "name": "stdout",
     "output_type": "stream",
     "text": [
      "------------------------------------------------------------------------------------------------------------------------------------------------------\n",
      "[INFO] EPOCH: 2/20\n",
      "Train Loss : 1.0865, Train Dice Loss : 0.7681, Train MSE B1 ip : 0.0053, Train MSE B2 ip : 0.0030, Train MSE B1 B2 : 0.0012, Train KLD Loss  : 0.3089\n",
      "Valid Loss : 0.8669, Valid Dice Loss : 0.8313, Valid MSE B1 ip : 0.0032, Valid MSE B2 ip : 0.0018, Valid MSE B1 B2 : 0.0015, Valid KLD Loss  : 0.0292\n",
      "Best validation dice loss: 0.8313 , Saving best model for epoch: 2.\n"
     ]
    },
    {
     "name": "stderr",
     "output_type": "stream",
     "text": [
      " 10%|█         | 2/20 [02:26<21:57, 73.18s/it]"
     ]
    },
    {
     "name": "stdout",
     "output_type": "stream",
     "text": [
      "------------------------------------------------------------------------------------------------------------------------------------------------------\n",
      "[INFO] EPOCH: 3/20\n",
      "Train Loss : 0.8641, Train Dice Loss : 0.7230, Train MSE B1 ip : 0.0022, Train MSE B2 ip : 0.0015, Train MSE B1 B2 : 0.0006, Train KLD Loss  : 0.1369\n",
      "Valid Loss : 0.8297, Valid Dice Loss : 0.7860, Valid MSE B1 ip : 0.0019, Valid MSE B2 ip : 0.0009, Valid MSE B1 B2 : 0.0009, Valid KLD Loss  : 0.0399\n",
      "Best validation dice loss: 0.7860 , Saving best model for epoch: 3.\n"
     ]
    },
    {
     "name": "stderr",
     "output_type": "stream",
     "text": [
      " 15%|█▌        | 3/20 [03:39<20:45, 73.24s/it]"
     ]
    },
    {
     "name": "stdout",
     "output_type": "stream",
     "text": [
      "------------------------------------------------------------------------------------------------------------------------------------------------------\n",
      "[INFO] EPOCH: 4/20\n",
      "Train Loss : 0.7344, Train Dice Loss : 0.6722, Train MSE B1 ip : 0.0019, Train MSE B2 ip : 0.0011, Train MSE B1 B2 : 0.0007, Train KLD Loss  : 0.0585\n",
      "Valid Loss : 0.8315, Valid Dice Loss : 0.7827, Valid MSE B1 ip : 0.0032, Valid MSE B2 ip : 0.0009, Valid MSE B1 B2 : 0.0022, Valid KLD Loss  : 0.0426\n",
      "Best validation dice loss: 0.7827 , Saving best model for epoch: 4.\n"
     ]
    },
    {
     "name": "stderr",
     "output_type": "stream",
     "text": [
      " 20%|██        | 4/20 [04:52<19:31, 73.23s/it]"
     ]
    },
    {
     "name": "stdout",
     "output_type": "stream",
     "text": [
      "------------------------------------------------------------------------------------------------------------------------------------------------------\n"
     ]
    },
    {
     "name": "stderr",
     "output_type": "stream",
     "text": [
      " 25%|██▌       | 5/20 [06:01<17:51, 71.43s/it]"
     ]
    },
    {
     "name": "stdout",
     "output_type": "stream",
     "text": [
      "[INFO] EPOCH: 5/20\n",
      "Train Loss : 0.6792, Train Dice Loss : 0.6370, Train MSE B1 ip : 0.0013, Train MSE B2 ip : 0.0009, Train MSE B1 B2 : 0.0004, Train KLD Loss  : 0.0396\n",
      "Valid Loss : 0.8478, Valid Dice Loss : 0.8102, Valid MSE B1 ip : 0.0010, Valid MSE B2 ip : 0.0006, Valid MSE B1 B2 : 0.0003, Valid KLD Loss  : 0.0356\n",
      "------------------------------------------------------------------------------------------------------------------------------------------------------\n",
      "[INFO] EPOCH: 6/20\n",
      "Train Loss : 0.6224, Train Dice Loss : 0.5857, Train MSE B1 ip : 0.0011, Train MSE B2 ip : 0.0006, Train MSE B1 B2 : 0.0003, Train KLD Loss  : 0.0347\n",
      "Valid Loss : 0.7506, Valid Dice Loss : 0.7275, Valid MSE B1 ip : 0.0012, Valid MSE B2 ip : 0.0005, Valid MSE B1 B2 : 0.0008, Valid KLD Loss  : 0.0206\n",
      "Best validation dice loss: 0.7275 , Saving best model for epoch: 6.\n"
     ]
    },
    {
     "name": "stderr",
     "output_type": "stream",
     "text": [
      " 30%|███       | 6/20 [07:14<16:49, 72.14s/it]"
     ]
    },
    {
     "name": "stdout",
     "output_type": "stream",
     "text": [
      "------------------------------------------------------------------------------------------------------------------------------------------------------\n",
      "[INFO] EPOCH: 7/20\n",
      "Train Loss : 0.5571, Train Dice Loss : 0.5303, Train MSE B1 ip : 0.0013, Train MSE B2 ip : 0.0008, Train MSE B1 B2 : 0.0004, Train KLD Loss  : 0.0243\n",
      "Valid Loss : 0.7504, Valid Dice Loss : 0.7234, Valid MSE B1 ip : 0.0019, Valid MSE B2 ip : 0.0006, Valid MSE B1 B2 : 0.0012, Valid KLD Loss  : 0.0233\n",
      "Best validation dice loss: 0.7234 , Saving best model for epoch: 7.\n"
     ]
    },
    {
     "name": "stderr",
     "output_type": "stream",
     "text": [
      " 35%|███▌      | 7/20 [08:27<15:42, 72.49s/it]"
     ]
    },
    {
     "name": "stdout",
     "output_type": "stream",
     "text": [
      "------------------------------------------------------------------------------------------------------------------------------------------------------\n",
      "[INFO] EPOCH: 8/20\n",
      "Train Loss : 0.5472, Train Dice Loss : 0.5127, Train MSE B1 ip : 0.0011, Train MSE B2 ip : 0.0006, Train MSE B1 B2 : 0.0004, Train KLD Loss  : 0.0324\n",
      "Valid Loss : 0.7391, Valid Dice Loss : 0.6998, Valid MSE B1 ip : 0.0025, Valid MSE B2 ip : 0.0007, Valid MSE B1 B2 : 0.0022, Valid KLD Loss  : 0.0339\n",
      "Best validation dice loss: 0.6998 , Saving best model for epoch: 8.\n"
     ]
    },
    {
     "name": "stderr",
     "output_type": "stream",
     "text": [
      " 40%|████      | 8/20 [09:40<14:31, 72.66s/it]"
     ]
    },
    {
     "name": "stdout",
     "output_type": "stream",
     "text": [
      "------------------------------------------------------------------------------------------------------------------------------------------------------\n"
     ]
    },
    {
     "name": "stderr",
     "output_type": "stream",
     "text": [
      " 45%|████▌     | 9/20 [10:48<13:03, 71.20s/it]"
     ]
    },
    {
     "name": "stdout",
     "output_type": "stream",
     "text": [
      "[INFO] EPOCH: 9/20\n",
      "Train Loss : 0.5499, Train Dice Loss : 0.5201, Train MSE B1 ip : 0.0013, Train MSE B2 ip : 0.0008, Train MSE B1 B2 : 0.0004, Train KLD Loss  : 0.0273\n",
      "Valid Loss : 0.7721, Valid Dice Loss : 0.7400, Valid MSE B1 ip : 0.0064, Valid MSE B2 ip : 0.0006, Valid MSE B1 B2 : 0.0055, Valid KLD Loss  : 0.0197\n",
      "------------------------------------------------------------------------------------------------------------------------------------------------------\n",
      "[INFO] EPOCH: 10/20\n",
      "Train Loss : 0.5662, Train Dice Loss : 0.5354, Train MSE B1 ip : 0.0013, Train MSE B2 ip : 0.0006, Train MSE B1 B2 : 0.0006, Train KLD Loss  : 0.0284\n",
      "Valid Loss : 0.7116, Valid Dice Loss : 0.6923, Valid MSE B1 ip : 0.0013, Valid MSE B2 ip : 0.0006, Valid MSE B1 B2 : 0.0008, Valid KLD Loss  : 0.0166\n",
      "Best validation dice loss: 0.6923 , Saving best model for epoch: 10.\n"
     ]
    },
    {
     "name": "stderr",
     "output_type": "stream",
     "text": [
      " 50%|█████     | 10/20 [12:02<11:58, 71.89s/it]"
     ]
    },
    {
     "name": "stdout",
     "output_type": "stream",
     "text": [
      "------------------------------------------------------------------------------------------------------------------------------------------------------\n"
     ]
    },
    {
     "name": "stderr",
     "output_type": "stream",
     "text": [
      " 55%|█████▌    | 11/20 [13:10<10:36, 70.74s/it]"
     ]
    },
    {
     "name": "stdout",
     "output_type": "stream",
     "text": [
      "[INFO] EPOCH: 11/20\n",
      "Train Loss : 0.5304, Train Dice Loss : 0.5132, Train MSE B1 ip : 0.0012, Train MSE B2 ip : 0.0006, Train MSE B1 B2 : 0.0004, Train KLD Loss  : 0.0148\n",
      "Valid Loss : 0.7095, Valid Dice Loss : 0.6955, Valid MSE B1 ip : 0.0015, Valid MSE B2 ip : 0.0006, Valid MSE B1 B2 : 0.0006, Valid KLD Loss  : 0.0114\n",
      "------------------------------------------------------------------------------------------------------------------------------------------------------\n",
      "[INFO] EPOCH: 12/20\n",
      "Train Loss : 0.5082, Train Dice Loss : 0.4954, Train MSE B1 ip : 0.0010, Train MSE B2 ip : 0.0007, Train MSE B1 B2 : 0.0004, Train KLD Loss  : 0.0106\n",
      "Valid Loss : 0.6741, Valid Dice Loss : 0.6666, Valid MSE B1 ip : 0.0007, Valid MSE B2 ip : 0.0005, Valid MSE B1 B2 : 0.0005, Valid KLD Loss  : 0.0059\n",
      "Best validation dice loss: 0.6666 , Saving best model for epoch: 12.\n"
     ]
    },
    {
     "name": "stderr",
     "output_type": "stream",
     "text": [
      " 60%|██████    | 12/20 [14:23<09:32, 71.56s/it]"
     ]
    },
    {
     "name": "stdout",
     "output_type": "stream",
     "text": [
      "------------------------------------------------------------------------------------------------------------------------------------------------------\n"
     ]
    },
    {
     "name": "stderr",
     "output_type": "stream",
     "text": [
      " 65%|██████▌   | 13/20 [15:31<08:13, 70.53s/it]"
     ]
    },
    {
     "name": "stdout",
     "output_type": "stream",
     "text": [
      "[INFO] EPOCH: 13/20\n",
      "Train Loss : 0.5033, Train Dice Loss : 0.4876, Train MSE B1 ip : 0.0009, Train MSE B2 ip : 0.0005, Train MSE B1 B2 : 0.0004, Train KLD Loss  : 0.0139\n",
      "Valid Loss : 0.7975, Valid Dice Loss : 0.7388, Valid MSE B1 ip : 0.0014, Valid MSE B2 ip : 0.0004, Valid MSE B1 B2 : 0.0008, Valid KLD Loss  : 0.0560\n",
      "------------------------------------------------------------------------------------------------------------------------------------------------------\n",
      "[INFO] EPOCH: 14/20\n",
      "Train Loss : 0.4759, Train Dice Loss : 0.4590, Train MSE B1 ip : 0.0011, Train MSE B2 ip : 0.0007, Train MSE B1 B2 : 0.0003, Train KLD Loss  : 0.0148\n",
      "Valid Loss : 0.6639, Valid Dice Loss : 0.6483, Valid MSE B1 ip : 0.0006, Valid MSE B2 ip : 0.0003, Valid MSE B1 B2 : 0.0002, Valid KLD Loss  : 0.0144\n",
      "Best validation dice loss: 0.6483 , Saving best model for epoch: 14.\n"
     ]
    },
    {
     "name": "stderr",
     "output_type": "stream",
     "text": [
      " 70%|███████   | 14/20 [16:45<07:08, 71.40s/it]"
     ]
    },
    {
     "name": "stdout",
     "output_type": "stream",
     "text": [
      "------------------------------------------------------------------------------------------------------------------------------------------------------\n"
     ]
    },
    {
     "name": "stderr",
     "output_type": "stream",
     "text": [
      " 75%|███████▌  | 15/20 [17:53<05:51, 70.36s/it]"
     ]
    },
    {
     "name": "stdout",
     "output_type": "stream",
     "text": [
      "[INFO] EPOCH: 15/20\n",
      "Train Loss : 0.4499, Train Dice Loss : 0.4363, Train MSE B1 ip : 0.0010, Train MSE B2 ip : 0.0006, Train MSE B1 B2 : 0.0003, Train KLD Loss  : 0.0118\n",
      "Valid Loss : 0.7195, Valid Dice Loss : 0.7028, Valid MSE B1 ip : 0.0008, Valid MSE B2 ip : 0.0004, Valid MSE B1 B2 : 0.0003, Valid KLD Loss  : 0.0153\n",
      "------------------------------------------------------------------------------------------------------------------------------------------------------\n"
     ]
    },
    {
     "name": "stderr",
     "output_type": "stream",
     "text": [
      " 80%|████████  | 16/20 [19:01<04:38, 69.72s/it]"
     ]
    },
    {
     "name": "stdout",
     "output_type": "stream",
     "text": [
      "[INFO] EPOCH: 16/20\n",
      "Train Loss : 0.4450, Train Dice Loss : 0.4304, Train MSE B1 ip : 0.0009, Train MSE B2 ip : 0.0005, Train MSE B1 B2 : 0.0003, Train KLD Loss  : 0.0128\n",
      "Valid Loss : 0.7473, Valid Dice Loss : 0.7388, Valid MSE B1 ip : 0.0011, Valid MSE B2 ip : 0.0007, Valid MSE B1 B2 : 0.0004, Valid KLD Loss  : 0.0063\n",
      "------------------------------------------------------------------------------------------------------------------------------------------------------\n",
      "[INFO] EPOCH: 17/20\n",
      "Train Loss : 0.4104, Train Dice Loss : 0.3998, Train MSE B1 ip : 0.0007, Train MSE B2 ip : 0.0004, Train MSE B1 B2 : 0.0002, Train KLD Loss  : 0.0094\n",
      "Valid Loss : 0.6555, Valid Dice Loss : 0.6471, Valid MSE B1 ip : 0.0006, Valid MSE B2 ip : 0.0003, Valid MSE B1 B2 : 0.0002, Valid KLD Loss  : 0.0072\n",
      "Best validation dice loss: 0.6471 , Saving best model for epoch: 17.\n"
     ]
    },
    {
     "name": "stderr",
     "output_type": "stream",
     "text": [
      " 85%|████████▌ | 17/20 [20:15<03:32, 70.87s/it]"
     ]
    },
    {
     "name": "stdout",
     "output_type": "stream",
     "text": [
      "------------------------------------------------------------------------------------------------------------------------------------------------------\n"
     ]
    },
    {
     "name": "stderr",
     "output_type": "stream",
     "text": [
      " 90%|█████████ | 18/20 [21:23<02:20, 70.04s/it]"
     ]
    },
    {
     "name": "stdout",
     "output_type": "stream",
     "text": [
      "[INFO] EPOCH: 18/20\n",
      "Train Loss : 0.4039, Train Dice Loss : 0.3957, Train MSE B1 ip : 0.0008, Train MSE B2 ip : 0.0006, Train MSE B1 B2 : 0.0002, Train KLD Loss  : 0.0066\n",
      "Valid Loss : 0.7250, Valid Dice Loss : 0.7179, Valid MSE B1 ip : 0.0006, Valid MSE B2 ip : 0.0002, Valid MSE B1 B2 : 0.0004, Valid KLD Loss  : 0.0058\n",
      "------------------------------------------------------------------------------------------------------------------------------------------------------\n"
     ]
    },
    {
     "name": "stderr",
     "output_type": "stream",
     "text": [
      " 95%|█████████▌| 19/20 [22:31<01:09, 69.52s/it]"
     ]
    },
    {
     "name": "stdout",
     "output_type": "stream",
     "text": [
      "[INFO] EPOCH: 19/20\n",
      "Train Loss : 0.4096, Train Dice Loss : 0.3990, Train MSE B1 ip : 0.0009, Train MSE B2 ip : 0.0005, Train MSE B1 B2 : 0.0003, Train KLD Loss  : 0.0090\n",
      "Valid Loss : 0.7242, Valid Dice Loss : 0.7147, Valid MSE B1 ip : 0.0011, Valid MSE B2 ip : 0.0004, Valid MSE B1 B2 : 0.0006, Valid KLD Loss  : 0.0073\n",
      "------------------------------------------------------------------------------------------------------------------------------------------------------\n",
      "[INFO] EPOCH: 20/20\n",
      "Train Loss : 0.3848, Train Dice Loss : 0.3782, Train MSE B1 ip : 0.0007, Train MSE B2 ip : 0.0005, Train MSE B1 B2 : 0.0002, Train KLD Loss  : 0.0053\n",
      "Valid Loss : 0.6400, Valid Dice Loss : 0.6350, Valid MSE B1 ip : 0.0005, Valid MSE B2 ip : 0.0003, Valid MSE B1 B2 : 0.0002, Valid KLD Loss  : 0.0040\n",
      "Best validation dice loss: 0.6350 , Saving best model for epoch: 20.\n"
     ]
    },
    {
     "name": "stderr",
     "output_type": "stream",
     "text": [
      "100%|██████████| 20/20 [23:45<00:00, 71.25s/it]"
     ]
    },
    {
     "name": "stdout",
     "output_type": "stream",
     "text": [
      "------------------------------------------------------------------------------------------------------------------------------------------------------\n",
      "[INFO] total time taken to train the model: 1425.02s\n"
     ]
    },
    {
     "name": "stderr",
     "output_type": "stream",
     "text": [
      "\n"
     ]
    }
   ],
   "source": [
    "# initialize a dictionary to store training history\n",
    "train_history = {\n",
    "    \"train_loss\": [],\n",
    "\t\"train_dice_loss\": [],\n",
    "\t\"train_mse_b1_ip\": [],\n",
    "\t\"train_mse_b2_ip\": [],\n",
    "\t\"train_mse_b1_b2\": [],\n",
    "\t\"train_kld_loss_\": [],\n",
    "}\n",
    "\n",
    "valid_history = {\n",
    "\t\"valid_loss\": [],\n",
    "    \"valid_dice_loss\": [],\n",
    "\t\"valid_mse_b1_ip\": [],\n",
    "\t\"valid_mse_b2_ip\": [],\n",
    "\t\"valid_mse_b1_b2\": [],\n",
    "\t\"valid_kld_loss_\": [],\n",
    "}\n",
    "\n",
    "# loop over epochs\n",
    "print(\"[INFO] training the network...\")\n",
    "startTime = time.time()\n",
    "\n",
    "for e in tqdm(range(NUM_EPOCHS)):\n",
    "\n",
    "\tprint(\"-\"*150)\n",
    "\n",
    "\t# set the model in training mode\n",
    "\tunet.train()\n",
    " \n",
    "\t# initialize the total training and validation loss\n",
    "\ttotal_train_loss = 0\n",
    "\n",
    "\ttotal_train_dice_loss = 0\n",
    "\ttotal_train_mse_b1_ip = 0\n",
    "\ttotal_train_mse_b2_ip = 0\n",
    "\ttotal_train_mse_b1_b2 = 0\n",
    "\ttotal_train_kld_loss_ = 0\n",
    " \n",
    "\ttotal_valid_loss = 0\n",
    " \n",
    "\ttotal_valid_dice_loss = 0\n",
    "\ttotal_valid_mse_b1_ip = 0\n",
    "\ttotal_valid_mse_b2_ip = 0\n",
    "\ttotal_valid_mse_b1_b2 = 0\n",
    "\ttotal_valid_kld_loss_ = 0\n",
    "\n",
    "\t# loop over the training set\n",
    "\tfor (i, (x, y)) in enumerate(trainLoader):\n",
    "\t\t# print(i)\n",
    "\t\t# send the input to the device\n",
    "\t\t(x, y) = (x.to(DEVICE), y.to(DEVICE))\n",
    "  \n",
    "\t\t# perform a forward pass and calculate the training loss\n",
    "  \n",
    "\t\tpred_b1_gry, pred_b1_rgb, pred_b2_rgb, kld_loss = unet(x)\n",
    "\n",
    "\t\tdice_loss = dice(pred_b1_gry, y)\n",
    "\t\tmse_b1_ip = mse(pred_b1_rgb.view(-1), x.view(-1))\n",
    "\t\tmse_b2_ip = mse(pred_b2_rgb.view(-1), x.view(-1))\n",
    "\t\tmse_b1_b2 = mse(pred_b1_rgb.view(-1), pred_b2_rgb.view(-1))\n",
    "\n",
    "\t\tloss = dice_loss + mse_b1_ip + mse_b2_ip + mse_b1_b2 + kld_loss\n",
    "\n",
    "\t\t# first, zero out any previously accumulated gradients, then\n",
    "\t\t# perform backpropagation, and then update model parameters\n",
    "\t\toptimizer.zero_grad()\n",
    "\t\tloss.backward()\n",
    "\t\toptimizer.step()\n",
    "\t\t\n",
    "\t\t# add the loss to the total training loss so far\n",
    "  \n",
    "\t\ttotal_train_dice_loss += dice_loss\n",
    "\t\ttotal_train_mse_b1_ip += mse_b1_ip\n",
    "\t\ttotal_train_mse_b2_ip += mse_b2_ip\n",
    "\t\ttotal_train_mse_b1_b2 += mse_b1_b2\n",
    "\t\ttotal_train_kld_loss_ += kld_loss\n",
    "  \n",
    "\t\ttotal_train_loss += loss\n",
    "\t\n",
    " \n",
    "\t# switch off autograd\n",
    "\twith torch.no_grad():\n",
    "    \n",
    "\t\t# set the model in evaluation mode\n",
    "\t\tunet.eval()\n",
    "  \n",
    "\t\t# loop over the validation set\n",
    "\t\tfor (x_v, y_v) in validLoader:\n",
    "      \n",
    "\t\t\t# send the input to the device\n",
    "\t\t\t(x_v, y_v) = (x_v.to(DEVICE), y_v.to(DEVICE))\n",
    "\n",
    "\n",
    "\t\t\t# make the predictions and calculate the validation loss\n",
    "\t\t\tvalid_pred_b1_gry, valid_pred_b1_rgb, valid_pred_b2_rgb, valid_kld_loss = unet(x_v)\n",
    "\n",
    "\t\t\tvalid_dice_loss = dice(valid_pred_b1_gry, y_v)\n",
    "\t\t\tvalid_mse_b1_ip = mse(valid_pred_b1_rgb.view(-1), x_v.view(-1))\n",
    "\t\t\tvalid_mse_b2_ip = mse(valid_pred_b2_rgb.view(-1), x_v.view(-1))\n",
    "\t\t\tvalid_mse_b1_b2 = mse(valid_pred_b1_rgb.view(-1), valid_pred_b2_rgb.view(-1))\n",
    "\n",
    "\t\t\tvalid_loss = valid_dice_loss + valid_mse_b1_ip + valid_mse_b2_ip + valid_mse_b1_b2 + valid_kld_loss\n",
    "   \n",
    "\t\t\t# add the loss to the total validation loss so far\n",
    "\t\t\ttotal_valid_dice_loss += valid_dice_loss\n",
    "\t\t\ttotal_valid_mse_b1_ip += valid_mse_b1_ip\n",
    "\t\t\ttotal_valid_mse_b2_ip += valid_mse_b2_ip\n",
    "\t\t\ttotal_valid_mse_b1_b2 += valid_mse_b1_b2\n",
    "\t\t\ttotal_valid_kld_loss_ += valid_kld_loss\n",
    "   \n",
    "\t\t\ttotal_valid_loss += valid_loss\n",
    "   \n",
    "\t# calculate the average training loss\n",
    "\tavg_train_loss = total_train_loss / trainSteps\n",
    " \n",
    "\tavg_train_dice_loss = total_train_dice_loss / trainSteps\n",
    "\tavg_train_mse_b1_ip = total_train_mse_b1_ip / trainSteps\n",
    "\tavg_train_mse_b2_ip = total_train_mse_b2_ip / trainSteps\n",
    "\tavg_train_mse_b1_b2 = total_train_mse_b1_b2 / trainSteps\n",
    "\tavg_train_kld_loss_ = total_train_kld_loss_ / trainSteps\n",
    "   \n",
    "\t# calculate the average validation loss\n",
    "\tavg_valid_loss = total_valid_loss / validSteps\n",
    " \n",
    "\tavg_valid_dice_loss = total_valid_dice_loss / validSteps\n",
    "\tavg_valid_mse_b1_ip = total_valid_mse_b1_ip / validSteps\n",
    "\tavg_valid_mse_b2_ip = total_valid_mse_b2_ip / validSteps\n",
    "\tavg_valid_mse_b1_b2 = total_valid_mse_b1_b2 / validSteps\n",
    "\tavg_valid_kld_loss_ = total_valid_kld_loss_ / validSteps\n",
    " \n",
    "\t# update our training history\n",
    "\n",
    "\ttrain_history[\"train_loss\"].append(avg_train_loss.cpu().detach().numpy())\n",
    " \n",
    "\ttrain_history[\"train_dice_loss\"].append(avg_train_dice_loss.cpu().detach().numpy())\n",
    "\ttrain_history[\"train_mse_b1_ip\"].append(avg_train_mse_b1_ip.cpu().detach().numpy())\n",
    "\ttrain_history[\"train_mse_b2_ip\"].append(avg_train_mse_b2_ip.cpu().detach().numpy())\n",
    "\ttrain_history[\"train_mse_b1_b2\"].append(avg_train_mse_b1_b2.cpu().detach().numpy())\n",
    "\ttrain_history[\"train_kld_loss_\"].append(avg_train_kld_loss_.cpu().detach().numpy())\n",
    " \n",
    "\tvalid_history[\"valid_loss\"].append(avg_valid_loss.cpu().detach().numpy())\n",
    " \n",
    "\tvalid_history[\"valid_dice_loss\"].append(avg_valid_dice_loss.cpu().detach().numpy())\n",
    "\tvalid_history[\"valid_mse_b1_ip\"].append(avg_valid_mse_b1_ip.cpu().detach().numpy())\n",
    "\tvalid_history[\"valid_mse_b2_ip\"].append(avg_valid_mse_b2_ip.cpu().detach().numpy())\n",
    "\tvalid_history[\"valid_mse_b1_b2\"].append(avg_valid_mse_b1_b2.cpu().detach().numpy())\n",
    "\tvalid_history[\"valid_kld_loss_\"].append(avg_valid_kld_loss_.cpu().detach().numpy())\n",
    " \n",
    "\t# print the model training and validation information\n",
    "\tprint(\"[INFO] EPOCH: {}/{}\".format(e + 1, NUM_EPOCHS))\n",
    "\n",
    "\tprint(\"Train Loss : {:.4f}, Train Dice Loss : {:.4f}, Train MSE B1 ip : {:.4f}, Train MSE B2 ip : {:.4f}, Train MSE B1 B2 : {:.4f}, Train KLD Loss  : {:.4f}\"\n",
    "    .format(avg_train_loss, avg_train_dice_loss, avg_train_mse_b1_ip, avg_train_mse_b2_ip, avg_train_mse_b1_b2, avg_train_kld_loss_))\n",
    " \n",
    "\tprint(\"Valid Loss : {:.4f}, Valid Dice Loss : {:.4f}, Valid MSE B1 ip : {:.4f}, Valid MSE B2 ip : {:.4f}, Valid MSE B1 B2 : {:.4f}, Valid KLD Loss  : {:.4f}\"\n",
    "    .format(avg_valid_loss, avg_valid_dice_loss, avg_valid_mse_b1_ip, avg_valid_mse_b2_ip, avg_valid_mse_b1_b2, avg_valid_kld_loss_))\n",
    "\n",
    "\tsave_best_model(avg_valid_dice_loss, e, unet, optimizer)\n",
    "\t\n",
    "# display the total time needed to perform the training\n",
    "endTime = time.time()\n",
    "print(\"-\"*150)\n",
    "print(\"[INFO] total time taken to train the model: {:.2f}s\".format(endTime - startTime))"
   ]
  },
  {
   "cell_type": "code",
   "execution_count": 27,
   "metadata": {},
   "outputs": [
    {
     "data": {
      "image/png": "[encoded data removed]",
      "text/plain": [
       "<Figure size 640x480 with 1 Axes>"
      ]
     },
     "metadata": {},
     "output_type": "display_data"
    }
   ],
   "source": [
    "plt.style.use(\"ggplot\")\n",
    "plt.figure()\n",
    "plt.plot(train_history[\"train_loss\"], label=\"train_loss\")\n",
    "plt.plot(valid_history[\"valid_loss\"], label=\"valid_loss\")\n",
    "plt.title(\"Training Loss on Dataset\")\n",
    "plt.xlabel(\"Epoch #\")\n",
    "plt.ylabel(\"Loss\")\n",
    "plt.legend(loc=\"lower left\")\n",
    "\n",
    "plt.savefig(PLOT_PATH)"
   ]
  },
  {
   "cell_type": "code",
   "execution_count": 28,
   "metadata": {},
   "outputs": [],
   "source": [
    "def prepare_plot(origImage, origMask, predMask):\n",
    "\t# initialize our figure\n",
    "\tfigure, ax = plt.subplots(nrows=1, ncols=3, figsize=(10, 10))\n",
    "\t# plot the original image, its mask, and the predicted mask\n",
    "\tax[0].imshow(origImage)\n",
    "\tax[1].imshow(origMask)\n",
    "\tax[2].imshow(predMask)\n",
    "\t# set the titles of the subplots\n",
    "\tax[0].set_title(\"Image\")\n",
    "\tax[1].set_title(\"Original Mask\")\n",
    "\tax[2].set_title(\"Predicted Mask\")\n",
    "\t# set the layout of the figure and display it\n",
    "\tfigure.tight_layout()\n",
    "\tfigure.show()"
   ]
  },
  {
   "cell_type": "code",
   "execution_count": 29,
   "metadata": {},
   "outputs": [],
   "source": [
    "def make_predictions(model, X, y):\n",
    "\t# set model to evaluation mode\n",
    "\tmodel.eval()\n",
    "\t# turn off gradient tracking\n",
    "\twith torch.no_grad():\n",
    "    \n",
    "\t\torig = X.copy()\n",
    "\t\tgtMask = y.copy()\n",
    "  \n",
    "  \n",
    "  \t\t# make the channel axis to be the leading one, add a batch dimension, create a PyTorch tensor, and flash it to the current device\n",
    "\t\timage = np.transpose(X, (2, 0, 1))\n",
    "\t\timage = np.expand_dims(image, 0)\n",
    "\t\timage = torch.from_numpy(image).to(DEVICE)\n",
    "  \n",
    "\t\t# make the prediction, and convert the result to a NumPy array\n",
    "\t\tpredMask = model(image)[0].squeeze()\n",
    "\t\tpredMask = predMask.cpu().numpy()\n",
    "  \n",
    "\t\t# filter out the weak predictions and convert them to integers\n",
    "\t\tpredMask = (predMask > THRESHOLD) * 255\n",
    "\t\tpredMask = predMask.astype(np.uint8)\n",
    "\n",
    "\t\t# prepare a plot for visualization\n",
    "\t\tprepare_plot(orig, gtMask, predMask)"
   ]
  },
  {
   "cell_type": "code",
   "execution_count": 30,
   "metadata": {},
   "outputs": [],
   "source": [
    "############# unet = torch.load(MODEL_PATH).to(DEVICE)\n",
    "\n",
    "# iterate over the randomly selected test image paths\n",
    "# for i in range(10):\n",
    "\t# make predictions and visualize the results\n",
    "\t# make_predictions(unet, X_train_npy[i], y_train_npy[i])"
   ]
  },
  {
   "cell_type": "code",
   "execution_count": 35,
   "metadata": {},
   "outputs": [],
   "source": [
    "# load our model from disk and flash it to the current device\n",
    "unet2 = UNet(\n",
    "    input_shape=input_shape, n_input_channels=3, n_output_channels_b1=1, n_output_channels_b2=3, n_features= n_features, latent_dim=128).to(DEVICE)\n",
    "optimizer2 = Adam(unet2.parameters(), lr=INIT_LR, weight_decay=1e-5)\n",
    "model2, optimizer2, start_epoch = load_ckp(MODEL_PATH,unet2,optimizer2)"
   ]
  },
  {
   "cell_type": "code",
   "execution_count": 36,
   "metadata": {},
   "outputs": [],
   "source": [
    "def DiceLoss_npy(y_true, y_pred, smooth=1e-6):\n",
    "    y_true_f = y_true.flatten()\n",
    "    y_pred_f = y_pred.flatten()\n",
    "    intersection = np.multiply(y_true_f,y_pred_f)\n",
    "    score = (2. * np.sum(intersection) + smooth) / (np.sum(y_true_f) + np.sum(y_pred_f) + smooth)\n",
    "    return (1-score).astype(np.float32)\n",
    "\n",
    "def mse_loss_npy(imageA, imageB):\n",
    "    imageA_f = imageA.flatten()\n",
    "    imageB_f = imageB.flatten()\n",
    "    return (np.sum((imageA_f - imageB_f) ** 2)/len(imageA_f)).astype(np.float32)"
   ]
  },
  {
   "cell_type": "code",
   "execution_count": 33,
   "metadata": {},
   "outputs": [],
   "source": [
    "def get_avg_batch_loss(model, X, y, batch_size=BATCH_SIZE):\n",
    "    \n",
    "    d={}\n",
    "    \n",
    "    transforms_ = transforms.Compose([transforms.ToTensor()])\n",
    "\n",
    "    # create the train and test datasets\n",
    "    DS = SegmentationDataset(X=X, y=y, transforms=transforms_)\n",
    "    print(f\"[INFO] found {len(DS)} examples in the dataset.\")\n",
    "\n",
    "    # create the training and test data loaders\n",
    "    loader = DataLoader(DS, batch_size=batch_size, pin_memory=PIN_MEMORY, num_workers=os.cpu_count(), shuffle=True, drop_last=True)\n",
    "    steps = len(DS) // batch_size\n",
    "    \n",
    "    model.eval()\n",
    "    \n",
    "    with torch.no_grad():\n",
    "        \n",
    "        dice_loss = DiceLoss()\n",
    "        mse_loss = nn.MSELoss()\n",
    "        \n",
    "        total_valid_dice_loss = 0\n",
    "        total_valid_mse_b1_ip = 0\n",
    "        total_valid_mse_b2_ip = 0\n",
    "        total_valid_mse_b1_b2 = 0\n",
    "        total_valid_kld_loss_ = 0\n",
    "        total_valid_loss      = 0\n",
    "\n",
    "        for (x_v, y_v) in loader:\n",
    "      \n",
    "\t\t\t# send the input to the device\n",
    "            (x_v, y_v) = (x_v.to(DEVICE), y_v.to(DEVICE))\n",
    "\n",
    "\n",
    "\t\t\t# make the predictions and calculate the validation loss\n",
    "            valid_pred_b1_gry, valid_pred_b1_rgb, valid_pred_b2_rgb, valid_kld_loss = model(x_v)\n",
    "\n",
    "            valid_dice_loss = dice_loss(valid_pred_b1_gry, y_v)\n",
    "            valid_mse_b1_ip = mse_loss(valid_pred_b1_rgb.view(-1), x_v.view(-1))\n",
    "            valid_mse_b2_ip = mse_loss(valid_pred_b2_rgb.view(-1), x_v.view(-1))\n",
    "            valid_mse_b1_b2 = mse_loss(valid_pred_b1_rgb.view(-1), valid_pred_b2_rgb.view(-1))\n",
    "\n",
    "            valid_loss = valid_dice_loss + valid_mse_b1_ip + valid_mse_b2_ip + valid_mse_b1_b2 + valid_kld_loss\n",
    "\n",
    "            # add the loss to the total validation loss so far\n",
    "            total_valid_dice_loss += valid_dice_loss\n",
    "            total_valid_mse_b1_ip += valid_mse_b1_ip\n",
    "            total_valid_mse_b2_ip += valid_mse_b2_ip\n",
    "            total_valid_mse_b1_b2 += valid_mse_b1_b2\n",
    "            total_valid_kld_loss_ += valid_kld_loss\n",
    "            total_valid_loss += valid_loss\n",
    "\n",
    "        d['dice']       = (total_valid_dice_loss.cpu().numpy()/steps)\n",
    "        d['mse_b1_ip']  = (total_valid_mse_b1_ip.cpu().numpy()/steps)\n",
    "        d['mse_b2_ip']  = (total_valid_mse_b2_ip.cpu().numpy()/steps)\n",
    "        d['mse_b1_b2']  = (total_valid_mse_b1_b2.cpu().numpy()/steps)\n",
    "        d['kld']        = (total_valid_kld_loss_.cpu().numpy()/steps)\n",
    "        d['loss']       = (total_valid_loss.cpu().numpy()/steps)\n",
    "    \n",
    "    return d"
   ]
  },
  {
   "cell_type": "code",
   "execution_count": 34,
   "metadata": {},
   "outputs": [],
   "source": [
    "def get_item_loss(model, X, y, d):\n",
    "    \n",
    "    model.eval()\n",
    "    \n",
    "    with torch.no_grad():\n",
    "        \n",
    "        image = np.transpose(X, (2, 0, 1))\n",
    "        image = np.expand_dims(image, 0)\n",
    "        image = torch.from_numpy(image).to(DEVICE)\n",
    "                \n",
    "        pred_b1_gry, pred_b1_rgb, pred_b2_rgb, kld_loss  = model(image)\n",
    "        \n",
    "        \n",
    "        image       = image.cpu().numpy()\n",
    "        pred_b1_gry = pred_b1_gry.squeeze().cpu().numpy()\n",
    "        pred_b1_rgb = pred_b1_rgb.cpu().numpy()\n",
    "        pred_b2_rgb = pred_b2_rgb.cpu().numpy()\n",
    "        \n",
    "        dice      = DiceLoss_npy(y, pred_b1_gry)\n",
    "        mse_b1_ip = mse_loss_npy(image, pred_b1_rgb)\n",
    "        mse_b2_ip = mse_loss_npy(image, pred_b2_rgb)\n",
    "        mse_b1_b2 = mse_loss_npy(pred_b1_rgb, pred_b2_rgb)\n",
    "        kld       = kld_loss.cpu().numpy()\n",
    "        \n",
    "        d['dice']      += dice\n",
    "        d['mse_b1_ip'] += mse_b1_ip\n",
    "        d['mse_b2_ip'] += mse_b2_ip\n",
    "        d['mse_b1_b2'] += mse_b1_b2\n",
    "        d['kld']       += kld\n",
    "        d['loss']      += (dice + mse_b1_ip + mse_b2_ip + mse_b1_b2 + kld)\n",
    "    \n",
    "    return d\n",
    "\n",
    "def get_total_loss(model, X, y, avg=False):\n",
    "\n",
    "    d={}\n",
    "    d['dice'] = 0\n",
    "    d['mse_b1_ip'] = 0\n",
    "    d['mse_b2_ip'] = 0\n",
    "    d['mse_b1_b2'] = 0\n",
    "    d['kld'] = 0\n",
    "    d['loss'] = 0\n",
    "    \n",
    "    for i in range(len(y)):\n",
    "        get_item_loss(model2,X[i],y[i],d)\n",
    "\n",
    "    if(avg):\n",
    "        for k in d.keys():\n",
    "            d[k]/=len(y)\n",
    "        \n",
    "    return d"
   ]
  },
  {
   "cell_type": "code",
   "execution_count": 24,
   "metadata": {},
   "outputs": [
    {
     "data": {
      "text/plain": [
       "{'dice': 0.7852417607807091,\n",
       " 'mse_b1_ip': 0.0032308683276334746,\n",
       " 'mse_b2_ip': 0.000919841306565311,\n",
       " 'mse_b1_b2': 0.0021654609192392127,\n",
       " 'kld': 0.042585156243233,\n",
       " 'loss': 0.8341430907103882}"
      ]
     },
     "execution_count": 24,
     "metadata": {},
     "output_type": "execute_result"
    }
   ],
   "source": [
    "get_total_loss(model2, X_valid_npy, y_valid_npy, True)"
   ]
  },
  {
   "cell_type": "code",
   "execution_count": 25,
   "metadata": {},
   "outputs": [
    {
     "name": "stdout",
     "output_type": "stream",
     "text": [
      "[INFO] found 303 examples in the dataset.\n"
     ]
    },
    {
     "data": {
      "text/plain": [
       "{'dice': 0.7861897685740253,\n",
       " 'mse_b1_ip': 0.0031516550004285554,\n",
       " 'mse_b2_ip': 0.0009177680259490564,\n",
       " 'mse_b1_b2': 0.0020916587842179602,\n",
       " 'kld': 0.04258514316168555,\n",
       " 'loss': 0.8349360097752939}"
      ]
     },
     "execution_count": 25,
     "metadata": {},
     "output_type": "execute_result"
    }
   ],
   "source": [
    "get_avg_batch_loss(model2, X_valid_npy, y_valid_npy, 1)"
   ]
  },
  {
   "cell_type": "code",
   "execution_count": 31,
   "metadata": {},
   "outputs": [
    {
     "data": {
      "text/plain": [
       "{'dice': 0.7912083055363053,\n",
       " 'mse_b1_ip': 0.0036996260728975683,\n",
       " 'mse_b2_ip': 0.0009367308651285044,\n",
       " 'mse_b1_b2': 0.0025975441089864386,\n",
       " 'kld': 0.04061295180150631,\n",
       " 'loss': 0.8390551581729615}"
      ]
     },
     "execution_count": 31,
     "metadata": {},
     "output_type": "execute_result"
    }
   ],
   "source": [
    "get_total_loss(model2, X_train_npy, y_train_npy, True)"
   ]
  },
  {
   "cell_type": "code",
   "execution_count": 32,
   "metadata": {},
   "outputs": [
    {
     "name": "stdout",
     "output_type": "stream",
     "text": [
      "[INFO] found 897 examples in the dataset.\n"
     ]
    },
    {
     "data": {
      "text/plain": [
       "{'dice': 0.7909530248397436,\n",
       " 'mse_b1_ip': 0.003657438018781817,\n",
       " 'mse_b2_ip': 0.0009362698930295946,\n",
       " 'mse_b1_b2': 0.002560508689752789,\n",
       " 'kld': 0.04061293841205712,\n",
       " 'loss': 0.8387198729924401}"
      ]
     },
     "execution_count": 32,
     "metadata": {},
     "output_type": "execute_result"
    }
   ],
   "source": [
    "get_avg_batch_loss(model2, X_train_npy, y_train_npy, 1)"
   ]
  },
  {
   "cell_type": "code",
   "execution_count": 40,
   "metadata": {},
   "outputs": [
    {
     "name": "stdout",
     "output_type": "stream",
     "text": [
      "[INFO] training the network...\n"
     ]
    },
    {
     "name": "stderr",
     "output_type": "stream",
     "text": [
      "  0%|          | 0/20 [00:00<?, ?it/s]"
     ]
    },
    {
     "name": "stdout",
     "output_type": "stream",
     "text": [
      "------------------------------------------------------------------------------------------------------------------------------------------------------\n"
     ]
    },
    {
     "name": "stderr",
     "output_type": "stream",
     "text": [
      "  5%|▌         | 1/20 [01:07<21:25, 67.66s/it]"
     ]
    },
    {
     "name": "stdout",
     "output_type": "stream",
     "text": [
      "[INFO] EPOCH: 1/20\n",
      "Train Loss : 0.1686, Train Dice Loss : 0.1634, Train MSE B1 ip : 0.0008, Train MSE B2 ip : 0.0004, Train MSE B1 B2 : 0.0003, Train KLD Loss  : 0.0038\n",
      "Valid Loss : 0.5663, Valid Dice Loss : 0.5613, Valid MSE B1 ip : 0.0015, Valid MSE B2 ip : 0.0007, Valid MSE B1 B2 : 0.0004, Valid KLD Loss  : 0.0024\n",
      "------------------------------------------------------------------------------------------------------------------------------------------------------\n",
      "[INFO] EPOCH: 2/20\n",
      "Train Loss : 0.1729, Train Dice Loss : 0.1667, Train MSE B1 ip : 0.0006, Train MSE B2 ip : 0.0003, Train MSE B1 B2 : 0.0002, Train KLD Loss  : 0.0051\n",
      "Valid Loss : 0.5325, Valid Dice Loss : 0.5244, Valid MSE B1 ip : 0.0008, Valid MSE B2 ip : 0.0002, Valid MSE B1 B2 : 0.0005, Valid KLD Loss  : 0.0067\n",
      "Best validation dice loss: 0.5244 , Saving best model for epoch: 2.\n"
     ]
    },
    {
     "name": "stderr",
     "output_type": "stream",
     "text": [
      " 10%|█         | 2/20 [02:21<21:19, 71.07s/it]"
     ]
    },
    {
     "name": "stdout",
     "output_type": "stream",
     "text": [
      "------------------------------------------------------------------------------------------------------------------------------------------------------\n",
      "[INFO] EPOCH: 3/20\n",
      "Train Loss : 0.1877, Train Dice Loss : 0.1797, Train MSE B1 ip : 0.0007, Train MSE B2 ip : 0.0003, Train MSE B1 B2 : 0.0002, Train KLD Loss  : 0.0067\n",
      "Valid Loss : 0.5344, Valid Dice Loss : 0.5198, Valid MSE B1 ip : 0.0006, Valid MSE B2 ip : 0.0004, Valid MSE B1 B2 : 0.0002, Valid KLD Loss  : 0.0135\n",
      "Best validation dice loss: 0.5198 , Saving best model for epoch: 3.\n"
     ]
    },
    {
     "name": "stderr",
     "output_type": "stream",
     "text": [
      " 15%|█▌        | 3/20 [03:34<20:24, 72.03s/it]"
     ]
    },
    {
     "name": "stdout",
     "output_type": "stream",
     "text": [
      "------------------------------------------------------------------------------------------------------------------------------------------------------\n"
     ]
    },
    {
     "name": "stderr",
     "output_type": "stream",
     "text": [
      " 20%|██        | 4/20 [04:42<18:49, 70.59s/it]"
     ]
    },
    {
     "name": "stdout",
     "output_type": "stream",
     "text": [
      "[INFO] EPOCH: 4/20\n",
      "Train Loss : 0.1773, Train Dice Loss : 0.1612, Train MSE B1 ip : 0.0005, Train MSE B2 ip : 0.0003, Train MSE B1 B2 : 0.0002, Train KLD Loss  : 0.0151\n",
      "Valid Loss : 0.5752, Valid Dice Loss : 0.5722, Valid MSE B1 ip : 0.0005, Valid MSE B2 ip : 0.0003, Valid MSE B1 B2 : 0.0002, Valid KLD Loss  : 0.0020\n",
      "------------------------------------------------------------------------------------------------------------------------------------------------------\n"
     ]
    },
    {
     "name": "stderr",
     "output_type": "stream",
     "text": [
      " 25%|██▌       | 5/20 [05:51<17:27, 69.83s/it]"
     ]
    },
    {
     "name": "stdout",
     "output_type": "stream",
     "text": [
      "[INFO] EPOCH: 5/20\n",
      "Train Loss : 0.1854, Train Dice Loss : 0.1619, Train MSE B1 ip : 0.0005, Train MSE B2 ip : 0.0003, Train MSE B1 B2 : 0.0002, Train KLD Loss  : 0.0225\n",
      "Valid Loss : 0.5554, Valid Dice Loss : 0.5470, Valid MSE B1 ip : 0.0005, Valid MSE B2 ip : 0.0002, Valid MSE B1 B2 : 0.0003, Valid KLD Loss  : 0.0074\n",
      "------------------------------------------------------------------------------------------------------------------------------------------------------\n"
     ]
    },
    {
     "name": "stderr",
     "output_type": "stream",
     "text": [
      " 30%|███       | 6/20 [06:59<16:11, 69.40s/it]"
     ]
    },
    {
     "name": "stdout",
     "output_type": "stream",
     "text": [
      "[INFO] EPOCH: 6/20\n",
      "Train Loss : 0.1678, Train Dice Loss : 0.1619, Train MSE B1 ip : 0.0007, Train MSE B2 ip : 0.0004, Train MSE B1 B2 : 0.0002, Train KLD Loss  : 0.0045\n",
      "Valid Loss : 0.5276, Valid Dice Loss : 0.5220, Valid MSE B1 ip : 0.0009, Valid MSE B2 ip : 0.0002, Valid MSE B1 B2 : 0.0008, Valid KLD Loss  : 0.0037\n",
      "------------------------------------------------------------------------------------------------------------------------------------------------------\n"
     ]
    },
    {
     "name": "stderr",
     "output_type": "stream",
     "text": [
      " 35%|███▌      | 7/20 [08:08<14:58, 69.10s/it]"
     ]
    },
    {
     "name": "stdout",
     "output_type": "stream",
     "text": [
      "[INFO] EPOCH: 7/20\n",
      "Train Loss : 0.1729, Train Dice Loss : 0.1655, Train MSE B1 ip : 0.0006, Train MSE B2 ip : 0.0003, Train MSE B1 B2 : 0.0003, Train KLD Loss  : 0.0063\n",
      "Valid Loss : 0.5589, Valid Dice Loss : 0.5518, Valid MSE B1 ip : 0.0023, Valid MSE B2 ip : 0.0002, Valid MSE B1 B2 : 0.0021, Valid KLD Loss  : 0.0026\n",
      "------------------------------------------------------------------------------------------------------------------------------------------------------\n"
     ]
    },
    {
     "name": "stderr",
     "output_type": "stream",
     "text": [
      " 40%|████      | 8/20 [09:16<13:46, 68.89s/it]"
     ]
    },
    {
     "name": "stdout",
     "output_type": "stream",
     "text": [
      "[INFO] EPOCH: 8/20\n",
      "Train Loss : 0.1818, Train Dice Loss : 0.1736, Train MSE B1 ip : 0.0006, Train MSE B2 ip : 0.0004, Train MSE B1 B2 : 0.0002, Train KLD Loss  : 0.0070\n",
      "Valid Loss : 0.7404, Valid Dice Loss : 0.7322, Valid MSE B1 ip : 0.0013, Valid MSE B2 ip : 0.0015, Valid MSE B1 B2 : 0.0004, Valid KLD Loss  : 0.0051\n",
      "------------------------------------------------------------------------------------------------------------------------------------------------------\n"
     ]
    },
    {
     "name": "stderr",
     "output_type": "stream",
     "text": [
      " 45%|████▌     | 9/20 [10:25<12:36, 68.74s/it]"
     ]
    },
    {
     "name": "stdout",
     "output_type": "stream",
     "text": [
      "[INFO] EPOCH: 9/20\n",
      "Train Loss : 0.1730, Train Dice Loss : 0.1677, Train MSE B1 ip : 0.0007, Train MSE B2 ip : 0.0004, Train MSE B1 B2 : 0.0003, Train KLD Loss  : 0.0040\n",
      "Valid Loss : 0.5926, Valid Dice Loss : 0.5832, Valid MSE B1 ip : 0.0034, Valid MSE B2 ip : 0.0014, Valid MSE B1 B2 : 0.0028, Valid KLD Loss  : 0.0018\n",
      "------------------------------------------------------------------------------------------------------------------------------------------------------\n"
     ]
    },
    {
     "name": "stderr",
     "output_type": "stream",
     "text": [
      " 50%|█████     | 10/20 [11:33<11:26, 68.67s/it]"
     ]
    },
    {
     "name": "stdout",
     "output_type": "stream",
     "text": [
      "[INFO] EPOCH: 10/20\n",
      "Train Loss : 0.1753, Train Dice Loss : 0.1711, Train MSE B1 ip : 0.0006, Train MSE B2 ip : 0.0003, Train MSE B1 B2 : 0.0002, Train KLD Loss  : 0.0031\n",
      "Valid Loss : 0.5397, Valid Dice Loss : 0.5361, Valid MSE B1 ip : 0.0005, Valid MSE B2 ip : 0.0003, Valid MSE B1 B2 : 0.0002, Valid KLD Loss  : 0.0026\n",
      "------------------------------------------------------------------------------------------------------------------------------------------------------\n"
     ]
    },
    {
     "name": "stderr",
     "output_type": "stream",
     "text": [
      " 55%|█████▌    | 11/20 [12:41<10:17, 68.58s/it]"
     ]
    },
    {
     "name": "stdout",
     "output_type": "stream",
     "text": [
      "[INFO] EPOCH: 11/20\n",
      "Train Loss : 0.1578, Train Dice Loss : 0.1515, Train MSE B1 ip : 0.0005, Train MSE B2 ip : 0.0003, Train MSE B1 B2 : 0.0002, Train KLD Loss  : 0.0053\n",
      "Valid Loss : 0.5303, Valid Dice Loss : 0.5249, Valid MSE B1 ip : 0.0007, Valid MSE B2 ip : 0.0003, Valid MSE B1 B2 : 0.0004, Valid KLD Loss  : 0.0040\n",
      "------------------------------------------------------------------------------------------------------------------------------------------------------\n"
     ]
    },
    {
     "name": "stderr",
     "output_type": "stream",
     "text": [
      " 60%|██████    | 12/20 [13:50<09:08, 68.53s/it]"
     ]
    },
    {
     "name": "stdout",
     "output_type": "stream",
     "text": [
      "[INFO] EPOCH: 12/20\n",
      "Train Loss : 0.1559, Train Dice Loss : 0.1485, Train MSE B1 ip : 0.0006, Train MSE B2 ip : 0.0003, Train MSE B1 B2 : 0.0002, Train KLD Loss  : 0.0063\n",
      "Valid Loss : 0.5334, Valid Dice Loss : 0.5200, Valid MSE B1 ip : 0.0004, Valid MSE B2 ip : 0.0001, Valid MSE B1 B2 : 0.0003, Valid KLD Loss  : 0.0127\n",
      "------------------------------------------------------------------------------------------------------------------------------------------------------\n"
     ]
    },
    {
     "name": "stderr",
     "output_type": "stream",
     "text": [
      " 65%|██████▌   | 13/20 [14:58<07:59, 68.52s/it]"
     ]
    },
    {
     "name": "stdout",
     "output_type": "stream",
     "text": [
      "[INFO] EPOCH: 13/20\n",
      "Train Loss : 0.1610, Train Dice Loss : 0.1504, Train MSE B1 ip : 0.0005, Train MSE B2 ip : 0.0002, Train MSE B1 B2 : 0.0002, Train KLD Loss  : 0.0097\n",
      "Valid Loss : 0.5345, Valid Dice Loss : 0.5304, Valid MSE B1 ip : 0.0008, Valid MSE B2 ip : 0.0003, Valid MSE B1 B2 : 0.0006, Valid KLD Loss  : 0.0025\n",
      "------------------------------------------------------------------------------------------------------------------------------------------------------\n"
     ]
    },
    {
     "name": "stderr",
     "output_type": "stream",
     "text": [
      " 70%|███████   | 14/20 [16:07<06:50, 68.48s/it]"
     ]
    },
    {
     "name": "stdout",
     "output_type": "stream",
     "text": [
      "[INFO] EPOCH: 14/20\n",
      "Train Loss : 0.1706, Train Dice Loss : 0.1630, Train MSE B1 ip : 0.0007, Train MSE B2 ip : 0.0004, Train MSE B1 B2 : 0.0002, Train KLD Loss  : 0.0063\n",
      "Valid Loss : 0.5446, Valid Dice Loss : 0.5390, Valid MSE B1 ip : 0.0007, Valid MSE B2 ip : 0.0003, Valid MSE B1 B2 : 0.0003, Valid KLD Loss  : 0.0043\n",
      "------------------------------------------------------------------------------------------------------------------------------------------------------\n"
     ]
    },
    {
     "name": "stderr",
     "output_type": "stream",
     "text": [
      " 75%|███████▌  | 15/20 [17:15<05:42, 68.48s/it]"
     ]
    },
    {
     "name": "stdout",
     "output_type": "stream",
     "text": [
      "[INFO] EPOCH: 15/20\n",
      "Train Loss : 0.1612, Train Dice Loss : 0.1576, Train MSE B1 ip : 0.0007, Train MSE B2 ip : 0.0004, Train MSE B1 B2 : 0.0002, Train KLD Loss  : 0.0024\n",
      "Valid Loss : 0.5912, Valid Dice Loss : 0.5894, Valid MSE B1 ip : 0.0005, Valid MSE B2 ip : 0.0003, Valid MSE B1 B2 : 0.0002, Valid KLD Loss  : 0.0008\n",
      "------------------------------------------------------------------------------------------------------------------------------------------------------\n"
     ]
    },
    {
     "name": "stderr",
     "output_type": "stream",
     "text": [
      " 80%|████████  | 16/20 [18:24<04:33, 68.48s/it]"
     ]
    },
    {
     "name": "stdout",
     "output_type": "stream",
     "text": [
      "[INFO] EPOCH: 16/20\n",
      "Train Loss : 0.1699, Train Dice Loss : 0.1668, Train MSE B1 ip : 0.0006, Train MSE B2 ip : 0.0003, Train MSE B1 B2 : 0.0002, Train KLD Loss  : 0.0020\n",
      "Valid Loss : 0.5714, Valid Dice Loss : 0.5695, Valid MSE B1 ip : 0.0003, Valid MSE B2 ip : 0.0003, Valid MSE B1 B2 : 0.0002, Valid KLD Loss  : 0.0011\n",
      "------------------------------------------------------------------------------------------------------------------------------------------------------\n",
      "[INFO] EPOCH: 17/20\n",
      "Train Loss : 0.1377, Train Dice Loss : 0.1343, Train MSE B1 ip : 0.0005, Train MSE B2 ip : 0.0003, Train MSE B1 B2 : 0.0002, Train KLD Loss  : 0.0025\n",
      "Valid Loss : 0.5067, Valid Dice Loss : 0.5038, Valid MSE B1 ip : 0.0002, Valid MSE B2 ip : 0.0001, Valid MSE B1 B2 : 0.0002, Valid KLD Loss  : 0.0024\n",
      "Best validation dice loss: 0.5038 , Saving best model for epoch: 17.\n"
     ]
    },
    {
     "name": "stderr",
     "output_type": "stream",
     "text": [
      " 85%|████████▌ | 17/20 [19:37<03:29, 69.95s/it]"
     ]
    },
    {
     "name": "stdout",
     "output_type": "stream",
     "text": [
      "------------------------------------------------------------------------------------------------------------------------------------------------------\n"
     ]
    },
    {
     "name": "stderr",
     "output_type": "stream",
     "text": [
      " 90%|█████████ | 18/20 [20:45<02:18, 69.44s/it]"
     ]
    },
    {
     "name": "stdout",
     "output_type": "stream",
     "text": [
      "[INFO] EPOCH: 18/20\n",
      "Train Loss : 0.1260, Train Dice Loss : 0.1225, Train MSE B1 ip : 0.0004, Train MSE B2 ip : 0.0002, Train MSE B1 B2 : 0.0001, Train KLD Loss  : 0.0028\n",
      "Valid Loss : 0.5160, Valid Dice Loss : 0.5121, Valid MSE B1 ip : 0.0002, Valid MSE B2 ip : 0.0001, Valid MSE B1 B2 : 0.0001, Valid KLD Loss  : 0.0034\n",
      "------------------------------------------------------------------------------------------------------------------------------------------------------\n"
     ]
    },
    {
     "name": "stderr",
     "output_type": "stream",
     "text": [
      " 95%|█████████▌| 19/20 [21:54<01:09, 69.16s/it]"
     ]
    },
    {
     "name": "stdout",
     "output_type": "stream",
     "text": [
      "[INFO] EPOCH: 19/20\n",
      "Train Loss : 0.1449, Train Dice Loss : 0.1410, Train MSE B1 ip : 0.0006, Train MSE B2 ip : 0.0003, Train MSE B1 B2 : 0.0002, Train KLD Loss  : 0.0028\n",
      "Valid Loss : 0.5259, Valid Dice Loss : 0.5213, Valid MSE B1 ip : 0.0003, Valid MSE B2 ip : 0.0003, Valid MSE B1 B2 : 0.0002, Valid KLD Loss  : 0.0039\n",
      "------------------------------------------------------------------------------------------------------------------------------------------------------\n"
     ]
    },
    {
     "name": "stderr",
     "output_type": "stream",
     "text": [
      "100%|██████████| 20/20 [23:02<00:00, 69.13s/it]"
     ]
    },
    {
     "name": "stdout",
     "output_type": "stream",
     "text": [
      "[INFO] EPOCH: 20/20\n",
      "Train Loss : 0.1343, Train Dice Loss : 0.1305, Train MSE B1 ip : 0.0008, Train MSE B2 ip : 0.0004, Train MSE B1 B2 : 0.0002, Train KLD Loss  : 0.0024\n",
      "Valid Loss : 0.5561, Valid Dice Loss : 0.5526, Valid MSE B1 ip : 0.0005, Valid MSE B2 ip : 0.0002, Valid MSE B1 B2 : 0.0003, Valid KLD Loss  : 0.0025\n",
      "------------------------------------------------------------------------------------------------------------------------------------------------------\n",
      "[INFO] total time taken to train the model: 1382.69s\n"
     ]
    },
    {
     "name": "stderr",
     "output_type": "stream",
     "text": [
      "\n"
     ]
    }
   ],
   "source": [
    "# initialize a dictionary to store training history\n",
    "train_history = {\n",
    "    \"train_loss\": [],\n",
    "\t\"train_dice_loss\": [],\n",
    "\t\"train_mse_b1_ip\": [],\n",
    "\t\"train_mse_b2_ip\": [],\n",
    "\t\"train_mse_b1_b2\": [],\n",
    "\t\"train_kld_loss_\": [],\n",
    "}\n",
    "\n",
    "valid_history = {\n",
    "\t\"valid_loss\": [],\n",
    "    \"valid_dice_loss\": [],\n",
    "\t\"valid_mse_b1_ip\": [],\n",
    "\t\"valid_mse_b2_ip\": [],\n",
    "\t\"valid_mse_b1_b2\": [],\n",
    "\t\"valid_kld_loss_\": [],\n",
    "}\n",
    "\n",
    "# loop over epochs\n",
    "print(\"[INFO] training the network...\")\n",
    "startTime = time.time()\n",
    "\n",
    "for e in tqdm(range(NUM_EPOCHS)):\n",
    "\n",
    "\tprint(\"-\"*150)\n",
    "\n",
    "\t# set the model in training mode\n",
    "\tmodel2.train()\n",
    " \n",
    "\t# initialize the total training and validation loss\n",
    "\ttotal_train_loss = 0\n",
    "\n",
    "\ttotal_train_dice_loss = 0\n",
    "\ttotal_train_mse_b1_ip = 0\n",
    "\ttotal_train_mse_b2_ip = 0\n",
    "\ttotal_train_mse_b1_b2 = 0\n",
    "\ttotal_train_kld_loss_ = 0\n",
    " \n",
    "\ttotal_valid_loss = 0\n",
    " \n",
    "\ttotal_valid_dice_loss = 0\n",
    "\ttotal_valid_mse_b1_ip = 0\n",
    "\ttotal_valid_mse_b2_ip = 0\n",
    "\ttotal_valid_mse_b1_b2 = 0\n",
    "\ttotal_valid_kld_loss_ = 0\n",
    "\n",
    "\t# loop over the training set\n",
    "\tfor (i, (x, y)) in enumerate(trainLoader):\n",
    "\t\t# print(i)\n",
    "\t\t# send the input to the device\n",
    "\t\t(x, y) = (x.to(DEVICE), y.to(DEVICE))\n",
    "  \n",
    "\t\t# perform a forward pass and calculate the training loss\n",
    "  \n",
    "\t\tpred_b1_gry, pred_b1_rgb, pred_b2_rgb, kld_loss = model2(x)\n",
    "\n",
    "\t\tdice_loss = dice(pred_b1_gry, y)\n",
    "\t\tmse_b1_ip = mse(pred_b1_rgb.view(-1), x.view(-1))\n",
    "\t\tmse_b2_ip = mse(pred_b2_rgb.view(-1), x.view(-1))\n",
    "\t\tmse_b1_b2 = mse(pred_b1_rgb.view(-1), pred_b2_rgb.view(-1))\n",
    "\n",
    "\t\tloss = dice_loss + mse_b1_ip + mse_b2_ip + mse_b1_b2 + kld_loss\n",
    "\n",
    "\t\t# first, zero out any previously accumulated gradients, then\n",
    "\t\t# perform backpropagation, and then update model parameters\n",
    "\t\toptimizer2.zero_grad()\n",
    "\t\tloss.backward()\n",
    "\t\toptimizer2.step()\n",
    "\t\t\n",
    "\t\t# add the loss to the total training loss so far\n",
    "  \n",
    "\t\ttotal_train_dice_loss += dice_loss\n",
    "\t\ttotal_train_mse_b1_ip += mse_b1_ip\n",
    "\t\ttotal_train_mse_b2_ip += mse_b2_ip\n",
    "\t\ttotal_train_mse_b1_b2 += mse_b1_b2\n",
    "\t\ttotal_train_kld_loss_ += kld_loss\n",
    "  \n",
    "\t\ttotal_train_loss += loss\n",
    "\t\n",
    " \n",
    "\t# switch off autograd\n",
    "\twith torch.no_grad():\n",
    "    \n",
    "\t\t# set the model in evaluation mode\n",
    "\t\tmodel2.eval()\n",
    "  \n",
    "\t\t# loop over the validation set\n",
    "\t\tfor (x_v, y_v) in validLoader:\n",
    "      \n",
    "\t\t\t# send the input to the device\n",
    "\t\t\t(x_v, y_v) = (x_v.to(DEVICE), y_v.to(DEVICE))\n",
    "\n",
    "\n",
    "\t\t\t# make the predictions and calculate the validation loss\n",
    "\t\t\tvalid_pred_b1_gry, valid_pred_b1_rgb, valid_pred_b2_rgb, valid_kld_loss = model2(x_v)\n",
    "\n",
    "\t\t\tvalid_dice_loss = dice(valid_pred_b1_gry, y_v)\n",
    "\t\t\tvalid_mse_b1_ip = mse(valid_pred_b1_rgb.view(-1), x_v.view(-1))\n",
    "\t\t\tvalid_mse_b2_ip = mse(valid_pred_b2_rgb.view(-1), x_v.view(-1))\n",
    "\t\t\tvalid_mse_b1_b2 = mse(valid_pred_b1_rgb.view(-1), valid_pred_b2_rgb.view(-1))\n",
    "\n",
    "\t\t\tvalid_loss = valid_dice_loss + valid_mse_b1_ip + valid_mse_b2_ip + valid_mse_b1_b2 + valid_kld_loss\n",
    "   \n",
    "\t\t\t# add the loss to the total validation loss so far\n",
    "\t\t\ttotal_valid_dice_loss += valid_dice_loss\n",
    "\t\t\ttotal_valid_mse_b1_ip += valid_mse_b1_ip\n",
    "\t\t\ttotal_valid_mse_b2_ip += valid_mse_b2_ip\n",
    "\t\t\ttotal_valid_mse_b1_b2 += valid_mse_b1_b2\n",
    "\t\t\ttotal_valid_kld_loss_ += valid_kld_loss\n",
    "   \n",
    "\t\t\ttotal_valid_loss += valid_loss\n",
    "   \n",
    "\t# calculate the average training loss\n",
    "\tavg_train_loss = total_train_loss / trainSteps\n",
    " \n",
    "\tavg_train_dice_loss = total_train_dice_loss / trainSteps\n",
    "\tavg_train_mse_b1_ip = total_train_mse_b1_ip / trainSteps\n",
    "\tavg_train_mse_b2_ip = total_train_mse_b2_ip / trainSteps\n",
    "\tavg_train_mse_b1_b2 = total_train_mse_b1_b2 / trainSteps\n",
    "\tavg_train_kld_loss_ = total_train_kld_loss_ / trainSteps\n",
    "\t\n",
    "\t# calculate the average validation loss\n",
    "\tavg_valid_loss = total_valid_loss / validSteps\n",
    " \n",
    "\tavg_valid_dice_loss = total_valid_dice_loss / validSteps\n",
    "\tavg_valid_mse_b1_ip = total_valid_mse_b1_ip / validSteps\n",
    "\tavg_valid_mse_b2_ip = total_valid_mse_b2_ip / validSteps\n",
    "\tavg_valid_mse_b1_b2 = total_valid_mse_b1_b2 / validSteps\n",
    "\tavg_valid_kld_loss_ = total_valid_kld_loss_ / validSteps\n",
    " \n",
    "\t# update our training history\n",
    "\n",
    "\ttrain_history[\"train_loss\"].append(avg_train_loss.cpu().detach().numpy())\n",
    " \n",
    "\ttrain_history[\"train_dice_loss\"].append(avg_train_dice_loss.cpu().detach().numpy())\n",
    "\ttrain_history[\"train_mse_b1_ip\"].append(avg_train_mse_b1_ip.cpu().detach().numpy())\n",
    "\ttrain_history[\"train_mse_b2_ip\"].append(avg_train_mse_b2_ip.cpu().detach().numpy())\n",
    "\ttrain_history[\"train_mse_b1_b2\"].append(avg_train_mse_b1_b2.cpu().detach().numpy())\n",
    "\ttrain_history[\"train_kld_loss_\"].append(avg_train_kld_loss_.cpu().detach().numpy())\n",
    " \n",
    "\tvalid_history[\"valid_loss\"].append(avg_valid_loss.cpu().detach().numpy())\n",
    " \n",
    "\tvalid_history[\"valid_dice_loss\"].append(avg_valid_dice_loss.cpu().detach().numpy())\n",
    "\tvalid_history[\"valid_mse_b1_ip\"].append(avg_valid_mse_b1_ip.cpu().detach().numpy())\n",
    "\tvalid_history[\"valid_mse_b2_ip\"].append(avg_valid_mse_b2_ip.cpu().detach().numpy())\n",
    "\tvalid_history[\"valid_mse_b1_b2\"].append(avg_valid_mse_b1_b2.cpu().detach().numpy())\n",
    "\tvalid_history[\"valid_kld_loss_\"].append(avg_valid_kld_loss_.cpu().detach().numpy())\n",
    " \n",
    "\t# print the model training and validation information\n",
    "\tprint(\"[INFO] EPOCH: {}/{}\".format(e + 1, NUM_EPOCHS))\n",
    "\n",
    "\tprint(\"Train Loss : {:.4f}, Train Dice Loss : {:.4f}, Train MSE B1 ip : {:.4f}, Train MSE B2 ip : {:.4f}, Train MSE B1 B2 : {:.4f}, Train KLD Loss  : {:.4f}\"\n",
    "    .format(avg_train_loss, avg_train_dice_loss, avg_train_mse_b1_ip, avg_train_mse_b2_ip, avg_train_mse_b1_b2, avg_train_kld_loss_))\n",
    " \n",
    "\tprint(\"Valid Loss : {:.4f}, Valid Dice Loss : {:.4f}, Valid MSE B1 ip : {:.4f}, Valid MSE B2 ip : {:.4f}, Valid MSE B1 B2 : {:.4f}, Valid KLD Loss  : {:.4f}\"\n",
    "    .format(avg_valid_loss, avg_valid_dice_loss, avg_valid_mse_b1_ip, avg_valid_mse_b2_ip, avg_valid_mse_b1_b2, avg_valid_kld_loss_))\n",
    "\n",
    "\tsave_best_model(avg_valid_dice_loss, e, model2, optimizer2)\n",
    "\t\n",
    "# display the total time needed to perform the training\n",
    "endTime = time.time()\n",
    "print(\"-\"*150)\n",
    "print(\"[INFO] total time taken to train the model: {:.2f}s\".format(endTime - startTime))"
   ]
  },
  {
   "cell_type": "code",
   "execution_count": null,
   "metadata": {},
   "outputs": [],
   "source": []
  }
 ],
 "metadata": {
  "kernelspec": {
   "display_name": "torch",
   "language": "python",
   "name": "python3"
  },
  "language_info": {
   "codemirror_mode": {
    "name": "ipython",
    "version": 3
   },
   "file_extension": ".py",
   "mimetype": "text/x-python",
   "name": "python",
   "nbconvert_exporter": "python",
   "pygments_lexer": "ipython3",
   "version": "3.7.13"
  },
  "vscode": {
   "interpreter": {
    "hash": "eb74040e7540b07eacd930ce15e6b854a92adeabedfa59448a5e0c36812bf126"
   }
  }
 },
 "nbformat": 4,
 "nbformat_minor": 2
}
